{
 "cells": [
  {
   "cell_type": "code",
   "execution_count": 16,
   "metadata": {},
   "outputs": [],
   "source": [
    "def foo(n):\n",
    "    if (n > 1) :\n",
    "        print(n)\n",
    "        print( 'hello' )\n",
    "        foo(n/3)\n",
    "        foo(n/3)\n",
    "        foo(n/3)\n",
    "    \n"
   ]
  },
  {
   "cell_type": "code",
   "execution_count": 19,
   "metadata": {},
   "outputs": [],
   "source": [
    "def bar(n):\n",
    "    return n/3+1"
   ]
  },
  {
   "cell_type": "code",
   "execution_count": 21,
   "metadata": {},
   "outputs": [
    {
     "name": "stdout",
     "output_type": "stream",
     "text": [
      "81\n",
      "hello\n",
      "27.0\n",
      "hello\n",
      "9.0\n",
      "hello\n",
      "3.0\n",
      "hello\n",
      "3.0\n",
      "hello\n",
      "3.0\n",
      "hello\n",
      "9.0\n",
      "hello\n",
      "3.0\n",
      "hello\n",
      "3.0\n",
      "hello\n",
      "3.0\n",
      "hello\n",
      "9.0\n",
      "hello\n",
      "3.0\n",
      "hello\n",
      "3.0\n",
      "hello\n",
      "3.0\n",
      "hello\n",
      "27.0\n",
      "hello\n",
      "9.0\n",
      "hello\n",
      "3.0\n",
      "hello\n",
      "3.0\n",
      "hello\n",
      "3.0\n",
      "hello\n",
      "9.0\n",
      "hello\n",
      "3.0\n",
      "hello\n",
      "3.0\n",
      "hello\n",
      "3.0\n",
      "hello\n",
      "9.0\n",
      "hello\n",
      "3.0\n",
      "hello\n",
      "3.0\n",
      "hello\n",
      "3.0\n",
      "hello\n",
      "27.0\n",
      "hello\n",
      "9.0\n",
      "hello\n",
      "3.0\n",
      "hello\n",
      "3.0\n",
      "hello\n",
      "3.0\n",
      "hello\n",
      "9.0\n",
      "hello\n",
      "3.0\n",
      "hello\n",
      "3.0\n",
      "hello\n",
      "3.0\n",
      "hello\n",
      "9.0\n",
      "hello\n",
      "3.0\n",
      "hello\n",
      "3.0\n",
      "hello\n",
      "3.0\n",
      "hello\n",
      "28.0\n"
     ]
    }
   ],
   "source": [
    "n = 81\n",
    "foo(n)\n",
    "print(bar(n))"
   ]
  },
  {
   "cell_type": "code",
   "execution_count": null,
   "metadata": {},
   "outputs": [],
   "source": [
    "print"
   ]
  }
 ],
 "metadata": {
  "kernelspec": {
   "display_name": "Python 3",
   "language": "python",
   "name": "python3"
  },
  "language_info": {
   "codemirror_mode": {
    "name": "ipython",
    "version": 3
   },
   "file_extension": ".py",
   "mimetype": "text/x-python",
   "name": "python",
   "nbconvert_exporter": "python",
   "pygments_lexer": "ipython3",
   "version": "3.6.5"
  }
 },
 "nbformat": 4,
 "nbformat_minor": 2
}
