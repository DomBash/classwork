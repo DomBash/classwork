{
 "cells": [
  {
   "cell_type": "code",
   "execution_count": 7,
   "metadata": {},
   "outputs": [
    {
     "data": {
      "text/plain": [
       "defined \u001b[32mfunction\u001b[39m \u001b[36mfoo\u001b[39m\n",
       "defined \u001b[32mfunction\u001b[39m \u001b[36mbar\u001b[39m\n",
       "defined \u001b[32mfunction\u001b[39m \u001b[36mbaz\u001b[39m"
      ]
     },
     "execution_count": 7,
     "metadata": {},
     "output_type": "execute_result"
    }
   ],
   "source": [
    "def foo(x: Int): Int = x + 2\n",
    "\n",
    "def bar(y: String): String = \"Hello\" + y\n",
    "\n",
    "def baz(z: String): Int = {\n",
    "\n",
    "      val str1 = bar(z)\n",
    "\n",
    "      val siz1 = str1.size\n",
    "\n",
    "      return foo(siz1)\n",
    "\n",
    "}"
   ]
  },
  {
   "cell_type": "code",
   "execution_count": null,
   "metadata": {},
   "outputs": [],
   "source": []
  }
 ],
 "metadata": {
  "kernelspec": {
   "display_name": "Scala",
   "language": "scala",
   "name": "scala"
  },
  "language_info": {
   "codemirror_mode": "text/x-scala",
   "file_extension": ".scala",
   "mimetype": "text/x-scala",
   "name": "scala211",
   "nbconvert_exporter": "script",
   "pygments_lexer": "scala",
   "version": "2.11.11"
  }
 },
 "nbformat": 4,
 "nbformat_minor": 2
}
