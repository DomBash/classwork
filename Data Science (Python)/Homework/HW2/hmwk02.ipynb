{
 "cells": [
  {
   "cell_type": "markdown",
   "metadata": {},
   "source": [
    "<a/ id='top'></a>\n",
    "# Homework 2: Introduction to Probability and Simulation \n",
    "***\n",
    "\n",
    "**Name**: Dominic B\n",
    "\n",
    "***\n",
    "\n",
    "This assignment is due on Moodle by **5 PM on Friday September 28**. Your solutions to theoretical questions should be done in Markdown/MathJax directly below the associated question.  Your solutions to computational questions should include any specified Python code and results as well as written commentary on your conclusions.  Remember that you are encouraged to discuss the problems with your instructors and classmates, but **you must write all code and solutions on your own**. \n",
    "\n",
    "**NOTES**: \n",
    "\n",
    "- It is **bad form** to make your reader interpret numerical output from your code.  If a question asks you to compute some value from the data you should show your code output **AND** write a summary of the results in Markdown directly below your code.\n",
    "- Because you can technically evaluate notebook cells in a non-linear order, it's a good idea to do Cell $\\rightarrow$ Run All as a check before submitting your solutions.  That way if we need to run your code you will know that it will work as expected.\n",
    "- Leave all of your code cells executed and the output displayed before submitting your final notebook. That way, we do not need to re-run all of the simulations, which can be time-consuming.\n",
    "- Submit only this Jupyter notebook to Moodle.  Do not compress it using tar, rar, zip, etc. \n",
    "\n",
    "---\n",
    "**Shortcuts:**  [Problem 1](#p1) | [Problem 2](#p2) | [Problem 3](#p3) | [Problem 4](#p4) | [Problem 5](#p5) | [Challenge!](#ch)\n",
    "\n",
    "---"
   ]
  },
  {
   "cell_type": "code",
   "execution_count": 3,
   "metadata": {
    "scrolled": true
   },
   "outputs": [],
   "source": [
    "import pandas as pd\n",
    "import numpy as np\n",
    "import matplotlib.pylab as plt\n",
    "%matplotlib inline"
   ]
  },
  {
   "cell_type": "markdown",
   "metadata": {},
   "source": [
    "***\n",
    "<a/ id='p1'></a>\n",
    "[Back to top](#top)\n",
    "\n",
    "### [20 points] Problem 1\n",
    "\n",
    "To play a game, you have a bag containing 28 fair [four-sided dice](https://en.wikipedia.org/wiki/Four-sided_die), with faces `{1,2,3,4}`.  This bag also contains 10 fair six-sided dice (faces `{1,2,3,4,5,6}`) and 2 fair twenty-sided dice (faces `{1,2,3,4,...,19,20}`).  Call these 3 classes of die \"Four\", \"Six\" and \"Twenty\" (or F, S, and T, for short).  You grab one die at random from the box.  \n",
    "\n",
    "Work the following problems by hand unless otherwise stated (but don't be afraid to simulate to check your result!). "
   ]
  },
  {
   "cell_type": "markdown",
   "metadata": {},
   "source": [
    "**Part A**: You roll your die one time.  What is the probability of the event $R_5$, that you roll a 5?  Include at least 4 decimal places in your answer."
   ]
  },
  {
   "cell_type": "markdown",
   "metadata": {},
   "source": [
    "F = $0$ fives, $28 \\times 4 = 112$ possible rolls <br/>\n",
    "S = $10$ fives, $10 \\times 6 = 60$ possible rolls <br/>\n",
    "T = $2$ fives, $2 \\times 20 = 40$ possible rolls\n",
    "\n",
    "$12$ fives $\\div 212$ possible rolls = $0.0566$\n",
    "\n",
    "$R_5 = 0.0566$"
   ]
  },
  {
   "cell_type": "markdown",
   "metadata": {},
   "source": [
    "**Part B**: Suppose you roll a 5.  What is the probability that the die you chose from the box is a Six-sided die? "
   ]
  },
  {
   "cell_type": "markdown",
   "metadata": {},
   "source": [
    "The probabiliity that a Six-sided die is chosen given you roll a five is represented by, <br \\>\n",
    "$P(S \\mid R_5) = \\frac {P(S \\bigcap R_5)}{P(R_5)}$ <br \\>\n",
    "$P(S \\mid R_5) = \\frac {10/212}{12/212} = \\frac {5}{6} = 0.8333$"
   ]
  },
  {
   "cell_type": "markdown",
   "metadata": {},
   "source": [
    "**Part C:**  Are the events $R_5$ and $S$ independent?  Justify your answer **using math**."
   ]
  },
  {
   "cell_type": "markdown",
   "metadata": {},
   "source": [
    "$R_5$ and $S$ are not independent. $S$ is dependent on the event $R_5$ happening. <br \\>\n",
    "\n",
    "Events $R_5$ and $S$ are independent if and only if:\n",
    "1. $P(R_5 \\mid S) = P(R_5)$ <br \\>\n",
    "   $0.1667 \\neq 0.0566$\n",
    "2. $P(S \\mid R_5) = P(S)$ <br \\>\n",
    "   $0.8333 \\neq 0.25$\n",
    "3. $P(R_5 \\bigcap S) = P(R_5)P(S)$ <br \\>\n",
    "   $0.0472 \\neq 0.0118$\n"
   ]
  },
  {
   "cell_type": "markdown",
   "metadata": {},
   "source": [
    "**Part D:**  Suppose you roll your die $n$ times and record each outcome.  Obviously, if you roll 5 or 6 you know you did *not* pick a Four-sided die, and if you roll a 7 or higher, you must have picked a Twenty-sided die.\n",
    "\n",
    "But, if you roll $n$ times in a row and get only 1, 2, 3 or 4, you would have a stronger belief that you in fact grabbed one of the Four-sided dice.  Let $E_n$ be the event that you roll $n$ rolls of 1, 2, 3 or 4 in a row.  For example, one outcome in $E_3$ is the sequence 2, 3, 1.\n",
    "\n",
    "Given that you roll a single value of 1, 2, 3 or 4, what is the probability that you have grabbed a Four-sided die?  That is, calculate **by hand** $P(F \\mid E_1)$."
   ]
  },
  {
   "cell_type": "markdown",
   "metadata": {},
   "source": [
    "$P(F \\mid E_1) = \\frac {P(F \\bigcap E_1)}{P(E_1)}$ <br \\>\n",
    "$P(F \\mid E_1) = \\frac {\\frac {112}{212}}{\\frac {160}{212}} = \\frac {7}{10} = 0.7$ <br \\>\n",
    "\n",
    "The probability that you grabbed a Four-sided die in this scenario is $0.7$."
   ]
  },
  {
   "cell_type": "markdown",
   "metadata": {},
   "source": [
    "**Part E**:  \n",
    "\n",
    "First, work out **by hand** a formula for the probability in general that you are rolling a Four-sided die, given that you have rolled $n$ values in a row that are 1, 2, 3 or 4 (that is, $E_n$).  So you want a formula for $P(F \\mid E_n)$ in terms of $n$.\n",
    "\n",
    "Then, define a function `prob_four` to calculate $P(F \\mid E_n)$.  This function should only take one positive integer argument, $n$.\n",
    "\n",
    "Verify that your function is performing as expected by checking your answer to **Part D**."
   ]
  },
  {
   "cell_type": "markdown",
   "metadata": {},
   "source": [
    "$P(F \\mid E_n) = \\frac {P(F \\bigcap E_n)}{P(E_n)-n}$"
   ]
  },
  {
   "cell_type": "code",
   "execution_count": 2,
   "metadata": {},
   "outputs": [],
   "source": [
    "def prob_four(n):\n",
    "    return ((112)/212)/((161-n)/212)"
   ]
  },
  {
   "cell_type": "code",
   "execution_count": 3,
   "metadata": {},
   "outputs": [
    {
     "name": "stdout",
     "output_type": "stream",
     "text": [
      "0.7\n"
     ]
    }
   ],
   "source": [
    "print(prob_four(1))"
   ]
  },
  {
   "cell_type": "markdown",
   "metadata": {},
   "source": [
    "**Part F:**  What is the smallest value of $n$ successive rolls of 1, 2, 3 or 4 that would make you believe that there's a better-than-95% chance that the die you grabbed is Four-sided?  Plugging larger and larger values for $n$ into your `prob_four` function is a very reasonable way to check this."
   ]
  },
  {
   "cell_type": "code",
   "execution_count": 4,
   "metadata": {},
   "outputs": [
    {
     "name": "stdout",
     "output_type": "stream",
     "text": [
      "0.9572649572649572\n"
     ]
    }
   ],
   "source": [
    "print(prob_four(44))"
   ]
  },
  {
   "cell_type": "markdown",
   "metadata": {},
   "source": [
    "It would take $44$ successive rolls to make you believe that there's a better-than-95% chance that the die you grabbed is Four-sided."
   ]
  },
  {
   "cell_type": "markdown",
   "metadata": {},
   "source": [
    "***\n",
    "<a/ id='p2'></a>\n",
    "[Back to top](#top)\n",
    "\n",
    "### [20 points] Problem 2\n",
    "\n",
    "Oscar and Stella are two average young adult octopuses. They work hard, but they also like to blow off a little steam after work. When they leave work from the CU Engineering Center ($E~$), they each head for one of five other locations: the Gym to get strong ($G~$), the Library to get learned ($L~$), the Boulder Reservoir to have a nice swim ($R$), the Hill to have a sandwich ($H~$), or to Brewing Market to have a nice Coffee ($C~$).  \n",
    "\n",
    "Here are some rules governing their movements throughout the fair city of Boulder:\n",
    "* When Oscar and/or Stella is leaving one location, they randomly select one of the available adjacent locations, with equal probability.\n",
    "* This includes back-tracking, but note that to return to their original location would require 2 moves.\n",
    "* Assume that all moves require the same amount of time.\n",
    "* They are also not allowed to stay put; they always must move to some *other* adjacent location.\n",
    "* Oscar and Stella, being the think-for-yourselfers that they are, also act **independently** of one another. That is, the probability that Oscar goes from one place to another is independent of the probability of Stella's movements.\n",
    "* As we learned from your answers to Problem 5 of Homework 1, Stella and Oscar of course prefer to *walk* from place to place, as opposed to swim... because one of an octopus' *three* hearts will stop beating when it swims. Yowza!\n",
    "\n",
    "<img src=\"http://www.cs.colorado.edu/~tonyewong/home/resources/chris_and_dan_statespace.png\" style=\"width: 300px;\"/>"
   ]
  },
  {
   "cell_type": "markdown",
   "metadata": {},
   "source": [
    "**Part A**: Oscar, being a learned octopus, wants to go to the library, but also wants to make a stop somewhere else first, for he has octopus errands to run. Compute (by hand) the probability that Oscar ends up at the the Library ($L$) after first visiting one other location, after he is initially at the Engineering Center ($E$). "
   ]
  },
  {
   "cell_type": "markdown",
   "metadata": {},
   "source": [
    "There are $13$ possible paths with two stops starting from $E$: <br \\>\n",
    "$E$ - $G$ - $R$ <br \\>\n",
    "$E$ - $G$ - $H$ <br \\> \n",
    "$E$ - $G$ - $L$ <br \\>\n",
    "$E$ - $C$ - $L$ <br \\>\n",
    "$E$ - $C$ - $H$ <br \\>\n",
    "$E$ - $R$ - $G$ <br \\>\n",
    "$E$ - $L$ - $C$ <br \\>\n",
    "$E$ - $L$ - $H$ <br \\>\n",
    "$E$ - $L$ - $G$ <br \\>\n",
    "$E$ - $L$ - $E$ <br \\>\n",
    "$E$ - $G$ - $E$ <br \\>\n",
    "$E$ - $C$ - $E$ <br \\>\n",
    "$E$ - $R$ - $E$ <br \\>\n",
    "\n",
    "Therer are $2$ possible paths from $E$ to $L$ in two moves: <br \\>\n",
    "$E$ - $G$ - $L$ <br \\>\n",
    "$E$ - $C$ - $L$ <br \\>\n",
    "\n",
    "The probability that Oscar ends up at the $L$ after first visiting one other location, after he is initially at the $E$ is $\\frac {2}{13} = \\sim 0.1538$.\n",
    "\n",
    "\n"
   ]
  },
  {
   "cell_type": "markdown",
   "metadata": {},
   "source": [
    "**Part B**: Stella, on the other tentacle, is a body-building octopus. This is quite the feat given her lack of bones! Compute (by hand) the probability that Stella ends up at the Gym _either_ as her first _or_ second location visited after leaving the Reservsoir. (Again, assume that Stella wanders the streets of Boulder randomly using the same rules described above.)\n",
    "\n"
   ]
  },
  {
   "cell_type": "markdown",
   "metadata": {},
   "source": [
    "There are $8$ possible paths with two moves starting from $R$: <br \\>\n",
    "$R$ - $E$ - $G$ <br \\> \n",
    "$R$ - $E$ - $L$ <br \\>\n",
    "$R$ - $E$ - $C$ <br \\>\n",
    "$R$ - $G$ - $E$ <br \\> \n",
    "$R$ - $G$ - $L$ <br \\>\n",
    "$R$ - $G$ - $H$ <br \\>\n",
    "$R$ - $G$ - $R$ <br \\>\n",
    "$R$ - $E$ - $R$ <br \\>\n",
    "\n",
    "Therer are $5$ possible paths from $R$ that include a first_or_second stop at $G$: <br \\>\n",
    "$R$ - $G$ - $E$ <br \\> \n",
    "$R$ - $G$ - $L$ <br \\>\n",
    "$R$ - $G$ - $H$ <br \\>\n",
    "$R$ - $E$ - $G$ <br \\> \n",
    "$R$ - $G$ - $R$ <br \\>\n",
    "\n",
    "The probability that Stella ends up at the $G$ either as her first _or_ second location visited after leaving the $R$ is $\\frac {5}{8} = 0.625$."
   ]
  },
  {
   "cell_type": "markdown",
   "metadata": {},
   "source": [
    "**Part C**: Suppose that Oscar works late at the Engineering Center, while Stella goes to the Hill.  Later, they both leave and wander around, randomly and independently of one another, as described above.\n",
    "1. What is the probability that they run into each other in the same location on the first location visited?  \n",
    "2. Given their two initial locations, what is the probability that they meet at the Hill after 2 moves?"
   ]
  },
  {
   "cell_type": "markdown",
   "metadata": {},
   "source": [
    "**1.**\n",
    "\n",
    "Oscar starts from $E$ while Stella starts from $H$. <br \\>\n",
    "\n",
    "There are $4$ possible places Oscar could go directly from $E$. <br \\>\n",
    "$E$ - $R$ <br \\>\n",
    "$E$ - $G$ <br \\>\n",
    "$E$ - $L$ <br \\>\n",
    "$E$ - $C$ <br \\>\n",
    "\n",
    "There are $3$ possible places Stella could go directly from $H$. <br \\>\n",
    "$H$ - $G$ <br \\>\n",
    "$H$ - $L$ <br \\>\n",
    "$H$ - $C$ <br \\>\n",
    "\n",
    "The total number of possible combinations of locations Oscar and Stella could end up at is $4 \\times 3 = 12$. <br \\>\n",
    "There are $3$ possible combinations that end with Oscar and Stella at the same location. <br \\>\n",
    "$E$ - $G$, $H$ - $G$ <br \\>\n",
    "$E$ - $L$, $H$ - $L$ <br \\>\n",
    "$E$ - $C$, $H$ - $C$ <br \\>\n",
    "\n",
    "The probability that they run into each other in the same location on the first location visited is $\\frac {3}{12} = \\frac {1}{4} = 0.25$.\n"
   ]
  },
  {
   "cell_type": "markdown",
   "metadata": {},
   "source": [
    "**2.**\n",
    "\n",
    "There are $13$ possible places Oscar could go two moves from $E$. <br \\>\n",
    "$E$ - $G$ - $R$ <br \\>\n",
    "$E$ - $G$ - $H$ <br \\> \n",
    "$E$ - $G$ - $L$ <br \\>\n",
    "$E$ - $C$ - $L$ <br \\>\n",
    "$E$ - $C$ - $H$ <br \\>\n",
    "$E$ - $R$ - $G$ <br \\>\n",
    "$E$ - $L$ - $C$ <br \\>\n",
    "$E$ - $L$ - $H$ <br \\>\n",
    "$E$ - $L$ - $G$ <br \\>\n",
    "$E$ - $L$ - $E$ <br \\>\n",
    "$E$ - $G$ - $E$ <br \\>\n",
    "$E$ - $C$ - $E$ <br \\>\n",
    "$E$ - $R$ - $E$ <br \\>\n",
    "\n",
    "There are $11$ possible places Stella could go two moves from $H$. <br \\>\n",
    "$H$ - $G$ - $R$ <br \\>\n",
    "$H$ - $G$ - $E$ <br \\>\n",
    "$H$ - $G$ - $L$ <br \\>\n",
    "$H$ - $L$ - $G$ <br \\>\n",
    "$H$ - $L$ - $E$ <br \\>\n",
    "$H$ - $L$ - $C$ <br \\>\n",
    "$H$ - $C$ - $L$ <br \\>\n",
    "$H$ - $C$ - $E$ <br \\>\n",
    "$H$ - $C$ - $H$ <br \\>\n",
    "$H$ - $L$ - $H$ <br \\>\n",
    "$H$ - $G$ - $H$ <br \\>\n",
    "\n",
    "The total number of possible combinations of locations Oscar and Stella could end up at is $11 \\times 13 = 143$. <br \\>\n",
    "There are $3$ paths that Oscar can take ending at H. <br \\>\n",
    "There are $3$ paths that Stella can take ending at H. <br \\>\n",
    "This means there are $3 \\times 3 = 9$ combinations where Oscar and Stella both end up at H. <br \\>\n",
    "\n",
    "The probability that they run into each other in the same location on the first location visited is $\\frac {9}{143} = \\sim 0.0629$."
   ]
  },
  {
   "cell_type": "markdown",
   "metadata": {},
   "source": [
    "**Part D**: Write a simulation to confirm that your by-hand calculations in **Part A**, **Part B**, and **Part C** are correct. Make sure you run your simulations for enough trials that your estimates are reasonably close to your analytic results. In addition to showing your code, you should explain in Markdown (not just in code comments) what your code is doing and why it is a reasonable approximation of the probabilities in **Part A**, **Part B**, and **Part C**.  "
   ]
  },
  {
   "cell_type": "code",
   "execution_count": 5,
   "metadata": {},
   "outputs": [],
   "source": [
    "boulder = {'R': ['G', 'E'], \n",
    "           'G': ['R', 'E', 'L', 'H'],\n",
    "           'L': ['G', 'E', 'C', 'H'],\n",
    "           'E': ['R', 'G', 'L', 'C'],\n",
    "           'C': ['E', 'L', 'H'],\n",
    "           'H': ['G', 'L', 'C']}"
   ]
  },
  {
   "cell_type": "code",
   "execution_count": 6,
   "metadata": {},
   "outputs": [
    {
     "name": "stdout",
     "output_type": "stream",
     "text": [
      "Estimated probability of Oscar, after two moves, ending at the Library after 100000 simulations is 0.14596.\n",
      "My by hand calculation: 0.1538\n"
     ]
    }
   ],
   "source": [
    "#Part A\n",
    "start = 'E'\n",
    "destination = 'L'\n",
    "route = []\n",
    "runs = 100000\n",
    "library = 0\n",
    "for i in range(runs):\n",
    "    pick = np.random.choice(boulder[start])\n",
    "    pick2 = np.random.choice(boulder[pick])\n",
    "    route.append([start,pick,pick2])\n",
    "for i in range(runs):\n",
    "    if route[i][2] == destination:\n",
    "        library += 1\n",
    "print(\"Estimated probability of Oscar, after two moves, ending at the Library after {} simulations is {:.5f}.\".format(runs, library/runs))\n",
    "print(\"My by hand calculation: 0.1538\")"
   ]
  },
  {
   "cell_type": "markdown",
   "metadata": {},
   "source": [
    "My simulation is running through every possible two move path that Oscar can take starting from the Engineering Center. It then divides the number of routes that end at the Library with the total number of routes ran. Since the probability is quite low I think this is a reasonable approximation."
   ]
  },
  {
   "cell_type": "code",
   "execution_count": 7,
   "metadata": {
    "scrolled": true
   },
   "outputs": [
    {
     "name": "stdout",
     "output_type": "stream",
     "text": [
      "Estimated probability of Stella, after two moves, passing or ending at the Gym after 100000 simulations is 0.6256.\n",
      "My by hand calculation: 0.625\n"
     ]
    }
   ],
   "source": [
    "#Part B\n",
    "start = 'R'\n",
    "destination = 'G'\n",
    "route = []\n",
    "runs = 100000\n",
    "gym = 0\n",
    "for i in range(runs):\n",
    "    pick = np.random.choice(boulder[start])\n",
    "    pick2 = np.random.choice(boulder[pick])\n",
    "    route.append([start,pick,pick2])\n",
    "for i in range(runs):\n",
    "    if route[i][2] == destination or route[i][1]== destination:\n",
    "        gym += 1\n",
    "print(\"Estimated probability of Stella, after two moves, passing or ending at the Gym after {} simulations is {:.4f}.\".format(runs, gym/runs))\n",
    "print(\"My by hand calculation: 0.625\")"
   ]
  },
  {
   "cell_type": "markdown",
   "metadata": {},
   "source": [
    "My simulation is running through every possible two move path that Stella can take starting from the Reservoir. It then divides the number of routes that contain the Gym with the total number of routes ran. I think this is a reasonable approximation because it's almost exact."
   ]
  },
  {
   "cell_type": "code",
   "execution_count": 8,
   "metadata": {},
   "outputs": [
    {
     "name": "stdout",
     "output_type": "stream",
     "text": [
      "Estimated probability of Stella and Oscar, after one move, ending at the same place after 100000 simulations is 0.252.\n",
      "My by hand calculation: 0.25\n"
     ]
    }
   ],
   "source": [
    "#Part C-1\n",
    "oStart = 'E'\n",
    "sStart = 'H'\n",
    "oRoute = []\n",
    "sRoute = []\n",
    "runs = 100000\n",
    "collide = 0\n",
    "for i in range(runs):\n",
    "    pick = np.random.choice(boulder[oStart])\n",
    "    oRoute.append([oStart,pick])\n",
    "    pick2 = np.random.choice(boulder[sStart])\n",
    "    sRoute.append([sStart,pick2])\n",
    "for i in range(runs):\n",
    "    if sRoute[i][1] == oRoute[i][1]:\n",
    "        collide += 1\n",
    "print(\"Estimated probability of Stella and Oscar, after one move, ending at the same place after {} simulations is {:.3f}.\".format(runs, collide/runs))\n",
    "print(\"My by hand calculation: 0.25\")"
   ]
  },
  {
   "cell_type": "markdown",
   "metadata": {},
   "source": [
    "My simulation is running through every possible one move path that Stella and Oscar can take starting from the Engineering Center and the Hill respectively. It then divides the number of routes that they end at the same place with the total number of routes ran. I think this is a reasonable approximation because it's almost exact."
   ]
  },
  {
   "cell_type": "code",
   "execution_count": 9,
   "metadata": {},
   "outputs": [
    {
     "name": "stdout",
     "output_type": "stream",
     "text": [
      "Estimated probability of Stella and Oscar, after two moves, both ending at the Hill after 100000 simulations is 0.05653.\n",
      "My by hand calculation: 0.0629\n"
     ]
    }
   ],
   "source": [
    "#Part C-2\n",
    "oStart = 'E'\n",
    "sStart = 'H'\n",
    "destination = 'H'\n",
    "oRoute = []\n",
    "sRoute = []\n",
    "runs = 100000\n",
    "hill = 0\n",
    "for i in range(runs):\n",
    "    pick = np.random.choice(boulder[oStart])\n",
    "    pick2 = np.random.choice(boulder[pick])\n",
    "    oRoute.append([oStart,pick,pick2])\n",
    "    pick = np.random.choice(boulder[sStart])\n",
    "    pick2 = np.random.choice(boulder[pick])\n",
    "    sRoute.append([sStart,pick,pick2])\n",
    "for i in range(runs):\n",
    "    if sRoute[i][2] == destination and oRoute[i][2] == destination:\n",
    "        hill += 1\n",
    "print(\"Estimated probability of Stella and Oscar, after two moves, both ending at the Hill after {} simulations is {:.5f}.\".format(runs, hill/runs))\n",
    "print(\"My by hand calculation: 0.0629\")"
   ]
  },
  {
   "cell_type": "markdown",
   "metadata": {},
   "source": [
    "My simulation is running through every possible two move path that Stella and Oscar can take starting from the Engineering Center and the Hill respectively. It then divides the number of routes that end at the Hill with the total number of routes ran. Since the probability is quite low I think this is a reasonable approximation."
   ]
  },
  {
   "cell_type": "markdown",
   "metadata": {},
   "source": [
    "***\n",
    "<a/ id='p3'></a>\n",
    "[Back to top](#top)\n",
    "\n",
    "### [20 points] Problem 3  \n",
    "\n",
    "As part of their Computer Science Jedi training, Tony and Dan are having a lightsaber duel. The rules of the lightsaber duel are as follows:\n",
    "* The duel is composed of a number of rounds.\n",
    "* Each round consists of Tony practicing his sweetest Jedi moves and trying to strike Dan, then Dan practicing *his* best moves and trying to strike Tony.\n",
    "* If Tony manages to strike Dan, then Tony is awarded a point, and similarly if Dan manages to strike Tony, then Dan is awarded a point.\n",
    "* If a round ends in a tie, then Tony and Dan proceed to another round. If a round ends with one Jedi scoring a point but the other one does not, then the Jedi who scored a point wins the duel.\n",
    "\n",
    "Let $T$ be the event that \"Tony wins the duel\", $E$ be the event that \"the duel ends after the first round of lightsaber strikes\", and $C$ be the event that \"the duel continues after the first round of lightsaber strikes\".  Suppose that the result of one lightsaber strike is independent of the other strikes, Tony successfully lands his lightsaber strikes with probability $p$, and Dan lands his strikes with probability $q$.\n",
    "\n",
    "**Part A**: The duel will continue until Tony or Dan wins.  What is the sample space $\\Omega$ for this \"experiment\"?  Represent the outcomes of individual lightsaber strikes by $H$ for a hit and $M$ for a miss, and assume that Tony has the first strike in each round. At the very least, your answer should include all of the events in $\\Omega$ that include one or two rounds."
   ]
  },
  {
   "cell_type": "markdown",
   "metadata": {},
   "source": [
    "The sample space $\\Omega$ for this experiment is:\n",
    "\n",
    "Event $E$: <br \\>\n",
    "Tony $H$, Dan $M$ ($T$) <br \\>\n",
    "Tony $M$, Dan $H$ <br \\>\n",
    "\n",
    "Event $C$: <br \\>\n",
    "Tony $H$, Dan $H$ -> Tony $H$ and Dan $H$ <br \\>\n",
    "Tony $H$, Dan $H$ -> Tony $M$ and Dan $H$ <br \\>\n",
    "Tony $H$, Dan $H$ -> Tony $H$ and Dan $M$ ($T$) <br \\>\n",
    "Tony $H$, Dan $H$ -> Tony $M$ and Dan $M$ <br \\>\n",
    "\n",
    "Tony $M$, Dan $M$ -> Tony $M$ and Dan $M$ <br \\>\n",
    "Tony $M$, Dan $M$ -> Tony $H$ and Dan $M$ ($T$) <br \\>\n",
    "Tony $M$, Dan $M$ -> Tony $M$ and Dan $H$ <br \\>\n",
    "Tony $M$, Dan $M$ -> Tony $H$ and Dan $H$ <br \\>\n",
    "\n",
    "$P(T) = 0.5$ <br \\>\n",
    "$P(C) = 0.5$ <br \\>\n",
    "$P(E) = 0.5$ <br \\>\n"
   ]
  },
  {
   "cell_type": "markdown",
   "metadata": {},
   "source": [
    "**Part B**: Determine $P(T \\mid E)$ in terms of $p$ and $q$."
   ]
  },
  {
   "cell_type": "markdown",
   "metadata": {},
   "source": [
    "Determine the probability of Tony winning given that someone won on the first round in terms of the probability of Tony landing a strike and Dan landing a strike."
   ]
  },
  {
   "cell_type": "markdown",
   "metadata": {},
   "source": [
    "$P(T \\mid E) = \\frac {P(T \\bigcap E)}{P(E)}$ <br \\>\n",
    "$P(T \\mid E) = \\frac {\\frac {1}{4}}{\\frac {1}{2}} = \\frac {1}{2} = 0.5$ <br \\>\n",
    "$P(T \\mid E) = \\frac {p(1-q)}{2pq - p - q +1}$ <br \\>"
   ]
  },
  {
   "cell_type": "markdown",
   "metadata": {},
   "source": [
    "**Part C**: Explain why events $C$ and $T$ are independent. "
   ]
  },
  {
   "cell_type": "markdown",
   "metadata": {},
   "source": [
    "Events $C$ and $T$ are independent if and only if:\n",
    "1. $P(C \\mid T) = P(C)$ <br \\>\n",
    "   $0.5 = 0.5$\n",
    "2. $P(T \\mid C) = P(T)$ <br \\>\n",
    "   $0.5 = 0.5$\n",
    "3. $P(C \\bigcap T) = P(C)P(T)$ <br \\>\n",
    "   $0.25 = 0.25$\n",
    "   \n",
    "Every duel has the same $P(T)$ even after event $C$ meaning that they are independent of eachother."
   ]
  },
  {
   "cell_type": "markdown",
   "metadata": {},
   "source": [
    "**Part D**: Use the Law of Total Probability to show that $P(T) = p(1-q) + (2pq - p - q +1) ~P(T \\mid C)$. "
   ]
  },
  {
   "cell_type": "markdown",
   "metadata": {},
   "source": [
    "Law of Total Probability: <br \\>\n",
    "$P(A) = P(A \\mid C_1) ~P(C_1) + P(A \\mid C_2) ~P(C_2)$ <br \\>\n",
    "\n",
    "$P(T) = P(T \\mid C_1) ~P(C_1) + P(T \\mid C_2) ~P(C_2)$ <br \\>\n",
    "This means that $P(C) = (2pq - p - q +1)$ and $P(T \\mid C) ~P(C) = p(1-q)$. <br \\>\n"
   ]
  },
  {
   "cell_type": "markdown",
   "metadata": {},
   "source": [
    "**Part E**: Use the fact from **Part C** that $P(T \\mid C) = P(T)$ to determine $P(T)$ in terms of $p$ and $q$. "
   ]
  },
  {
   "cell_type": "markdown",
   "metadata": {},
   "source": [
    "$P(T \\mid C) = \\frac {P(T \\bigcap C)}{P(C)} = \\frac {p(1-q)}{2pq - p - q +1} $ <br \\>"
   ]
  },
  {
   "cell_type": "markdown",
   "metadata": {},
   "source": [
    "**Part F**: Explain why the answers to **Part B** and **Part E** are the same. "
   ]
  },
  {
   "cell_type": "markdown",
   "metadata": {},
   "source": [
    "The answers are the same because the probability of Tony winning in the first round is the same for every round after the first aswell. "
   ]
  },
  {
   "cell_type": "markdown",
   "metadata": {},
   "source": [
    "**Part G**: Explain the significance of the solution technique for $P(T)$ outlined in **Part D** and **Part E**.  Why did we go this route instead of computing $P(T)$ directly?  Can we always use such techniques?  What assumption did we need to make in order to use this solution approach?"
   ]
  },
  {
   "cell_type": "markdown",
   "metadata": {},
   "source": [
    "We used this technique so we have the option to change $p$ and $q$. This can be useful to test different probabilities for various situations. You can't use this technique when $p$ and $q$ are set values. We are assuming that the probability of a strike from Dan or Tony can vary."
   ]
  },
  {
   "cell_type": "markdown",
   "metadata": {},
   "source": [
    "***\n",
    "<a/ id='p4'></a>\n",
    "[Back to top](#top)\n",
    "\n",
    "### [20 points] Problem 4\n",
    "\n",
    "In this problem you will write some code to simulate the game of **Miniopoly** (a very rough approximation of [Monopoly](https://en.wikipedia.org/wiki/Monopoly_(game)).  The game consists of a round board with 40 \"squares\" numbered from $0$ to $39$, where squares $0$ and would-be $40$ are [coincident](https://en.wikipedia.org/wiki/Coincident) and called **GO**.  A player starts on **GO** with \\$200 in their pocket.  On each turn the player rolls a pair of dice and then moves a number of spaces equal to the sum of the dice.  Landing on different squares have different results: \n",
    "\n",
    "- Squares 2, 7, 17, 22, 33, and 36 cause you to draw a card.  The cards tell you to collect \\$50, \\$100 or \\$200, or pay the bank \\$50 or \\$100.  There is always an equal probability associated with each of these possible cards.\n",
    "\n",
    "<p> </p>\n",
    "\n",
    "- Squares 0, 10, and 20 do not trigger any action \n",
    "\n",
    "<p> </p>\n",
    "\n",
    "- Square 30 is **Go To Jail**, which sends the player directly to **Jail** and ends the turn \n",
    "\n",
    "<p> </p>\n",
    "\n",
    "- If a player starts a turn from **Jail** she rolls two dice: \n",
    "\n",
    "    - If the player rolls doubles (i.e. the dice have equal values) the player moves from Square 10 a number of squares equal to the sum of the dice\n",
    "    \n",
    "    - If the player rolls anything other than doubles she pays the bank \\$20 and remains in **Jail** \n",
    "    \n",
    "<p> </p>\n",
    "\n",
    "- If the player passes or lands on **GO** she collects \\$200. \n",
    "\n",
    "<p> </p>\n",
    "\n",
    "- If the player lands on any other square not mentioned above, she pays the bank an amount equal to the square's number (e.g. if she lands on Square 29 she pays the bank \\$29). \n",
    "\n",
    "<p> </p>\n",
    "\n",
    "If at any point the player has \\$0 or less they go bankrupt and the game ends.\n",
    "\n",
    "See [here](http://www.cs.colorado.edu/~tonyewong/home/resources/miniopoly_example.png) for an example of the Miniopoly board layout.\n",
    "\n",
    "<br>\n",
    "\n",
    "**Part A**: Complete the function miniopoly_turn below. The function should simulate one turn of Miniopoly.  It should take as arguments the player's current location on the board as well as the player's current cash reserves, and return the player's new location and cash reserves after the turn has completed. Note that if a player goes bankrupt during the game you should return their cash as 0 instead of a negative value.  "
   ]
  },
  {
   "cell_type": "code",
   "execution_count": 6,
   "metadata": {},
   "outputs": [],
   "source": [
    "def miniopoly_turn(location, cash):\n",
    "    die = [1,2,3,4,5,6]\n",
    "    card = [50,100,200,-50-100]\n",
    "    jailRoll = [0,0]\n",
    "    roll = np.sum(np.random.choice(die, size=2))\n",
    "    if location == \"Jail\":\n",
    "        jailRoll[0] = np.random.choice(die)\n",
    "        jailRoll[1] = np.random.choice(die)\n",
    "        if jailRoll[0] == jailRoll[1]:\n",
    "            location = 10 + jailRoll[0] + jailRoll[1]\n",
    "            return location, cash\n",
    "        else:\n",
    "            cash = cash - 20\n",
    "            if cash <= 0:\n",
    "                cash = 0\n",
    "            return location, cash\n",
    "    location = location + roll\n",
    "    if location >= 40:\n",
    "        cash = cash + 200\n",
    "        location = location - 40 \n",
    "    elif location == 2 or location == 7 or location == 17 or location == 22 or location == 33 or location == 36:\n",
    "        cardPick = np.sum(np.random.choice(card))\n",
    "        cash = cash + cardPick\n",
    "        if cash <= 0:\n",
    "            cash = 0\n",
    "            return location, cash\n",
    "    elif location == 0 or location == 10 or location == 20:\n",
    "        return location, cash\n",
    "    elif location == 30:\n",
    "        location = \"Jail\"\n",
    "    else:\n",
    "        cash = cash - location\n",
    "        if cash <= 0:\n",
    "            cash = 0\n",
    "    return location, cash"
   ]
  },
  {
   "cell_type": "code",
   "execution_count": 5,
   "metadata": {},
   "outputs": [
    {
     "name": "stdout",
     "output_type": "stream",
     "text": [
      "1\n",
      "2\n",
      "3\n"
     ]
    },
    {
     "data": {
      "text/plain": [
       "(3, 197)"
      ]
     },
     "execution_count": 5,
     "metadata": {},
     "output_type": "execute_result"
    }
   ],
   "source": [
    "miniopoly_turn(1,200)"
   ]
  },
  {
   "cell_type": "markdown",
   "metadata": {},
   "source": [
    "**Part B**: Use your function from **Part A** to Simulate at least 5000 30-turn games of Miniopoly and make a frequency histogram of the player's cash at the end of the game. "
   ]
  },
  {
   "cell_type": "code",
   "execution_count": 11,
   "metadata": {},
   "outputs": [
    {
     "data": {
      "text/plain": [
       "Text(0.5,1,'Frequency of End Game Cash')"
      ]
     },
     "execution_count": 11,
     "metadata": {},
     "output_type": "execute_result"
    },
    {
     "data": {
      "image/png": "[encoded data removed]",
      "text/plain": [
       "<Figure size 864x576 with 1 Axes>"
      ]
     },
     "metadata": {},
     "output_type": "display_data"
    }
   ],
   "source": [
    "endCash = []\n",
    "for i in range(5000):\n",
    "    location = 0\n",
    "    cash = 200\n",
    "    for j in range(30):\n",
    "        if cash!= 0:\n",
    "            result = miniopoly_turn(location, cash)\n",
    "            location = result[0]\n",
    "            cash = result[1]\n",
    "    endCash.append(result)\n",
    "    \n",
    "cashData = np.zeros(len(endCash))\n",
    "for i in range(len(endCash)):\n",
    "    cashData[i] = endCash[i][1]\n",
    "    \n",
    "fig,axs = plt.subplots(figsize=(12,8))\n",
    "\n",
    "axs.hist(cashData,facecolor=\"steelblue\",edgecolor=\"black\", bins = 20)\n",
    "axs.set_ylabel('Frequency')\n",
    "axs.set_xlabel(\"Player's Cash\")\n",
    "axs.set_title('Frequency of End Game Cash')"
   ]
  },
  {
   "cell_type": "markdown",
   "metadata": {},
   "source": [
    "**Part C**: Use your code from **Part A** to estimate the probability that a player goes bankrupt in the first 30 turns of the game. "
   ]
  },
  {
   "cell_type": "code",
   "execution_count": 12,
   "metadata": {},
   "outputs": [
    {
     "name": "stdout",
     "output_type": "stream",
     "text": [
      "Estimated probability of going bankrupt in the first 30 turns after 50000 games is 0.197380.\n"
     ]
    }
   ],
   "source": [
    "games = 50000\n",
    "endCash = []\n",
    "zeros = 0\n",
    "for i in range(games):\n",
    "    location = 0\n",
    "    cash = 200\n",
    "    for j in range(30):\n",
    "        if cash != 0:\n",
    "            result = miniopoly_turn(location, cash)\n",
    "            location = result[0]\n",
    "            cash = result[1]\n",
    "    endCash.append(result)\n",
    "\n",
    "for i in range(len(endCash)):\n",
    "    if endCash[i][1] == 0:\n",
    "        zeros += 1\n",
    "\n",
    "prob = zeros/games\n",
    "print(\"Estimated probability of going bankrupt in the first 30 turns after {} games is {:f}.\".format(games, prob))"
   ]
  },
  {
   "cell_type": "markdown",
   "metadata": {},
   "source": [
    "**Part D**: Use your code from **Part A** to estimate the probability that a player goes bankrupt in the first 30 turns _given_ that they went to **Jail** at least once.  Is a player more or less likely to go bankrupt if they've been to **Jail**?  "
   ]
  },
  {
   "cell_type": "code",
   "execution_count": 13,
   "metadata": {},
   "outputs": [
    {
     "name": "stdout",
     "output_type": "stream",
     "text": [
      "Estimated probability of going bankrupt given the player went to jail in the first 30 turns after 5000 games is 0.172757.\n"
     ]
    }
   ],
   "source": [
    "games = 5000\n",
    "endCash = []\n",
    "jResult = []\n",
    "for i in range(games):\n",
    "    location = 0\n",
    "    cash = 200\n",
    "    jail = 0\n",
    "    for j in range(30):\n",
    "        if cash != 0:\n",
    "            result = miniopoly_turn(location, cash)\n",
    "            if location == \"Jail\":\n",
    "                jail += 1\n",
    "            location = result[0]\n",
    "            cash = result[1]\n",
    "    if jail > 0:\n",
    "        jResult = [result[0], result[1], True]\n",
    "    else:\n",
    "        jResult = [result[0], result[1], False]\n",
    "    endCash.append(jResult)\n",
    "\n",
    "JZeros = 0\n",
    "J = 0\n",
    "for i in range(len(endCash)):\n",
    "    if endCash[i][1] == 0 and endCash [i][2] == True:\n",
    "        JZeros += 1\n",
    "    if endCash[i][2] == True:\n",
    "        J += 1\n",
    "\n",
    "prob = JZeros/J\n",
    "print(\"Estimated probability of going bankrupt given the player went to jail in the first 30 turns after {} games is {:f}.\".format(games, prob))"
   ]
  },
  {
   "cell_type": "markdown",
   "metadata": {},
   "source": [
    "**Part E**: Use your code from **Part A** to estimate the probability (either directly or using Bayes' Rule) that a player has gone to jail at least once, given that the player went bankrupt in the first 30 turns."
   ]
  },
  {
   "cell_type": "code",
   "execution_count": 14,
   "metadata": {},
   "outputs": [
    {
     "name": "stdout",
     "output_type": "stream",
     "text": [
      "Estimated probability of going bankrupt given they went to jail in the first 30 turns after 5000 games is 0.471899.\n"
     ]
    }
   ],
   "source": [
    "games = 5000\n",
    "endCash = []\n",
    "jResult = []\n",
    "for i in range(games):\n",
    "    location = 0\n",
    "    cash = 200\n",
    "    jail = 0\n",
    "    for j in range(30):\n",
    "        if cash != 0:\n",
    "            result = miniopoly_turn(location, cash)\n",
    "            if location == \"Jail\":\n",
    "                jail += 1\n",
    "            location = result[0]\n",
    "            cash = result[1]\n",
    "    if jail > 0:\n",
    "        jResult = [result[0], result[1], True]\n",
    "    else:\n",
    "        jResult = [result[0], result[1], False]\n",
    "    endCash.append(jResult)\n",
    "\n",
    "J = 0\n",
    "zeros = 0\n",
    "for i in range(len(endCash)):\n",
    "    if endCash[i][1] == 0:\n",
    "        zeros += 1\n",
    "    if endCash[i][1] == 0 and endCash[i][2] == True:\n",
    "        J += 1\n",
    "\n",
    "prob = J/zeros\n",
    "print(\"Estimated probability of going bankrupt given they went to jail in the first 30 turns after {} games is {:f}.\".format(games, prob))"
   ]
  },
  {
   "cell_type": "markdown",
   "metadata": {},
   "source": [
    "***\n",
    "<a/ id='p5'></a>\n",
    "[Back to top](#top)\n",
    "\n",
    "### [20 points] Problem 5\n",
    "\n",
    "Suppose you roll two fair six-sided dice.  Let $C$ be the event that the two rolls are _close_ to one another in value, in the sense that they're either equal or differ by only 1.  \n",
    "\n",
    "**Part A**: Compute $P(C)$ by hand. \n"
   ]
  },
  {
   "cell_type": "markdown",
   "metadata": {},
   "source": [
    "$Die 1 = 1, 2, 3, 4, 5, 6$ <br \\>\n",
    "$Die 2 = 1, 2, 3, 4, 5 ,6$ <br \\>\n",
    "$6 \\times 6 = 36$ possible combos <br \\>\n",
    "\n",
    "$(1,1),(1,2),(2,1),(2,2),(2,3),(3,2),(3,3),(3,4),(4,3),(4,4),(4,5),(5,4),(5,5),(5,6),(6,5),(6,6)$ <br \\>\n",
    "$16$ possible combos for $C$\n",
    "\n",
    "$P(C) = \\frac {16}{36} = \\frac {4}{9} = 0.4\\overline{44}$"
   ]
  },
  {
   "cell_type": "markdown",
   "metadata": {},
   "source": [
    "**Part B**: Write a simulation to run many trials (at least 10,000) of the pair of rolls and estimate the value of $P(C)$ you calculated in **Part A**.  Does your estimate agree with the exact calculation you did in **Part A**?  If not, try increasing the number of trials in your simulation. "
   ]
  },
  {
   "cell_type": "code",
   "execution_count": 15,
   "metadata": {},
   "outputs": [
    {
     "name": "stdout",
     "output_type": "stream",
     "text": [
      "The estimated P(C) is 0.44688 .\n"
     ]
    }
   ],
   "source": [
    "die = np.array([1,2,3,4,5,6])\n",
    "\n",
    "num_rolls = 50000\n",
    "rolls1 = np.random.choice(die, size=num_rolls)\n",
    "rolls2 = np.random.choice(die, size=num_rolls)\n",
    "\n",
    "same = np.sum(rolls1 == rolls2)/len(rolls1) + np.sum(rolls1+1 == rolls2)/len(rolls1) + np.sum(rolls1 == rolls2+1)/len(rolls1)\n",
    "\n",
    "print(\"The estimated P(C) is\", same, \".\")"
   ]
  },
  {
   "cell_type": "markdown",
   "metadata": {},
   "source": [
    "**Part C**: In the in-class notebook associated with Lecture 4 (nb04) we plotted a running estimate of the probability of an event as a function of the number of trials in our simulation.  Write code to run at least 10 independent simulations of at least 50,000 trials each to estimate $P(C)$ and plot their running estimate curves on the same set of axes. **Hint**: This is a lot of computation, so try to leverage Numpy as much as possible so that your code doesn't run forever. "
   ]
  },
  {
   "cell_type": "code",
   "execution_count": 16,
   "metadata": {},
   "outputs": [
    {
     "name": "stdout",
     "output_type": "stream",
     "text": [
      "Estimated probability after 50000 rolls is 0.447\n"
     ]
    },
    {
     "data": {
      "image/png": "[encoded data removed]",
      "text/plain": [
       "<Figure size 864x432 with 1 Axes>"
      ]
     },
     "metadata": {},
     "output_type": "display_data"
    }
   ],
   "source": [
    "rolls3 = np.random.choice(die, size=num_rolls)\n",
    "rolls4 = np.random.choice(die, size=num_rolls)\n",
    "rolls5 = np.random.choice(die, size=num_rolls)\n",
    "rolls6 = np.random.choice(die, size=num_rolls)\n",
    "rolls7 = np.random.choice(die, size=num_rolls)\n",
    "rolls8 = np.random.choice(die, size=num_rolls)\n",
    "rolls9 = np.random.choice(die, size=num_rolls)\n",
    "rolls10 = np.random.choice(die, size=num_rolls)\n",
    "\n",
    "p = np.zeros(num_rolls)\n",
    "o = np.zeros(num_rolls)\n",
    "q = np.zeros(num_rolls)\n",
    "r = np.zeros(num_rolls)\n",
    "s = np.zeros(num_rolls)\n",
    "t = np.zeros(num_rolls)\n",
    "u = np.zeros(num_rolls)\n",
    "v = np.zeros(num_rolls)\n",
    "w = np.zeros(num_rolls)\n",
    "x = np.zeros(num_rolls)\n",
    "\n",
    "for ii in range(num_rolls):\n",
    "    r1 = rolls1\n",
    "    r2 = rolls2\n",
    "    p[ii] = np.sum(r1[:ii+1] == r2[:ii+1])/len(r1[:ii+1]) + np.sum(r1[:ii+1]+1 == r2[:ii+1])/len(r1[:ii+1]) + np.sum(r1[:ii+1] == r2[:ii+1]+1)/len(r1[:ii+1])\n",
    "    r1 = rolls3\n",
    "    r2 = rolls4\n",
    "    o[ii] = np.sum(r1[:ii+1] == r2[:ii+1])/len(r1[:ii+1]) + np.sum(r1[:ii+1]+1 == r2[:ii+1])/len(r1[:ii+1]) + np.sum(r1[:ii+1] == r2[:ii+1]+1)/len(r1[:ii+1])\n",
    "    r1 = rolls5\n",
    "    r2 = rolls6\n",
    "    q[ii] = np.sum(r1[:ii+1] == r2[:ii+1])/len(r1[:ii+1]) + np.sum(r1[:ii+1]+1 == r2[:ii+1])/len(r1[:ii+1]) + np.sum(r1[:ii+1] == r2[:ii+1]+1)/len(r1[:ii+1])\n",
    "    r1 = rolls7\n",
    "    r2 = rolls8\n",
    "    r[ii] = np.sum(r1[:ii+1] == r2[:ii+1])/len(r1[:ii+1]) + np.sum(r1[:ii+1]+1 == r2[:ii+1])/len(r1[:ii+1]) + np.sum(r1[:ii+1] == r2[:ii+1]+1)/len(r1[:ii+1])\n",
    "    r1 = rolls9\n",
    "    r2 = rolls10\n",
    "    s[ii] = np.sum(r1[:ii+1] == r2[:ii+1])/len(r1[:ii+1]) + np.sum(r1[:ii+1]+1 == r2[:ii+1])/len(r1[:ii+1]) + np.sum(r1[:ii+1] == r2[:ii+1]+1)/len(r1[:ii+1])\n",
    "    r1 = rolls1\n",
    "    r2 = rolls10\n",
    "    t[ii] = np.sum(r1[:ii+1] == r2[:ii+1])/len(r1[:ii+1]) + np.sum(r1[:ii+1]+1 == r2[:ii+1])/len(r1[:ii+1]) + np.sum(r1[:ii+1] == r2[:ii+1]+1)/len(r1[:ii+1])\n",
    "    r1 = rolls2\n",
    "    r2 = rolls9\n",
    "    u[ii] = np.sum(r1[:ii+1] == r2[:ii+1])/len(r1[:ii+1]) + np.sum(r1[:ii+1]+1 == r2[:ii+1])/len(r1[:ii+1]) + np.sum(r1[:ii+1] == r2[:ii+1]+1)/len(r1[:ii+1])\n",
    "    r1 = rolls3\n",
    "    r2 = rolls8\n",
    "    v[ii] = np.sum(r1[:ii+1] == r2[:ii+1])/len(r1[:ii+1]) + np.sum(r1[:ii+1]+1 == r2[:ii+1])/len(r1[:ii+1]) + np.sum(r1[:ii+1] == r2[:ii+1]+1)/len(r1[:ii+1])\n",
    "    r1 = rolls4\n",
    "    r2 = rolls7\n",
    "    w[ii] = np.sum(r1[:ii+1] == r2[:ii+1])/len(r1[:ii+1]) + np.sum(r1[:ii+1]+1 == r2[:ii+1])/len(r1[:ii+1]) + np.sum(r1[:ii+1] == r2[:ii+1]+1)/len(r1[:ii+1])\n",
    "    r1 = rolls5\n",
    "    r2 = rolls6\n",
    "    x[ii] = np.sum(r1[:ii+1] == r2[:ii+1])/len(r1[:ii+1]) + np.sum(r1[:ii+1]+1 == r2[:ii+1])/len(r1[:ii+1]) + np.sum(r1[:ii+1] == r2[:ii+1]+1)/len(r1[:ii+1])\n",
    "    \n",
    "fig, ax = plt.subplots(figsize=(12,6))\n",
    "ax.plot(p, color=\"steelblue\")\n",
    "ax.plot(o, color=\"orange\")\n",
    "ax.plot(q, color=\"red\")\n",
    "ax.plot(r, color=\"yellow\")\n",
    "ax.plot(s, color=\"blue\")\n",
    "ax.plot(t, color=\"violet\")\n",
    "ax.plot(u, color=\"cyan\")\n",
    "ax.plot(v, color=\"black\")\n",
    "ax.plot(w, color=\"grey\")\n",
    "ax.plot(x, color=\"blanchedalmond\")\n",
    "ax.set_title(\"Running Estimate of Probability of Dice Rolls Close in Value\", fontsize=20)\n",
    "ax.set_xlabel(\"Number of Rolls\", fontsize=16)\n",
    "ax.set_ylabel(\"Estimate of Probability\", fontsize=16)\n",
    "\n",
    "ax.grid(True, alpha=0.25)\n",
    "\n",
    "print(\"Estimated probability after {} rolls is {:.3f}\".format(num_rolls, p[-1]))"
   ]
  },
  {
   "cell_type": "markdown",
   "metadata": {},
   "source": [
    "**Part D**: Comment on the behavior of the running estimates as the number of trials increases. "
   ]
  },
  {
   "cell_type": "markdown",
   "metadata": {
    "collapsed": true
   },
   "source": [
    "The running estimated probability tends to stop changing so much from trial to trial and appears to eventually reach an accurate estimated probability as the number of trials increases."
   ]
  }
 ],
 "metadata": {
  "kernelspec": {
   "display_name": "Python 3",
   "language": "python",
   "name": "python3"
  },
  "language_info": {
   "codemirror_mode": {
    "name": "ipython",
    "version": 3
   },
   "file_extension": ".py",
   "mimetype": "text/x-python",
   "name": "python",
   "nbconvert_exporter": "python",
   "pygments_lexer": "ipython3",
   "version": "3.6.5"
  }
 },
 "nbformat": 4,
 "nbformat_minor": 2
}
