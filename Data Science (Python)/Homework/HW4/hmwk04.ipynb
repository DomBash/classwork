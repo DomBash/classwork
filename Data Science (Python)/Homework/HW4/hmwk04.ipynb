{
 "cells": [
  {
   "cell_type": "markdown",
   "metadata": {},
   "source": [
    "<a/ id='top'></a>\n",
    "# Homework 4: More Simulation and the Central Limit Theorem \n",
    "***\n",
    "\n",
    "**Name**: Dominic B\n",
    "\n",
    "***\n",
    "\n",
    "This assignment is due on Moodle by **5 PM on Friday 26 October**. Your solutions to theoretical questions should be done in Markdown/MathJax directly below the associated question.  Your solutions to computational questions should include any specified Python code and results as well as written commentary on your conclusions.  Remember that you are encouraged to discuss the problems with your instructors and classmates, but **you must write all code and solutions on your own**.\n",
    "\n",
    "**NOTES**: \n",
    "\n",
    "- Do **NOT** load or use any Python packages that are not available in Anaconda 3.6. \n",
    "- Some problems with code may be autograded.  If we provide a function API **do not** change it.  If we do not provide a function API then you're free to structure your code however you like. \n",
    "- Because you can technically evaluate notebook cells is a non-linear order, it's a good idea to do Cell $\\rightarrow$ Run All as a check before submitting your solutions.  That way if we need to run your code you will know that it will work as expected. \n",
    "- Submit only this Jupyter notebook to Moodle.  Do not compress it using tar, rar, zip, etc. \n",
    "- This should go without saying, but... For any question that asks you to calculate something, you **must show all work to receive credit**. Sparse or nonexistent work will receive sparse or nonexistent credit.\n",
    "\n",
    "---\n",
    "**Shortcuts:**  [Problem 1](#p1) | [Problem 2](#p2) | [Problem 3](#p3) | [Problem 4](#p4)\n",
    "\n",
    "---"
   ]
  },
  {
   "cell_type": "code",
   "execution_count": 1,
   "metadata": {
    "scrolled": true
   },
   "outputs": [],
   "source": [
    "import numpy as np\n",
    "import math\n",
    "import scipy.stats as stats\n",
    "import matplotlib.pyplot as plt\n",
    "import pandas as pd\n",
    "%matplotlib inline"
   ]
  },
  {
   "cell_type": "markdown",
   "metadata": {},
   "source": [
    "<br>\n",
    "\n",
    "---\n",
    "<a/ id='p1'></a>\n",
    "[Back to top](#top)\n",
    "### [30 points] Problem 1 - Monte Carlo Estimation of Definite Integrals\n",
    "\n",
    "One really cool application of random variables is using them to approximate integrals/area under a curve.  This method of approximating integrals is used frequently in computational science to approximate really difficult integrals that we never want to do by hand.  In this exercise you'll figure out how we can do this in practice and test your method on a relatively simple integral. "
   ]
  },
  {
   "cell_type": "markdown",
   "metadata": {},
   "source": [
    "**Part A.**  Let $X$ be a random variable representing how delicious a pie you bake is, as measured by the **Deliciousness Index** (DI).  Suppose the probability density function for $X$ is described by the raised cosine probability density function:\n",
    "\n",
    "$$\n",
    "f(x) = \\begin{cases}\n",
    "         \\dfrac{1}{\\pi}\\left(\\cos{(x)} + 1\\right) & 0 \\leq x \\leq \\pi \\\\\n",
    "         0                           & \\text{otherwise}\n",
    "         \\end{cases}\n",
    "$$\n",
    "\n",
    "A Deliciousness Index of $\\pi$ is the most delicious pie you can ever hope to create, and a DI of $0$ is the most disgusting pie you have ever tasted.  \n",
    "\n",
    "Compute **by hand**, the integral of $f(x)$ for $0 \\leq x \\leq \\dfrac{\\pi}{2}$.  Write a sentence or two to interpret your result physically, in the context of this problem set-up."
   ]
  },
  {
   "cell_type": "markdown",
   "metadata": {},
   "source": [
    "$$\n",
    "\\int _0 ^{\\pi/2} \\begin{cases}\n",
    "         \\dfrac{1}{\\pi}\\left(\\cos{(x)} + 1\\right) & 0 \\leq x \\leq \\pi \\\\ \n",
    "         0                           & \\text{otherwise}\n",
    "         \\end{cases}\n",
    "         dx = \\dfrac{1}{2}+\\dfrac{1}{\\pi} = 0.81\n",
    "$$\n",
    "\n",
    "The integral of this function gives us the probability of that Deliciousness Index range. <br \\>\n",
    "This integral tells us the probability of the DI being between $0$ and $\\dfrac{\\pi}{2}$ is about $0.81$."
   ]
  },
  {
   "cell_type": "markdown",
   "metadata": {},
   "source": [
    "**Part B.** Suppose we sample a random variable $X$ from $U(0,\\frac{\\pi}{2})$ and another random variable $Y$ from $U(0,1)$ and think of them as $x$- and $y$-coordinates of a point in the box $[0,\\frac{\\pi}{2}] \\times [0,1]$.  If we compute the ratio of points that fall under the curve $f(x)$ to the total points sampled, what does this value estimate? "
   ]
  },
  {
   "cell_type": "markdown",
   "metadata": {},
   "source": [
    "The probability of $f(x)$ in that range."
   ]
  },
  {
   "cell_type": "markdown",
   "metadata": {},
   "source": [
    "**Part C.** How could we modify the process outlined in **Part B** so that our estimator estimates the value of the desired integral?  If you need inspiration, check out the in-class notebook on Stochastic Simulation (#4), specifically, the exercise where we estimated $\\pi$!"
   ]
  },
  {
   "cell_type": "markdown",
   "metadata": {},
   "source": [
    "If the random variable $Y$ is take from bewteen $0$ and $f(0)$, in this case is $\\dfrac{2}{\\pi}$, this would give us the integral."
   ]
  },
  {
   "cell_type": "markdown",
   "metadata": {},
   "source": [
    "**Part D.** Write a function `integrate` to compute an approximation to the definition integral $\\int_0^{\\text{ub}} f(x)dx$.  Your function should take as arguments:\n",
    "1. `num_samples` -- the number of points to sample,\n",
    "2. `ub` -- a number between $0$ and $\\pi$ that is the upper bound of the integral, and\n",
    "3. `isPlot` -- a Boolean flag for whether or not to display a plot of the results.\n",
    "\n",
    "Your function should return an approximation of the definite integral by sampling $X$ from $U(0,\\text{ub})$ and $Y$ from $U(0,1)$. For each random draw $(X,Y)$, define the random variable $Z$ that represents whether or not the sampled $Y$ value is less than $f(X)$ for the corresponding $X$ value.\n",
    "\n",
    "Your function should perform three tasks: \n",
    "\n",
    "1. return the estimate of the value of the integral,\n",
    "2. return the sample variance of the random variable $Z$ being simulated, using the np.var function, and\n",
    "3. if `isPlot` is True, plot the curve $f(x)$ as well as the location of the points $(X,Y)$, colored according to whether they fall above or below the curve. \n",
    "\n",
    "Run your simulation with `isPlot=True` and `ub=`$\\frac{\\pi}{2}$ for 1,000 samples so we can see your plot. Then, run your simulation (with `isPlot=False`) with at least 10,000 samples and estimate the value of the given integral.  Does your estimate agree with the exact value of the integral you computed in **Part A**? "
   ]
  },
  {
   "cell_type": "code",
   "execution_count": 2,
   "metadata": {},
   "outputs": [],
   "source": [
    "def integrate(num_samples, ub, isPlot):\n",
    "    yb = 2/math.pi\n",
    "    Y,X = [0,yb], [0,ub]\n",
    "    yCoord, xCoord, func = np.empty((num_samples)), np.empty((num_samples)), np.empty((num_samples))\n",
    "    xUp, yUp, xLow, yLow = np.empty((0)), np.empty((0)), np.empty((0)), np.empty((0))\n",
    "    z = np.empty((0))\n",
    "    for i in range(num_samples):\n",
    "        yCoord[i] = np.random.uniform(Y)[0]*yb\n",
    "        xCoord[i] = np.random.uniform(X)[0]*ub\n",
    "        func[i] = (1/(math.pi))*(math.cos(xCoord[i])+1)\n",
    "        if(func[i] > yCoord[i]): #Below f(x)\n",
    "            xLow = np.append(xLow, xCoord[i])\n",
    "            yLow = np.append(yLow, yCoord[i])\n",
    "            z = np.append(z, 0)\n",
    "        else:\n",
    "            xUp = np.append(xUp, xCoord[i])\n",
    "            yUp = np.append(yUp, yCoord[i])\n",
    "            z = np.append(z, 1)\n",
    "    estimate = len(xLow)/num_samples\n",
    "    if isPlot == True:\n",
    "        fig, ax = plt.subplots(nrows=1, ncols=1, figsize=(12,6))\n",
    "        ax.scatter(xUp, yUp, color = \"red\")\n",
    "        ax.scatter(xLow, yLow, color = \"lightgreen\")\n",
    "        ax.scatter(xCoord, func, color=\"steelblue\")\n",
    "        ax.set_ylim(0,yb)\n",
    "        ax.set_xlim(0,ub)\n",
    "        ax.grid(alpha=0.25)\n",
    "        ax.set_title(\"Deliciouness Index\", fontsize=16)\n",
    "        ax.legend(('Above','Below'),loc =1, framealpha = 1)\n",
    "    return estimate, z.var()"
   ]
  },
  {
   "cell_type": "code",
   "execution_count": 3,
   "metadata": {},
   "outputs": [
    {
     "data": {
      "text/plain": [
       "(0.836, 0.13710399999999998)"
      ]
     },
     "execution_count": 3,
     "metadata": {},
     "output_type": "execute_result"
    },
    {
     "data": {
      "image/png": "[encoded data removed]",
      "text/plain": [
       "<Figure size 864x432 with 1 Axes>"
      ]
     },
     "metadata": {},
     "output_type": "display_data"
    }
   ],
   "source": [
    "integrate(1000, math.pi/2, True)"
   ]
  },
  {
   "cell_type": "code",
   "execution_count": 4,
   "metadata": {},
   "outputs": [
    {
     "name": "stdout",
     "output_type": "stream",
     "text": [
      "The estimated integral is: 0.8171\n",
      "The estimated variance of Z is: 0.1494\n"
     ]
    }
   ],
   "source": [
    "iv = integrate(10000, math.pi/2, False)\n",
    "print(\"The estimated integral is: {:.4}\".format(iv[0]))\n",
    "print(\"The estimated variance of Z is: {:.4}\".format(iv[1]))"
   ]
  },
  {
   "cell_type": "markdown",
   "metadata": {},
   "source": [
    "Since I added the modification from **Part C** the integral agrees with my calculation in **Part A**."
   ]
  },
  {
   "cell_type": "markdown",
   "metadata": {},
   "source": [
    "**Part E.** In the simulation above, what is distribution of the random variable $Z$ that we're actually sampling? What is/are the parameters of this distribution?  "
   ]
  },
  {
   "cell_type": "markdown",
   "metadata": {},
   "source": [
    "We are sampling the probability of $f(X)$ at different $X$ values. The parameters are just the number of points above and below $f(X)$ at $X$."
   ]
  },
  {
   "cell_type": "markdown",
   "metadata": {},
   "source": [
    "**Part F.**  Compute the expected value of the random variable you described in **Part E** by hand.  Does this value agree with the exact value of the integral you computed in **Part A** and the estimated value you simulated in **Part D**? "
   ]
  },
  {
   "cell_type": "markdown",
   "metadata": {},
   "source": [
    "$E[X] = \\sum XP(X)$ <br \\>\n",
    "$P(X) = \\dfrac{1}{\\pi}\\left(\\cos{(X)} + 1\\right) \\div \\dfrac{\\pi}{2}$ <br \\>\n",
    "$E[X] = 0.81$ <br \\>\n",
    "Yes this value agrees with the integral from **Part A** and simulation from **Part D**."
   ]
  },
  {
   "cell_type": "markdown",
   "metadata": {},
   "source": [
    "**Part G.** Compute the variance of the random variable you described in **Part E** by hand.  Does this value agree with the sample variance observed in your simulation for **Part D**? "
   ]
  },
  {
   "cell_type": "markdown",
   "metadata": {
    "collapsed": true
   },
   "source": [
    "$Var[X] = \\sum X^2 P(X)-E[X]^2$ <br \\>\n",
    "$P(X) = \\dfrac{1}{\\pi}\\left(\\cos{(X)} + 1\\right) \\div \\dfrac{\\pi}{2}$ <br \\>\n",
    "$E[X] = 0.81$ <br \\>\n",
    "$Var[X] = 0.15$ <br \\>\n",
    "Yes this value agrees with the simulation from **Part D**."
   ]
  },
  {
   "cell_type": "markdown",
   "metadata": {},
   "source": [
    "<br>\n",
    "\n",
    "---\n",
    "<a/ id='p2'></a>\n",
    "[Back to top](#top)\n",
    "### [25 points] Problem 2 - Mmmm... Donuts...\n",
    "\n",
    "<img src=\"http://astrokentico.s3.amazonaws.com/rojakdaily/media/1nichoras/homer%20simpson%20krispy%20kreme/main.jpg?ext=.jpg\" style=\"width:300px;\"/>\n",
    "\n",
    "You bring many donuts (or _doughnuts_, if you will) to work to share with your coworkers at the Boulder Nuclear Power Planet. But due to the high levels of radiation there, they must be inspected for safety. In particular, if the mean level of radiation in a sample from your batch of donuts is above [200 mSv (millisievert)](#rad), then they are deemed unsafe and you must throw the whole batch away.\n",
    "\n",
    "You know that historically donuts at the power plant have, on average, 190 mSv of radiation, with a standard deviation of 40 mSv. To test the donut radiation levels, you take the donut receipt and pick every fifth donut off it, and sample the radiation levels of those donuts. You end up sampling the radiation levels of 36 donuts out of the batch."
   ]
  },
  {
   "cell_type": "markdown",
   "metadata": {},
   "source": [
    "**Part A.** What is the probability that a donut batch is deemed unsafe?  You should at the very least set up and justify your calculation by hand (in Markdown/Mathjax), before executing any calculations in Python."
   ]
  },
  {
   "cell_type": "markdown",
   "metadata": {},
   "source": [
    "$\\mu = 190$ <br \\>\n",
    "$\\sigma = 40$ <br \\>\n",
    "\n",
    "$P(X < 200) = P(\\frac{200 - 190}{40}) = 0.25 = 1 - (0.5987) = \\fbox{.4013}$ <br \\>\n",
    "$0.25 = 0.5987$ based on z table."
   ]
  },
  {
   "cell_type": "code",
   "execution_count": 5,
   "metadata": {},
   "outputs": [
    {
     "name": "stdout",
     "output_type": "stream",
     "text": [
      "0.4012936743170763\n"
     ]
    }
   ],
   "source": [
    "print(1 - stats.norm.cdf(200,190,40))"
   ]
  },
  {
   "cell_type": "markdown",
   "metadata": {},
   "source": [
    "**Part B.** You really do not want to throw away donuts that frequently, so you propose to store the donuts in a lead-lined donut box. But lead also is not very good for your health, so you are motivated to use the least amount of lead possible. What is the minimum mean amount of radiation $\\mu$ for our donuts to have such that the probability that we will throw donuts out due to safety concerns is at most 0.001?\n",
    "\n",
    "Calculate this **by hand**, using Python only to perform arithmetic operations and compute critical values of a standard normal random variable."
   ]
  },
  {
   "cell_type": "markdown",
   "metadata": {},
   "source": [
    "$\\dfrac{200-x}{40} = 2.33$<br \\>\n",
    "$x = 106.8$ <br \\>\n",
    "$P(X < 200) = P(\\frac{200 - 106.8}{40}) = 2.33 = 1 - (0.9901) = \\fbox{0.001}$ <br \\>\n",
    "$2.33 = 0.9901$ based on z table."
   ]
  },
  {
   "cell_type": "code",
   "execution_count": 6,
   "metadata": {},
   "outputs": [
    {
     "name": "stdout",
     "output_type": "stream",
     "text": [
      "0.009903075559164254\n"
     ]
    }
   ],
   "source": [
    "print(1-stats.norm.cdf(200,106.8,40))"
   ]
  },
  {
   "cell_type": "markdown",
   "metadata": {},
   "source": [
    "**Part C.**  Your supervisor at the plant decides that serving up donuts in a lead-lined box is a bad idea. Fair enough.\n",
    "\n",
    "But she is still imposing the requirement that the probability of a batch of donuts being rejected must be less than 0.001. Suppose the mean and standard deviation are at their original values of $\\mu = 190$ mSv and $\\sigma = 40$ mSv. What is the minimum sample size to satisfy this requirement?\n",
    "\n",
    "Calculate this **by hand**, using Python only to perform arithmetic operations and compute critical values of a standard normal random variable."
   ]
  },
  {
   "cell_type": "markdown",
   "metadata": {},
   "source": [
    "The sample size has nothing to do with it. Since it's a random variable the first donut picked could have over 200 mSv of radiation.The minimum sample size would be $0$."
   ]
  },
  {
   "cell_type": "markdown",
   "metadata": {},
   "source": [
    "**Part D.** Can you think of any potential issues with using a normal distribution to model the radiation content of our donuts?"
   ]
  },
  {
   "cell_type": "markdown",
   "metadata": {},
   "source": [
    "The radiation content of the donuts may not follow a normal distribution."
   ]
  },
  {
   "cell_type": "markdown",
   "metadata": {},
   "source": [
    "<br>\n",
    "\n",
    "---\n",
    "<a/ id='p3'></a>\n",
    "[Back to top](#top)\n",
    "### [20 points] Problem 3 - Snappy McChatterson over here\n",
    "\n",
    "**Part A:** Your friends are really texting a lot of messages to your Snap Chat. You start your stopwatch and record the time when each Snap Chat text message comes in. The data are found in `SnappedChats.csv`.\n",
    "\n",
    "Load them in using whatever method you prefer, compute the time span between successive snaps, and plot a density histogram of those inter-snap arrival times.\n",
    "\n",
    "Your histogram should be gold with black edges (sko buffs) and have 50 bins. Be sure to label your axes and include a legend.\n"
   ]
  },
  {
   "cell_type": "code",
   "execution_count": 7,
   "metadata": {},
   "outputs": [
    {
     "name": "stdout",
     "output_type": "stream",
     "text": [
      "Mean: 23.4236\n",
      "Standard Deviation: 9.165\n"
     ]
    },
    {
     "data": {
      "text/plain": [
       "<matplotlib.legend.Legend at 0x21aebbd25f8>"
      ]
     },
     "execution_count": 7,
     "metadata": {},
     "output_type": "execute_result"
    },
    {
     "data": {
      "image/png": "[encoded data removed]",
      "text/plain": [
       "<Figure size 864x432 with 1 Axes>"
      ]
     },
     "metadata": {},
     "output_type": "display_data"
    }
   ],
   "source": [
    "file = \"SnappedChats.csv\"\n",
    "dfSnap = pd.read_csv(file)\n",
    "dfSnap = dfSnap.diff()\n",
    "\n",
    "mean = dfSnap.mean()\n",
    "std = dfSnap.std()\n",
    "length = dfSnap.size\n",
    "print(\"Mean: {:.6}\".format(mean[0]))\n",
    "print(\"Standard Deviation: {:.4}\".format(std[0]))\n",
    "\n",
    "fig, ax = plt.subplots(nrows=1, ncols=1, figsize=(12,6))\n",
    "dfSnap.hist(bins=50, color=\"gold\", edgecolor=\"black\", ax=ax)\n",
    "ax.grid(alpha=0.25)\n",
    "ax.set_axisbelow(True)\n",
    "ax.set_title(\"Snapchats\", fontsize=16)\n",
    "ax.set_xlabel(\"Time\", fontsize=16)\n",
    "ax.set_ylabel(\"Frequency\", fontsize=16);\n",
    "ax.legend(('Snaps'))"
   ]
  },
  {
   "cell_type": "markdown",
   "metadata": {},
   "source": [
    "**Part B:** Compute a 90% confidence interval (to 4 decimal places) for the mean of the inter-snap arrival time. If you use any theorem(s) in your calculation, be sure to state what they are and why the theorem(s) can be applied. "
   ]
  },
  {
   "cell_type": "markdown",
   "metadata": {},
   "source": [
    "$\\bar X = 23.4236$ <br \\>\n",
    "$\\sigma = 9.1651$ <br \\>\n",
    "$n = 100$<br \\>\n",
    "$Z = 1.645$ <br \\>\n",
    "\n",
    "Confidence Interval Formula:\n",
    "$\\bar X \\pm Z \\dfrac{\\sigma}{\\sqrt n}$ <br \\>\n",
    "$23.4236 \\pm 1.645 ~\\dfrac{9.1651}{\\sqrt 100} = \\fbox {$23.4236 \\pm 1.5077$} $\n",
    "\n",
    "If this wasn't already a sample I would use the central limit theorem to find the sample mean. Assuming this is a sample I can just use the mean and standard deviation of the data points to find the CI."
   ]
  },
  {
   "cell_type": "markdown",
   "metadata": {},
   "source": [
    "**Part C:** Speculate: what would happen if you hadn't included all the data in your confidence interval calculation above? Specifically, if you used only 30 of your data points to compute a confidence interval, would it be wider or less wide? Why?"
   ]
  },
  {
   "cell_type": "markdown",
   "metadata": {},
   "source": [
    "Using only 30 data points would make the confidence interval wider. In general the more samples you take the more confident you can be that your data is accurate. Just like in our simulations the more times you simulate a situation the closer you get to the actual probability."
   ]
  },
  {
   "cell_type": "markdown",
   "metadata": {},
   "source": [
    "**Part D:** Write a function to confirm what you have written above. For each value of $n$ between $30$ and the total number of data points, compute a 90% CI using the first $n$ inter-arrival times. Plot the CIs (vertical axis) against $n$ (horizontal axis). Plot the means as black X symbols, with vertical \"errorbars\" for the CIs colored gold. See Matplotlib's [errorbar](https://matplotlib.org/api/_as_gen/matplotlib.pyplot.errorbar.html) plot type. "
   ]
  },
  {
   "cell_type": "code",
   "execution_count": 8,
   "metadata": {},
   "outputs": [
    {
     "data": {
      "image/png": "[encoded data removed]",
      "text/plain": [
       "<Figure size 864x432 with 1 Axes>"
      ]
     },
     "metadata": {},
     "output_type": "display_data"
    }
   ],
   "source": [
    "file = \"SnappedChats.csv\"\n",
    "dfSnap = pd.read_csv(file)\n",
    "dfSnap = dfSnap.diff()\n",
    "\n",
    "mean = dfSnap.mean()\n",
    "std = dfSnap.std()[0]\n",
    "length = dfSnap.size\n",
    "\n",
    "ci, ciMean = np.zeros(71), np.zeros(71)\n",
    "num = np.arange(30,101)\n",
    "for n in range(71):\n",
    "    ci[n] = 1.65*(std/math.sqrt(n+30))\n",
    "    ciMean[n] = np.mean(ci[0:n+1])\n",
    "    \n",
    "fig, ax = plt.subplots(nrows=1, ncols=1, figsize=(12,6))\n",
    "ax.scatter(num,ci)\n",
    "ax.scatter(num,ciMean,color = \"black\", marker = 'X')\n",
    "ax.errorbar(num,ciMean, yerr = ci,color = \"gold\")\n",
    "ax.grid(alpha=0.25)\n",
    "ax.set_axisbelow(True)\n",
    "ax.set_title(\"CI vs n\", fontsize=16)\n",
    "ax.set_xlabel(\"n\", fontsize=16)\n",
    "ax.set_ylabel(\"CIs\", fontsize=16);"
   ]
  },
  {
   "cell_type": "markdown",
   "metadata": {},
   "source": [
    "<br>\n",
    "\n",
    "---\n",
    "<a/ id='p4'></a>\n",
    "[Back to top](#top)\n",
    "### [25 points] Problem 4 - Not-so-Easy Peasy Plinko \n",
    "\n",
    "[Plinko](http://priceisright.wikia.com/wiki/Plinko), the shining jewel of the gameshow [Price is Right](https://en.wikipedia.org/wiki/The_Price_Is_Right), is a staple of American culture.  Luckily for us, it's also chalk-full of interesting ideas from probability and statistics. The game involves dropping a disc onto an inclined board of pegs and letting it bounce around until it lands in a bin with an associated cash value. Players get to drop some number of discs down the Plinko board and keep their winnings.\n",
    "\n",
    "In class we looked at a simplified version of Plinko:  \n",
    "\n",
    "![](http://www.cs.colorado.edu/~tonyewong/home/resources/plinko/plinko1.png)\n",
    "\n",
    "In real life, Plinko has boundaries, positioned symmetrically around the center $c$ at positions $\\ell$ and $r$ s.t. $|c-\\ell| = |c+r|$. The effect of the boundaries are that when the Plinko disc hits the boundary, it can only move back toward the center. In other words, if the disc hits the boundary at $\\ell$, it can only go right at that level. Likewise, if the disc hits the boundary at $r$, it can only go left at that level. \n",
    "\n",
    "For instance, the following board depicts a Plinko game with boundaries at $0.5$ (halfway between the centers of Buckets 0 and 1) and $5.5$ (halfway between Buckets 5 and 6)  The red pegs indicate boundary pegs on which the disc always moves toward the center.   \n",
    "\n",
    "![](http://www.cs.colorado.edu/~tonyewong/home/resources/plinko/plinko2.png)\n"
   ]
  },
  {
   "cell_type": "markdown",
   "metadata": {},
   "source": [
    "**Part A**: First, let's consider the case without boundaries. \n",
    "\n",
    "**[1]** Write a simulator of Plinko that models the disc moving through each of the 6 rows of pegs to its final destination in one of the 7 bins. Let $X$ be the random variable corresponding to the Bucket that the disc lands in. Run your simulation for at least 10,000 trials and plot a density histogram estimate of the PMF of $X$ when the probability of moving left when hitting a peg is equal to `p_right = 0.5`. Note that in this set-up, you must always drop the disc above bin 3.\n",
    "\n",
    "Your code should take as arguments:\n",
    "* `n` -- number of Plinko trials\n",
    "* `p_right` -- the probability of bouncing right at any given peg\n",
    "\n",
    "Your code should return some kind of an array-like object that can be used to plot a histogram of the results of your `n` Plinko games.\n",
    "\n",
    "**[2]** Then, plot a density histogram of the results.  Run your simulation for at least 10,000 trials.  The bins should be centered above the corresponding bin numbers, and axes should be labeled appropriately."
   ]
  },
  {
   "cell_type": "code",
   "execution_count": 9,
   "metadata": {},
   "outputs": [],
   "source": [
    "def plinko_test(n, p_right):   \n",
    "    peg = [\"L\", \"R\"]\n",
    "    result = []\n",
    "    for i in range(n):\n",
    "        side = np.random.choice(peg,6, p=[1-p_right,p_right])\n",
    "        bucket = 3\n",
    "        for j in range(len(side)):\n",
    "            if(side[j] == \"R\"):\n",
    "                bucket += .5\n",
    "            else:\n",
    "                bucket -= .5\n",
    "        result.append(bucket)\n",
    "    return result"
   ]
  },
  {
   "cell_type": "code",
   "execution_count": 10,
   "metadata": {},
   "outputs": [
    {
     "data": {
      "image/png": "[encoded data removed]",
      "text/plain": [
       "<Figure size 864x432 with 1 Axes>"
      ]
     },
     "metadata": {},
     "output_type": "display_data"
    }
   ],
   "source": [
    "result = plinko_test(10000,.5)\n",
    "result = pd.DataFrame(result)\n",
    "fig, ax = plt.subplots(nrows=1, ncols=1, figsize=(12,6))\n",
    "result.hist(bins=[0,1,2,3,4,5,6,7], color=\"steelblue\", edgecolor=\"white\", ax=ax, align = \"left\")\n",
    "ax.set_axisbelow(True)\n",
    "ax.set_title(\"Plinko\", fontsize=16)\n",
    "ax.set_xlabel(\"Buckets\", fontsize=16)\n",
    "ax.set_ylabel(\"Frequency\", fontsize=16);"
   ]
  },
  {
   "cell_type": "markdown",
   "metadata": {},
   "source": [
    "**Part B**: Let $X$ be the random variable corresponding to the Bucket that the disc lands in for the situation in **Part A**.  Write down the **true** PMF for $X$. (**Hint**: It might be helpful to reflect back on the discussion from Lecture 11). \n",
    "\n",
    "**Then**, check that your empirical (estimated) probabilities for landing in Bucket 0, 1, 2, or 3 compare to the true probabilities. Comment on whether or not they agree, and be sure to clearly state what the probabilities you've calculated are."
   ]
  },
  {
   "cell_type": "markdown",
   "metadata": {
    "collapsed": true
   },
   "source": [
    "$P(X = 0) = {6 \\choose 0} p^0(1-p)^6 = 0.0156$ <br \\>\n",
    "$P(X = 1) = {6 \\choose 1} p^1(1-p)^5 = 0.0938$ <br \\>\n",
    "$P(X = 2) = {6 \\choose 2} p^2(1-p)^4 = 0.2344$ <br \\>\n",
    "$P(X = 3) = {6 \\choose 3} p^3(1-p)^3 = 0.3125$ <br \\>\n",
    "$P(X = 4) = {6 \\choose 4} p^4(1-p)^2 = 0.2344$ <br \\>\n",
    "$P(X = 5) = {6 \\choose 5} p^5(1-p)^1 = 0.0938$ <br \\>\n",
    "$P(X = 6) = {6 \\choose 6} p^6(1-p)^0 = 0.0156$ <br \\>"
   ]
  },
  {
   "cell_type": "code",
   "execution_count": 11,
   "metadata": {},
   "outputs": [
    {
     "name": "stdout",
     "output_type": "stream",
     "text": [
      "Estimated P(X = 0): 0.0167 True P(X = 0): 0.0156\n",
      "Estimated P(X = 1): 0.0911 True P(X = 1): 0.0938\n",
      "Estimated P(X = 2): 0.2401 True P(X = 2): 0.2344\n",
      "Estimated P(X = 3): 0.3017 True P(X = 3): 0.3125\n",
      "Estimated P(X = 4): 0.2418 True P(X = 4): 0.2344\n",
      "Estimated P(X = 5): 0.0936 True P(X = 5): 0.0938\n",
      "Estimated P(X = 6): 0.0150 True P(X = 6): 0.0156\n"
     ]
    }
   ],
   "source": [
    "tests = 10000\n",
    "result = plinko_test(tests,.5)\n",
    "print(\"Estimated P(X = 0): {:.4f}\".format(result.count(0)/tests), \"True P(X = 0): 0.0156\")\n",
    "print(\"Estimated P(X = 1): {:.4f}\".format(result.count(1)/tests), \"True P(X = 1): 0.0938\")\n",
    "print(\"Estimated P(X = 2): {:.4f}\".format(result.count(2)/tests), \"True P(X = 2): 0.2344\")\n",
    "print(\"Estimated P(X = 3): {:.4f}\".format(result.count(3)/tests), \"True P(X = 3): 0.3125\")\n",
    "print(\"Estimated P(X = 4): {:.4f}\".format(result.count(4)/tests), \"True P(X = 4): 0.2344\")\n",
    "print(\"Estimated P(X = 5): {:.4f}\".format(result.count(5)/tests), \"True P(X = 5): 0.0938\")\n",
    "print(\"Estimated P(X = 6): {:.4f}\".format(result.count(6)/tests), \"True P(X = 6): 0.0156\")"
   ]
  },
  {
   "cell_type": "markdown",
   "metadata": {},
   "source": [
    "The estimated probabilities agree very well with my calculated true probabilities."
   ]
  },
  {
   "cell_type": "markdown",
   "metadata": {},
   "source": [
    "**Part C.** \n",
    "\n",
    "**[1]** Now write a simulator for Plinko with boundaries, and an argument for the number of rows. Your code should be similar to your code from **Part A**, with the following arguments:\n",
    "* `n` -- number of Plinko trials\n",
    "* `p_right` -- the probability of bouncing right at any given peg\n",
    "* `left_bound` -- the left boundary\n",
    "* `right_bound` -- the right boundary\n",
    "* `initial` -- the initial bin that you drop the disc above\n",
    "* `n_rows` -- number the rows on the plinko board. The board must have number of pegs in the bottom row equal to `n_rows`.\n",
    "\n",
    "**[2]** As a sanity check, use a 1-row board with `p_right=0.85`, and no left/right boundaries.  Run 10,000 trials and plot a density histogram of the results. The bins should be centered above the corresponding bin numbers, and the axes should be labeled. Does your result match you expect should happen? Explain."
   ]
  },
  {
   "cell_type": "code",
   "execution_count": 12,
   "metadata": {},
   "outputs": [],
   "source": [
    "def plinko_test_bound(n, p_right,left_bound, right_bound, initial, n_rows):   \n",
    "    peg = [\"L\", \"R\"]\n",
    "    result = []\n",
    "    for i in range(n):\n",
    "        side = np.random.choice(peg,n_rows, p=[1-p_right,p_right])\n",
    "        bucket = initial\n",
    "        for j in range(len(side)):\n",
    "            if(bucket >= right_bound):\n",
    "                bucket -= .5\n",
    "            elif(bucket <= left_bound):\n",
    "                bucket += .5\n",
    "            else:\n",
    "                if(side[j] == \"R\"):\n",
    "                    bucket += .5\n",
    "                else:\n",
    "                    bucket -= .5\n",
    "        result.append(bucket)\n",
    "    return result"
   ]
  },
  {
   "cell_type": "code",
   "execution_count": 13,
   "metadata": {},
   "outputs": [
    {
     "data": {
      "image/png": "[encoded data removed]",
      "text/plain": [
       "<Figure size 864x432 with 1 Axes>"
      ]
     },
     "metadata": {},
     "output_type": "display_data"
    }
   ],
   "source": [
    "result = plinko_test_bound(10000,.85,0,6,.5,1)\n",
    "result = pd.DataFrame(result)\n",
    "fig, ax = plt.subplots(nrows=1, ncols=1, figsize=(12,6))\n",
    "result.hist(bins=[0,1,2,3,4,5,6,7], color=\"steelblue\", edgecolor=\"white\", ax=ax, align = \"left\")\n",
    "ax.set_axisbelow(True)\n",
    "ax.set_title(\"Plinko\", fontsize=16)\n",
    "ax.set_xlabel(\"Buckets\", fontsize=16)\n",
    "ax.set_ylabel(\"Frequency\", fontsize=16);"
   ]
  },
  {
   "cell_type": "markdown",
   "metadata": {},
   "source": [
    "This does match what I expected. With one peg there should be a probability of .85 that it goes right, to 1, and a probability of .15 that it goes left, to 0. This histogram shows this."
   ]
  },
  {
   "cell_type": "markdown",
   "metadata": {},
   "source": [
    "**Part D.**  Run 10,000 trials with left and right boundaries at 0.5 and 5.5, respectively, and a 6-row board. Drop the disc above Bin 3. Plot a density histogram of the results, simiarly to **Part C**."
   ]
  },
  {
   "cell_type": "code",
   "execution_count": 14,
   "metadata": {},
   "outputs": [
    {
     "data": {
      "image/png": "[encoded data removed]",
      "text/plain": [
       "<Figure size 864x432 with 1 Axes>"
      ]
     },
     "metadata": {},
     "output_type": "display_data"
    }
   ],
   "source": [
    "result = plinko_test_bound(10000,.5,.5,5.5,3,6)\n",
    "result = pd.DataFrame(result)\n",
    "fig, ax = plt.subplots(nrows=1, ncols=1, figsize=(12,6))\n",
    "result.hist(bins=[0,1,2,3,4,5,6,7], color=\"steelblue\", edgecolor=\"white\", ax=ax, align = \"left\")\n",
    "ax.set_axisbelow(True)\n",
    "ax.set_title(\"Plinko\", fontsize=16)\n",
    "ax.set_xlabel(\"Buckets\", fontsize=16)\n",
    "ax.set_ylabel(\"Frequency\", fontsize=16);"
   ]
  },
  {
   "cell_type": "markdown",
   "metadata": {},
   "source": [
    "**Part E**:  Let $X$ be the random variable corresponding to the Bucket that the disc lands in for the situation in **Part D**.  Compare the approximate PMF for this board to the no-boundary board from **Part A/B**. Explain the mechanism that causes the differences between the two PMFs in words. Then, write down the **true** PMF for $X$."
   ]
  },
  {
   "cell_type": "markdown",
   "metadata": {},
   "source": [
    "Since the boundaries are at either end it will make it so that any disc that would have gone to 0 in the non-boundary board will now go to 1 and any disc that would have gone to 6 will now go to 5. This just adds $P(X = 0)$ from the non-boundary board to $P(X = 1)$ for this board and $P(X = 6)$ to $P(X = 5)$ in the PMF.\n",
    "\n",
    "$P(X = 1) = {6 \\choose 1} p^1(1-p)^5 + {6 \\choose 0} p^0(1-p)^6 = 0.1094$ <br \\>\n",
    "$P(X = 2) = {6 \\choose 2} p^2(1-p)^4 = 0.2344$ <br \\>\n",
    "$P(X = 3) = {6 \\choose 3} p^3(1-p)^3 = 0.3125$ <br \\>\n",
    "$P(X = 4) = {6 \\choose 4} p^4(1-p)^2 = 0.2344$ <br \\>\n",
    "$P(X = 5) = {6 \\choose 5} p^5(1-p)^1 + {6 \\choose 6} p^6(1-p)^0 = 0.1094$ <br \\>"
   ]
  },
  {
   "cell_type": "markdown",
   "metadata": {},
   "source": [
    "**Part F**: Suppose I challenge you to a _friendly_ game of Plinko on the board from **Parts D** and **E**.\n",
    "* If the disc lands in bins 1 or 5, I will pay you \\$1\n",
    "* If the disc lands in bin 3, I will pay you \\$4\n",
    "* If the disc lands in bins 2 or 4, I will pay you nothing\n",
    "* I will also charge you a flat fee for each disc that you play.\n",
    "\n",
    "How much should I charge you per disc so that we break even in the long run? "
   ]
  },
  {
   "cell_type": "markdown",
   "metadata": {},
   "source": [
    "Expected Value: <br \\>\n",
    "$P(X = 1)(1) + P(X = 5)(1) + P(X = 3)(4) + P(X = 2)(0) + P(X = 4)(0)$\n",
    "\n",
    "$P(X = 1) = 0.1094 * 1 = 0.1094$ <br \\>\n",
    "$P(X = 5) = 0.1094 * 1 = 0.1094$ <br \\>\n",
    "$P(X = 3) = 0.3125 * 4 = 1.25$ <br \\>\n",
    "$P(X = 2) = 0.2344 * 0 = 0$ <br \\>\n",
    "$P(X = 4) = 0.2344 * 0 = 0$ <br \\>\n",
    "\n",
    "$0.1094 + 0.1094 + 1.25 + 0 + 0 = \\fbox {1.4688}$ <br \\>\n",
    "If you charge $1.4688$ dollars per disc then you should break even."
   ]
  },
  {
   "cell_type": "markdown",
   "metadata": {},
   "source": [
    "***"
   ]
  }
 ],
 "metadata": {
  "kernelspec": {
   "display_name": "Python 3",
   "language": "python",
   "name": "python3"
  },
  "language_info": {
   "codemirror_mode": {
    "name": "ipython",
    "version": 3
   },
   "file_extension": ".py",
   "mimetype": "text/x-python",
   "name": "python",
   "nbconvert_exporter": "python",
   "pygments_lexer": "ipython3",
   "version": "3.6.5"
  }
 },
 "nbformat": 4,
 "nbformat_minor": 2
}
