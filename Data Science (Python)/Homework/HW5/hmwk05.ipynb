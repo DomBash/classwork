{
 "cells": [
  {
   "cell_type": "markdown",
   "metadata": {},
   "source": [
    "<a id='top'></a>\n",
    "\n",
    "# Homework 5: Confidence intervals and other things\n",
    "***\n",
    "\n",
    "**Name**: Dominic B\n",
    "\n",
    "***\n",
    "\n",
    "This assignment is due on Moodle by **5 PM on Friday November 9**. Your solutions to theoretical questions should be done in Markdown/MathJax directly below the associated question.  Your solutions to computational questions should include any specified Python code and results as well as written commentary on your conclusions.  Remember that you are encouraged to discuss the problems with your instructors and classmates, but **you must write all code and solutions on your own**.  \n",
    "\n",
    "**NOTES**: \n",
    "\n",
    "- Do **NOT** load or use any Python packages that are not available in Anaconda 3.6. \n",
    "- Some problems with code may be autograded.  If we provide a function API **do not** change it.  If we do not provide a function API then you're free to structure your code however you like. \n",
    "- Because you can technically evaluate notebook cells is a non-linear order, it's a good idea to do Cell $\\rightarrow$ Run All as a check before submitting your solutions.  That way if we need to run your code you will know that it will work as expected. \n",
    "- Submit only this Jupyter notebook to Moodle.  Do not compress it using tar, rar, zip, etc. \n",
    "- This should go without saying, but... For any question that asks you to calculate something, you **must show all work to receive credit**. Sparse or nonexistent work will receive sparse or nonexistent credit.\n",
    "\n",
    "---\n",
    "**Shortcuts:**  [Problem 1](#p1) | [Problem 2](#p2) | [Problem 3](#p3) | [Problem 4](#p4)\n",
    "\n",
    "---"
   ]
  },
  {
   "cell_type": "code",
   "execution_count": 1,
   "metadata": {
    "scrolled": true
   },
   "outputs": [],
   "source": [
    "import numpy as np\n",
    "import matplotlib.pyplot as plt\n",
    "import pandas as pd\n",
    "import scipy.stats as stats\n",
    "%matplotlib inline"
   ]
  },
  {
   "cell_type": "markdown",
   "metadata": {},
   "source": [
    "---\n",
    "\n",
    "<a id='p1'></a>\n",
    "[Back to top](#top)\n",
    "\n",
    "### [30 points] Problem 1 - Sea-level rise, schmee-level rise!\n",
    "\n",
    "You have been contacted by the local government of Key West, Florida, to assess whether there is statistical evidence for sea-level rise in the area. You obtain from the University of Hawaii Sea Level Center's [gigantic repository of sea-level data](https://uhslc.soest.hawaii.edu/data/?rq) the daily mean sea levels file [linked here](https://piazza.com/class_profile/get_resource/jhaqogsdelf76h/jixzm0rl5dp6y4) and below.\n",
    "\n",
    "In this problem, you will:\n",
    "1. practice calculating confidence intervals, \n",
    "1. practice wrangling a real-life data set into a form where you can actually compute these confidence intervals, because life will rarely be so kind as to simply hand you a nicely packaged and cleaned set of data, and\n",
    "1. save Key West from a watery fate?"
   ]
  },
  {
   "cell_type": "code",
   "execution_count": 2,
   "metadata": {},
   "outputs": [
    {
     "data": {
      "text/html": [
       "<div>\n",
       "<style scoped>\n",
       "    .dataframe tbody tr th:only-of-type {\n",
       "        vertical-align: middle;\n",
       "    }\n",
       "\n",
       "    .dataframe tbody tr th {\n",
       "        vertical-align: top;\n",
       "    }\n",
       "\n",
       "    .dataframe thead th {\n",
       "        text-align: right;\n",
       "    }\n",
       "</style>\n",
       "<table border=\"1\" class=\"dataframe\">\n",
       "  <thead>\n",
       "    <tr style=\"text-align: right;\">\n",
       "      <th></th>\n",
       "      <th>Year</th>\n",
       "      <th>Month</th>\n",
       "      <th>Day</th>\n",
       "      <th>SL</th>\n",
       "    </tr>\n",
       "  </thead>\n",
       "  <tbody>\n",
       "    <tr>\n",
       "      <th>0</th>\n",
       "      <td>1913</td>\n",
       "      <td>1</td>\n",
       "      <td>20</td>\n",
       "      <td>1453</td>\n",
       "    </tr>\n",
       "    <tr>\n",
       "      <th>1</th>\n",
       "      <td>1913</td>\n",
       "      <td>1</td>\n",
       "      <td>21</td>\n",
       "      <td>1439</td>\n",
       "    </tr>\n",
       "    <tr>\n",
       "      <th>2</th>\n",
       "      <td>1913</td>\n",
       "      <td>1</td>\n",
       "      <td>22</td>\n",
       "      <td>1444</td>\n",
       "    </tr>\n",
       "    <tr>\n",
       "      <th>3</th>\n",
       "      <td>1913</td>\n",
       "      <td>1</td>\n",
       "      <td>23</td>\n",
       "      <td>1489</td>\n",
       "    </tr>\n",
       "    <tr>\n",
       "      <th>4</th>\n",
       "      <td>1913</td>\n",
       "      <td>1</td>\n",
       "      <td>24</td>\n",
       "      <td>1474</td>\n",
       "    </tr>\n",
       "  </tbody>\n",
       "</table>\n",
       "</div>"
      ],
      "text/plain": [
       "   Year  Month  Day    SL\n",
       "0  1913      1   20  1453\n",
       "1  1913      1   21  1439\n",
       "2  1913      1   22  1444\n",
       "3  1913      1   23  1489\n",
       "4  1913      1   24  1474"
      ]
     },
     "execution_count": 2,
     "metadata": {},
     "output_type": "execute_result"
    }
   ],
   "source": [
    "# Local and web paths to the data; pick which works for you.\n",
    "local_path = \"data/sealevel_keywest.csv\"\n",
    "web_path   = \"https://raw.githubusercontent.com/dblarremore/csci3022/master/homework/homework5/data/sealevel_keywest.csv\"\n",
    "file_path  = local_path\n",
    "\n",
    "dfSL = pd.read_csv(file_path, header=None)\n",
    "dfSL.rename(columns={0 : 'Year', 1 : 'Month', 2 : 'Day', 3 : 'SL'}, inplace=True)\n",
    "dfSL.head()"
   ]
  },
  {
   "cell_type": "markdown",
   "metadata": {},
   "source": [
    "**Part A:**  Write a function `clean_data` to:\n",
    "1. take in a single argument of a raw sea level data frame (e.g., `dfSL` above),\n",
    "2. compute the fill-value used to replace missing sea level (SL) data (**not** hard-coded!),\n",
    "3. use the Pandas `DataFrame.dropna` method to remove all missing rows of data, \n",
    "4. select only the data point on the second day of each month, and\n",
    "4. return a cleaned Pandas data frame.\n",
    "\n",
    "Use your shiny new function to clean the `dfSL` data frame and save the results in a new data frame.\n",
    "\n",
    "There is a very specific reason to sample only one daily data point per month. We will talk about it later."
   ]
  },
  {
   "cell_type": "code",
   "execution_count": 3,
   "metadata": {},
   "outputs": [
    {
     "data": {
      "text/html": [
       "<div>\n",
       "<style scoped>\n",
       "    .dataframe tbody tr th:only-of-type {\n",
       "        vertical-align: middle;\n",
       "    }\n",
       "\n",
       "    .dataframe tbody tr th {\n",
       "        vertical-align: top;\n",
       "    }\n",
       "\n",
       "    .dataframe thead th {\n",
       "        text-align: right;\n",
       "    }\n",
       "</style>\n",
       "<table border=\"1\" class=\"dataframe\">\n",
       "  <thead>\n",
       "    <tr style=\"text-align: right;\">\n",
       "      <th></th>\n",
       "      <th>Year</th>\n",
       "      <th>Month</th>\n",
       "      <th>Day</th>\n",
       "      <th>SL</th>\n",
       "    </tr>\n",
       "  </thead>\n",
       "  <tbody>\n",
       "    <tr>\n",
       "      <th>0</th>\n",
       "      <td>1913</td>\n",
       "      <td>2</td>\n",
       "      <td>2</td>\n",
       "      <td>1409</td>\n",
       "    </tr>\n",
       "    <tr>\n",
       "      <th>1</th>\n",
       "      <td>1913</td>\n",
       "      <td>3</td>\n",
       "      <td>2</td>\n",
       "      <td>1397</td>\n",
       "    </tr>\n",
       "    <tr>\n",
       "      <th>2</th>\n",
       "      <td>1913</td>\n",
       "      <td>4</td>\n",
       "      <td>2</td>\n",
       "      <td>1402</td>\n",
       "    </tr>\n",
       "    <tr>\n",
       "      <th>3</th>\n",
       "      <td>1913</td>\n",
       "      <td>5</td>\n",
       "      <td>2</td>\n",
       "      <td>1450</td>\n",
       "    </tr>\n",
       "    <tr>\n",
       "      <th>4</th>\n",
       "      <td>1913</td>\n",
       "      <td>6</td>\n",
       "      <td>2</td>\n",
       "      <td>1490</td>\n",
       "    </tr>\n",
       "  </tbody>\n",
       "</table>\n",
       "</div>"
      ],
      "text/plain": [
       "   Year  Month  Day    SL\n",
       "0  1913      2    2  1409\n",
       "1  1913      3    2  1397\n",
       "2  1913      4    2  1402\n",
       "3  1913      5    2  1450\n",
       "4  1913      6    2  1490"
      ]
     },
     "execution_count": 3,
     "metadata": {},
     "output_type": "execute_result"
    }
   ],
   "source": [
    "def clean_data(df):\n",
    "    \n",
    "    df.dropna()\n",
    "    median = df.SL.median()\n",
    "    size = df.SL.count()\n",
    "    for i in range(len(df.SL)):\n",
    "        if df.SL[i] < (median - 1000) or df.SL[i] > (median + 1000) or df.Day[i] != 2:\n",
    "            df = df.drop(i)\n",
    "    size = df.SL.count()\n",
    "\n",
    "    dfClean = df\n",
    "    dfClean = dfClean.reset_index(drop = True)\n",
    "    return dfClean\n",
    "\n",
    "dfClean = clean_data(dfSL)\n",
    "dfClean.head()"
   ]
  },
  {
   "cell_type": "code",
   "execution_count": 4,
   "metadata": {},
   "outputs": [],
   "source": [
    "dfClean = clean_data(dfSL)"
   ]
  },
  {
   "cell_type": "markdown",
   "metadata": {},
   "source": [
    "**Part B:**  Plot the cleaned time series of sea levels. Be sure to label your axes, including units. The UHSLC data portal includes a link to the metadata accompanying our data set; if you are not sure about units, that would be a good place to start looking. For the $x$-axis, place the $x$ tick marks on January 2 of each year that is divisible by 10 (i.e., 1920, 1930, ...), and label with that year. You may need to do additional processing in order to grab these indices. \n",
    "\n",
    "**Bonus challenge (0 points):**  Why do we choose to work with the second day of each month instead of the first?  You may need to look at the original data set to answer this."
   ]
  },
  {
   "cell_type": "code",
   "execution_count": 5,
   "metadata": {},
   "outputs": [
    {
     "data": {
      "text/plain": [
       "(1920, 2010, 1216.1924116997793, 2069.8075883002207)"
      ]
     },
     "execution_count": 5,
     "metadata": {},
     "output_type": "execute_result"
    },
    {
     "data": {
      "image/png": "[encoded data removed]",
      "text/plain": [
       "<Figure size 864x576 with 1 Axes>"
      ]
     },
     "metadata": {},
     "output_type": "display_data"
    }
   ],
   "source": [
    "fig,axs = plt.subplots(1,1,figsize=(12,8))\n",
    "\n",
    "axs.scatter(dfClean.Year, dfClean.SL,color = \"red\", edgecolor = \"black\")\n",
    "axs.set_ylabel(\"Sea Level (millimeters)\", fontsize=16)\n",
    "axs.set_xlabel(\"Year (Jan 2)\", fontsize=16)\n",
    "axs.set_title(\"Sea Level by Year\", fontsize=16)\n",
    "axs.axis(xmin = 1920, xmax = 2010)"
   ]
  },
  {
   "cell_type": "markdown",
   "metadata": {},
   "source": [
    "**Part C:** Use your cleaned sea levels data frame to create two new Pandas data frames or series:\n",
    "1. one object to contain the sea levels between (and including) the years 1986 and 1995, and\n",
    "2. another object to contain the sea levels between (and including) the years 2006 and 2015.\n",
    "\n",
    "Then, create a single-panel figure that includes density histograms of each decade of sea levels. Be sure to label everything appropriately.\n",
    "\n",
    "Finally, based on the data in front of you, formulate and state a hypothesis about how the mean sea level in the decade 2006-2015 compares to the mean sea level in the decade 1986-1995."
   ]
  },
  {
   "cell_type": "code",
   "execution_count": 6,
   "metadata": {},
   "outputs": [],
   "source": [
    "dfEarly = dfClean\n",
    "dfLate = dfClean\n",
    "for i in range(len(dfClean.Year)):\n",
    "    if dfClean.Year[i] < 1986 or dfClean.Year[i] > 1995:\n",
    "        dfEarly = dfEarly.drop(i)\n",
    "    if dfClean.Year[i] < 2006 or dfClean.Year[i] > 2015:\n",
    "        dfLate = dfLate.drop(i)"
   ]
  },
  {
   "cell_type": "code",
   "execution_count": 7,
   "metadata": {
    "scrolled": false
   },
   "outputs": [
    {
     "data": {
      "text/plain": [
       "<matplotlib.legend.Legend at 0x19ae3c2f668>"
      ]
     },
     "execution_count": 7,
     "metadata": {},
     "output_type": "execute_result"
    },
    {
     "data": {
      "image/png": "[encoded data removed]",
      "text/plain": [
       "<Figure size 864x576 with 1 Axes>"
      ]
     },
     "metadata": {},
     "output_type": "display_data"
    }
   ],
   "source": [
    "fig,axs = plt.subplots(1,1,figsize=(12,8))\n",
    "\n",
    "axs.hist(dfLate.SL,color = \"red\", edgecolor = \"black\", alpha = .7, bins = 9)\n",
    "axs.hist(dfEarly.SL,color = \"blue\", edgecolor = \"black\", alpha = .7, bins = 9)\n",
    "\n",
    "axs.set_ylabel(\"Frequency\", fontsize=16)\n",
    "axs.set_xlabel(\"Sea Level (millimeters)\", fontsize=16)\n",
    "axs.set_title(\"Sea Level in \", fontsize=16)\n",
    "axs.legend(['2006 - 2015', '1986 - 1995'])"
   ]
  },
  {
   "cell_type": "markdown",
   "metadata": {},
   "source": [
    "It looks as though the mean sea level has increased slightly in the later decade. The sea level of the later decade has decreased in frequency at lower sea levels but increased frequency at higher sea levels."
   ]
  },
  {
   "cell_type": "markdown",
   "metadata": {},
   "source": [
    "**Part D:** Compute a 99.9% confidence interval for each of (1) the mean sea level in the 1986-1995 decade ($\\mu_{1986-1995}$) and (2) the mean sea level in the 2006-2015 decade ($\\mu_{2006-2015}$).  You may use Python for arithmetic operations and executing the calculations, but the relevant steps/set-up should be displayed in Markdown/MathJax.\n",
    "\n",
    "Based on these two confidence intervals, do you think there is sufficient evidence to conclude that there is or is not a significant difference in the mean sea level between 1986-1995 and 2006-2015? Justify your answer. "
   ]
  },
  {
   "cell_type": "markdown",
   "metadata": {},
   "source": [
    "Confidence Interval Formula:\n",
    "$\\bar X \\pm Z \\dfrac{\\sigma}{\\sqrt n}$ <br \\>\n"
   ]
  },
  {
   "cell_type": "code",
   "execution_count": 8,
   "metadata": {},
   "outputs": [
    {
     "name": "stdout",
     "output_type": "stream",
     "text": [
      "The CI of 99.9% from 1986-1995 is 1720.6780 ± 29.5895.\n",
      "The CI of 99.9% from 2006-2015 is 1670.5750 ± 33.2692.\n"
     ]
    }
   ],
   "source": [
    "stdE = dfEarly.SL.std()\n",
    "stdL = dfLate.SL.std()\n",
    "lenE = dfEarly.SL.size\n",
    "lenL = dfLate.SL.size\n",
    "meanE = dfLate.SL.mean()\n",
    "meanL = dfEarly.SL.mean()\n",
    "Z = stats.norm.ppf(1- (1-.999)/2) #for CI of 99.9%\n",
    "\n",
    "resultE = Z*(stdE/np.sqrt(lenE))\n",
    "resultL = Z*(stdL/np.sqrt(lenL))\n",
    "print(\"The CI of 99.9% from 1986-1995 is {:.4f}\".format(meanE),chr(177),\"{:.6}.\".format(resultE))\n",
    "print(\"The CI of 99.9% from 2006-2015 is {:.4f}\".format(meanL),chr(177),\"{:.6}.\".format(resultL))"
   ]
  },
  {
   "cell_type": "markdown",
   "metadata": {},
   "source": [
    "Based on this confiedence interval I do think there is sufficient evidence to conclude that there is not a significant difference in the mean sea level of the two decades. There is overlap within this interval which means that its very possible that they have the same or very close to the same mean."
   ]
  },
  {
   "cell_type": "markdown",
   "metadata": {},
   "source": [
    "**Part E:**  Compute a 99.9% confidence interval for the ***difference in mean sea level*** between the 2006-2015 and the 1986-1995 decades ($\\mu_{2006-2015} - \\mu_{1986-1995}$. Based on this, make a conclusion regarding your hypothesis from **Part C**, and compare to what your results in **Part D** implied. You may use Python for arithmetic operations and executing the calculations, but the relevant steps/set-up should be displayed in Markdown/MathJax."
   ]
  },
  {
   "cell_type": "markdown",
   "metadata": {},
   "source": [
    "Confidence Interval for the Difference Formula:\n",
    "$\\bar X - \\bar Y \\pm Z \\sqrt {\\dfrac{\\sigma _1 ^2}{\\sqrt m} + \\dfrac{\\sigma _2 ^2}{\\sqrt n}}$ <br \\>"
   ]
  },
  {
   "cell_type": "code",
   "execution_count": 9,
   "metadata": {},
   "outputs": [
    {
     "name": "stdout",
     "output_type": "stream",
     "text": [
      "The CI of 99.9% for the difference in mean sea level is 50.1030 ± 44.5239.\n"
     ]
    }
   ],
   "source": [
    "stdE = dfEarly.SL.std()\n",
    "stdL = dfLate.SL.std()\n",
    "lenE = dfEarly.SL.size\n",
    "lenL = dfLate.SL.size\n",
    "meanE = dfLate.SL.mean()\n",
    "meanL = dfEarly.SL.mean()\n",
    "Z = stats.norm.ppf(1- (1-.999)/2) #for CI of 99.9%\n",
    "\n",
    "mean = meanE - meanL\n",
    "result = Z*(np.sqrt(((stdL**2)/lenL)+((stdE**2)/lenE)))\n",
    "\n",
    "print(\"The CI of 99.9% for the difference in mean sea level is {:.4f}\".format(mean),chr(177),\"{:.6}.\".format(result))"
   ]
  },
  {
   "cell_type": "markdown",
   "metadata": {},
   "source": [
    "As I said in **Part C** the mean has changed slightly, but like I said in **Part D** the difference doesn't seem to be significant."
   ]
  },
  {
   "cell_type": "markdown",
   "metadata": {},
   "source": [
    "**Part F:**  The confidence intervals from **Parts D** and **E** were derived using the Central Limit Theorem.  Which assumption of the Central Limit Theorem would likely be violated if we took more than one measurement per month to form our samples, and why?"
   ]
  },
  {
   "cell_type": "markdown",
   "metadata": {},
   "source": [
    "The Central Limit Theorem assumes that variables are independent so if we took measurements too close together they might not be independent of eachother."
   ]
  },
  {
   "cell_type": "markdown",
   "metadata": {},
   "source": [
    "---\n",
    "\n",
    "<a id='p2'></a>\n",
    "[Back to top](#top)\n",
    "\n",
    "### [25 points] Problem 2 - Quality of Red vs White Wine \n",
    "\n",
    "**Part A:** Load the data in [`winequalityred.csv`](https://piazza.com/class_profile/get_resource/jhaqogsdelf76h/jixzm1ebc6q6ye) and [`winequalitywhite.csv`](https://piazza.com/class_profile/get_resource/jhaqogsdelf76h/jixzm17x9pu6y9) into Pandas DataFrames.  They are available under Resources on Piazza, and linked here and below.  A description of this dataset can be found on [UC Irvine's Machine Learning Repository](https://archive.ics.uci.edu/ml/datasets/Wine+Quality). The quantity of interest for this problem is the quality of the wine.\n",
    "\n",
    "Are we justified in using the Central Limit Theorem in our analysis of estimates of the mean and proportions of the data?  Justify your response. "
   ]
  },
  {
   "cell_type": "markdown",
   "metadata": {},
   "source": [
    "Yes we are justified because the data roughly follows a normal distribution, we have a large number of data points, and the points are random and independent."
   ]
  },
  {
   "cell_type": "code",
   "execution_count": 10,
   "metadata": {},
   "outputs": [],
   "source": [
    "# read either local or web file version; pick whichever works for you\n",
    "local_file_white = \"data/winequality-white.csv\"\n",
    "local_file_red   = \"data/winequality-red.csv\"\n",
    "web_file_white = \"https://raw.githubusercontent.com/dblarremore/csci3022/master/homework/homework5/data/winequality-white.csv\"\n",
    "web_file_red   = \"https://raw.githubusercontent.com/dblarremore/csci3022/master/homework/homework5/data/winequality-red.csv\"\n",
    "\n",
    "dfRed   = pd.read_csv(local_file_red, delimiter=';')\n",
    "dfWhite = pd.read_csv(local_file_white, delimiter=';')"
   ]
  },
  {
   "cell_type": "code",
   "execution_count": 11,
   "metadata": {},
   "outputs": [
    {
     "data": {
      "text/plain": [
       "<matplotlib.axes._subplots.AxesSubplot at 0x19ae6dbdac8>"
      ]
     },
     "execution_count": 11,
     "metadata": {},
     "output_type": "execute_result"
    },
    {
     "data": {
      "image/png": "[encoded data removed]",
      "text/plain": [
       "<Figure size 720x288 with 2 Axes>"
      ]
     },
     "metadata": {},
     "output_type": "display_data"
    }
   ],
   "source": [
    "fig,axs = plt.subplots(1,2,figsize=(10,4))\n",
    "\n",
    "dfWhite.quality.hist(ax=axs[0], color = \"blanchedalmond\", edgecolor = \"black\", bins = range(3,10))\n",
    "dfRed.quality.hist(ax=axs[1], color = \"red\", edgecolor = \"black\", bins = range(3,10))"
   ]
  },
  {
   "cell_type": "markdown",
   "metadata": {},
   "source": [
    "**Part B:** Let $X$ be a random variable denoting the quality of a bottle of wine, and let $C$ be a random variable denoting its color (either red ($r$) or white ($w$)). For the remainder of this problem, we are concerned with probabilities such as \"If I buy a random bottle of red wine, what is the probability that its quality is at least a 7?\". We could write that probability as $P(X \\geq 7 \\mid C=r)$, for example, and consider it the ***proportion*** of the population of red wines that are at least a 7 in quality. Calculate and report estimates of $P(X \\geq 7 \\mid C=r)$ and $P(X \\geq 7 \\mid C=w)$.\n",
    "\n",
    "Obtain 95% confidence intervals for the proportion of red and white wines that are **at least** a 7 in quality (obtain one CI for each color).  Based on your results, if you are interested in buying many high quality bottles of wine but are buying totally at random, is one color a better bet than the other? Fully justify your answer.\n",
    "\n",
    "Calculations may be executed in Python, but you need to set up your work (*what* it is you are calculating) in Markdown/MathJax."
   ]
  },
  {
   "cell_type": "markdown",
   "metadata": {},
   "source": [
    "$\\hat p \\pm Z \\sqrt{\\dfrac{\\hat p(1- \\hat p)}{n}}$<br \\>\n",
    "$\\hat p = \\dfrac{x}{n}$<br \\>\n",
    "$x$ being the number of wines with a quality equal to or greater than 7.<br \\>\n",
    "$Z = 1.960$"
   ]
  },
  {
   "cell_type": "code",
   "execution_count": 12,
   "metadata": {},
   "outputs": [
    {
     "name": "stdout",
     "output_type": "stream",
     "text": [
      "The CI of 95% for the proportion of red wines that are at least a 7 in quality is 0.1357 ± 0.0167865.\n",
      "The CI of 95% for the proportion of white wines that are at least a 7 in quality is 0.2164 ± 0.0115325.\n"
     ]
    }
   ],
   "source": [
    "wMean = dfWhite.quality.mean()\n",
    "rMean = dfRed.quality.mean()\n",
    "wStd = dfWhite.quality.std()\n",
    "rStd = dfRed.quality.std()\n",
    "wN =  dfWhite.quality.size\n",
    "rN = dfRed.quality.size\n",
    "Z = stats.norm.ppf(1- (1-.95)/2)#for CI of 95%\n",
    "\n",
    "wX = 0\n",
    "rX = 0\n",
    "for i in range(wN):\n",
    "    if dfWhite.quality[i] >= 7:\n",
    "        wX += 1\n",
    "for i in range(rN):\n",
    "    if dfRed.quality[i] >= 7:\n",
    "        rX += 1\n",
    "\n",
    "wP = wX/wN\n",
    "rP = rX/rN\n",
    "\n",
    "wResult = Z*(np.sqrt((wP*(1-wP))/wN))\n",
    "rResult = Z*(np.sqrt((rP*(1-rP))/rN))\n",
    "print(\"The CI of 95% for the proportion of red wines that are at least a 7 in quality is {:.4f}\".format(rP),chr(177),\"{:.6}.\".format(rResult))\n",
    "print(\"The CI of 95% for the proportion of white wines that are at least a 7 in quality is {:.4f}\".format(wP),chr(177),\"{:.6}.\".format(wResult))"
   ]
  },
  {
   "cell_type": "markdown",
   "metadata": {},
   "source": [
    "If you are interested in buying many high quality bottles of wine but are buying totally at random a white wine would be a better bet. Based on the data a higher portion of white wines are high quality compared to red wines."
   ]
  },
  {
   "cell_type": "markdown",
   "metadata": {},
   "source": [
    "**Part C:** Now, as college students (and teachers), we might not be super concerned with buying a really high quality bottle of wine.  Let's focus instead on making sure we do *not* buy a really disgusting bottle of wine.  Calculate and report estimates of $P(X \\geq 5 \\mid C=r)$ and $P(X \\geq 5 \\mid C=w)$.\n",
    "\n",
    "Obtain 95% confidence intervals for the proportion of red and white wines that are **at least** a 5 in quality, that is, $P(X \\geq 5 \\mid C)$.  Based on your results - and what you saw in Problem 1 - if you are interested in buying bottles of wine that are at least a 5 in quality, but are again buying wine totally randomly, can you conclude that you are better off buying one color over the other? Fully justify your answer."
   ]
  },
  {
   "cell_type": "code",
   "execution_count": 13,
   "metadata": {},
   "outputs": [
    {
     "name": "stdout",
     "output_type": "stream",
     "text": [
      "The CI of 95% for the proportion of red wines that are at least a 5 in quality is 0.9606 ± 0.00953545.\n",
      "The CI of 95% for the proportion of white wines that are at least a 5 in quality is 0.9626 ± 0.00531112.\n"
     ]
    }
   ],
   "source": [
    "wX = 0\n",
    "rX = 0\n",
    "for i in range(wN):\n",
    "    if dfWhite.quality[i] >= 5:\n",
    "        wX += 1\n",
    "for i in range(rN):\n",
    "    if dfRed.quality[i] >= 5:\n",
    "        rX += 1\n",
    "\n",
    "wP = wX/wN\n",
    "rP = rX/rN\n",
    "\n",
    "wResult = Z*(np.sqrt((wP*(1-wP))/wN))\n",
    "rResult = Z*(np.sqrt((rP*(1-rP))/rN))\n",
    "        \n",
    "print(\"The CI of 95% for the proportion of red wines that are at least a 5 in quality is {:.4f}\".format(rP),chr(177),\"{:.6}.\".format(rResult))\n",
    "print(\"The CI of 95% for the proportion of white wines that are at least a 5 in quality is {:.4f}\".format(wP),chr(177),\"{:.6}.\".format(wResult))"
   ]
  },
  {
   "cell_type": "markdown",
   "metadata": {},
   "source": [
    "If you are interested in buying many bottles of wine that are a 5 or higher in quality but are buying totally at random it is not obvious which color you should get. Based on the proportions of this data white and red are nearly the same and most wines, white or red, are going to be a 5 or higher in quality."
   ]
  },
  {
   "cell_type": "markdown",
   "metadata": {},
   "source": [
    "**Part D:** Compute a 95% confidence interval for the difference in proportions of red and white wines that are at least a 5 in quality. \n",
    "\n",
    "Now, based on your results for this part, can you conclude that you are better off buying one color over the other? Fully justify your answer. How does your work here differ from your work in **Part C**?"
   ]
  },
  {
   "cell_type": "markdown",
   "metadata": {},
   "source": [
    "$\\hat p _w - \\hat p _r \\pm Z \\sqrt{\\dfrac{\\hat p_w(1- \\hat p_w)}{n_w} + \\dfrac{\\hat p_r(1- \\hat p_r)}{n_r}}$<br \\>"
   ]
  },
  {
   "cell_type": "code",
   "execution_count": 14,
   "metadata": {},
   "outputs": [
    {
     "name": "stdout",
     "output_type": "stream",
     "text": [
      "The CI of 95% for the difference in proportions of wines that are at least a 5 in quality is 0.0020 ± 0.0109148.\n"
     ]
    }
   ],
   "source": [
    "P = wP - rP\n",
    "\n",
    "result = Z*(np.sqrt(((wP*(1-wP))/(wN))+((rP*(1-rP))/(rN))))\n",
    "\n",
    "print(\"The CI of 95% for the difference in proportions of wines that are at least a 5 in quality is {:.4f}\".format(P),chr(177),\"{:.6}.\".format(result))"
   ]
  },
  {
   "cell_type": "markdown",
   "metadata": {},
   "source": [
    "This still doesn't help to conclude which color is better. The difference in proportions is still to small to come to an accurate conclusion."
   ]
  },
  {
   "cell_type": "markdown",
   "metadata": {},
   "source": [
    "**Part E:**  Now, we have many more observations of white wines than red. This certainly contributes to the width of the 95% confidence interval for the proportion of red wines that are at least a 5 in quality, which you should have found in **Part C** to be wider than the corresponding confidence interval for white wines. \n",
    "\n",
    "How large would our sample size of red wines need to be in order to guarantee that this 95% confidence interval width is at most 0.01? Note that we are hypothetically adding more samples, so we do not know the precise value of $\\hat{p}$."
   ]
  },
  {
   "cell_type": "code",
   "execution_count": 15,
   "metadata": {},
   "outputs": [
    {
     "name": "stdout",
     "output_type": "stream",
     "text": [
      "Our sample size of red wines need to be about 17200 with a p of 0.50 in order to guarantee that this 95% confidence interval width is at most 0.01.\n"
     ]
    }
   ],
   "source": [
    "rX = 0\n",
    "#rN = 1599 real\n",
    "#rP = .96 real\n",
    "rN = 17200\n",
    "rP = .5\n",
    "rResult = Z*(np.sqrt((rP*(1-rP))/rN))\n",
    "\n",
    "print(\"Our sample size of red wines need to be about {:.0f} with a p of {:.2f} in order to guarantee that this 95% confidence interval width is at most {:.2f}.\".format(rN,rP,rResult*2))"
   ]
  },
  {
   "cell_type": "code",
   "execution_count": 16,
   "metadata": {},
   "outputs": [
    {
     "name": "stdout",
     "output_type": "stream",
     "text": [
      "Our sample size of red wines need to be about 2650 with a p of 0.96 in order to guarantee that this 95% confidence interval width is at most 0.01.\n"
     ]
    }
   ],
   "source": [
    "rN = 2650\n",
    "rP = .96\n",
    "rResult = Z*(np.sqrt((rP*(1-rP))/rN))\n",
    "\n",
    "print(\"Our sample size of red wines need to be about {:.0f} with a p of {:.2f} in order to guarantee that this 95% confidence interval width is at most {:.2f}.\".format(rN,rP,rResult*2))"
   ]
  },
  {
   "cell_type": "markdown",
   "metadata": {},
   "source": [
    "---\n",
    "\n",
    "<a id='p3'></a>\n",
    "[Back to top](#top)\n",
    "\n",
    "### [30 points] Problem 3 - Exploring Confidence Intervals \n",
    "\n",
    "The [Gumbel](https://en.wikipedia.org/wiki/Gumbel_distribution) distribution is one of several distributions frequently used to model environmental extremes (for example, extreme temperatures and sea levels).  It is also fairly asymmetric, and thus interesting for investigating confidence intervals.  It is implemented in scipy.stats as [gumbel_r](https://docs.scipy.org/doc/scipy/reference/generated/scipy.stats.gumbel_r.html), where the appendix \"\\_r\" denotes the right-skewed version of the Gumbel distribution (as opposed to the left-skewed)."
   ]
  },
  {
   "cell_type": "markdown",
   "metadata": {},
   "source": [
    "**Part A**: Complete the following code cell to plot a histogram of 100 realizations from the Gumbel distribution with parameters $\\mu=8$ and $\\beta=2$.  Be sure to leave this cell executed before turning in your assignment! Make your histogram grey with gold edges."
   ]
  },
  {
   "cell_type": "code",
   "execution_count": 17,
   "metadata": {},
   "outputs": [
    {
     "data": {
      "text/plain": [
       "(array([ 5.,  9., 19., 21., 27.,  9.,  5.,  4.,  0.,  1.]),\n",
       " array([ 4.26851119,  5.44736911,  6.62622702,  7.80508494,  8.98394285,\n",
       "        10.16280077, 11.34165868, 12.5205166 , 13.69937451, 14.87823243,\n",
       "        16.05709034]),\n",
       " <a list of 10 Patch objects>)"
      ]
     },
     "execution_count": 17,
     "metadata": {},
     "output_type": "execute_result"
    },
    {
     "data": {
      "image/png": "[encoded data removed]",
      "text/plain": [
       "<Figure size 432x288 with 1 Axes>"
      ]
     },
     "metadata": {},
     "output_type": "display_data"
    }
   ],
   "source": [
    "mu = 8\n",
    "beta = 2\n",
    "n_sample = 100\n",
    "\n",
    "gum = np.array(stats.gumbel_r.rvs(mu,beta,n_sample))\n",
    "fig,axs = plt.subplots(figsize=(6,4))\n",
    "\n",
    "axs.hist(gum, color = \"grey\", edgecolor =\"gold\")\n"
   ]
  },
  {
   "cell_type": "markdown",
   "metadata": {},
   "source": [
    "**Part B:** Look up the analytical mean and variance of the Gumbel distribution with parameters $\\mu=8$ and $\\beta=2$ and calculate them here by hand.  Note that the Euler–Mascheroni constant can be accessed via `np.euler_gamma`. \n",
    "\n",
    "Use the empirical mean from your sample in **Part A**, and the true variance of the Gumbel distribution to compute by hand a 95% confidence interval for the mean."
   ]
  },
  {
   "cell_type": "markdown",
   "metadata": {},
   "source": [
    "Mean = $\\mu + \\beta \\gamma$<br \\>\n",
    "Variance = $\\dfrac{\\pi ^2}{6}\\beta ^2$"
   ]
  },
  {
   "cell_type": "code",
   "execution_count": 20,
   "metadata": {},
   "outputs": [
    {
     "name": "stdout",
     "output_type": "stream",
     "text": [
      "Analytical Mean = 9.1544\n",
      "Analytical Variance = 6.5797\n",
      "Empirical Mean = 8.7696\n",
      "95% CI = ± 0.5028\n",
      "95% CI = [8.2669,9.2724]\n"
     ]
    }
   ],
   "source": [
    "#Analytical\n",
    "mu = 8\n",
    "beta = 2\n",
    "gamma = np.euler_gamma\n",
    "\n",
    "var = ((np.pi**2)/(6))*(beta**2)\n",
    "result = Z*((np.sqrt(var))/(np.sqrt(n_sample)))\n",
    "print(\"Analytical Mean = {:.4f}\".format(mean))\n",
    "print(\"Analytical Variance = {:.4f}\".format(var))\n",
    "print(\"Empirical Mean = {:.4f}\".format(gum.mean()))\n",
    "print(\"95% CI =\",chr(177),\"{:.4f}\".format(result))\n",
    "print(\"95% CI = [{:.4f},{:.4f}]\".format(gum.mean()-result,gum.mean()+result))"
   ]
  },
  {
   "cell_type": "markdown",
   "metadata": {},
   "source": [
    "$\\bar X \\pm Z \\dfrac{\\sigma}{\\sqrt n}$ <br \\>\n",
    "$Z = 1.960$ for $95$% CI\n",
    "\n",
    "$8.7696 \\pm 1.960\\dfrac{\\sqrt 6.5797}{\\sqrt 100}$<br \\>\n",
    "$ = \\fbox {$8.7696 \\pm 0.5028$}$ <br \\>\n"
   ]
  },
  {
   "cell_type": "markdown",
   "metadata": {},
   "source": [
    "**Part C:  A theoretical interlude.** When Stella O'Flaherty (the famous octopus) ran her solution code for **Part B**, she obtained a 95% confidence interval of $[8.81, 9.82]$ for the mean of the $Gum(\\mu=8, \\beta=2)$ distribution. For each of the following, explain why or why not the situation described is correct, given the technical definition of a 95% confidence interval we went over in class.\n",
    "\n",
    "**(i)** If you had no other evidence regarding true mean of the $Gum(\\mu=8, \\beta=2)$ distribution, you could say there is a 95% chance that its true mean falls between 8.81 and 9.82.\n",
    "\n",
    "**(ii)** If a class of 100 students all construct 95% confidence intervals for the mean of the $Gum(\\mu=8, \\beta=2)$ distribution, then we expect about 95 of their CIs to contain the true mean, and about 5 of them to miss the true mean.\n",
    "\n",
    "**(iii)** There is a 95% probability that any given random variable sampled from $Gum(\\mu=8, \\beta=2)$ will be between 8.81 and 9.82."
   ]
  },
  {
   "cell_type": "markdown",
   "metadata": {},
   "source": [
    "**(i)** True. This is what a confidence interval tells us.\n",
    "\n",
    "**(ii)** True. 95% CI means that if we computed an interval estimate for each sample we would expect the true mean to fall within the interval estimates 95% of the time.\n",
    "\n",
    "**(iii)** False. The mean of a series of random variables would fall in that range with a 95% probability not a single random variable."
   ]
  },
  {
   "cell_type": "markdown",
   "metadata": {},
   "source": [
    "**Part D:** In this part you'll write a function to investigate the _coverage properties_ of a confidence interval for the mean of the Gumbel distribution. Complete the following function to randomly sample $m=500$ sample means with sample size $n=100$ for the Gumbel distribution with parameters $\\mu=8$ and $\\beta=2$.  For each random sample, compute the 66% confidence interval for the mean. Note that you actually know that the variance for the true population distribution is, $\\sigma^2$.  Your function should do two things: \n",
    "\n",
    "1. Report the proportion of confidence intervals that successfully cover the true mean of the distribution \n",
    "2. Make a plot of 50 randomly selected confidence intervals. Overlay the intervals on the line $y=\\textrm{True mean}$ (from **Part B**). Color confidence intervals black if they cover the true mean, and red if they don't.  \n",
    "\n",
    "Be sure to leave this cell executed before turning in your assignment!"
   ]
  },
  {
   "cell_type": "code",
   "execution_count": 21,
   "metadata": {
    "scrolled": false
   },
   "outputs": [
    {
     "name": "stdout",
     "output_type": "stream",
     "text": [
      "proportion covering mean: 0.968\n"
     ]
    },
    {
     "data": {
      "image/png": "[encoded data removed]",
      "text/plain": [
       "<Figure size 864x576 with 1 Axes>"
      ]
     },
     "metadata": {},
     "output_type": "display_data"
    }
   ],
   "source": [
    "def confidence_intervals(m=500, n=100):\n",
    "    mu = 8\n",
    "    beta = 2\n",
    "    mean = 9.1544 #true mean calculated in Part B\n",
    "    Z = stats.norm.ppf(1- (1-.66)/2)\n",
    "    count = 0\n",
    "    maxs = np.zeros([51])\n",
    "    mins = np.zeros([51])\n",
    "    diff = np.zeros([51])\n",
    "    for i in range(m):\n",
    "        gumb = np.array(stats.gumbel_r.rvs(mu,beta,n))\n",
    "        result = Z*(gumb.std()**2)/(np.sqrt(n))\n",
    "        maxv = gumb.mean() + result\n",
    "        minv = gumb.mean() - result\n",
    "        if i < 51:\n",
    "            maxs[i] = maxv\n",
    "            mins[i] = minv\n",
    "            if maxv > mean and minv < mean:\n",
    "                diff[i] = 1\n",
    "        if maxv > mean and minv < mean:\n",
    "            count += 1\n",
    "        \n",
    "    \n",
    "    proportion_CIs_covering_mean = count/m\n",
    "    print(\"proportion covering mean: {:.3f}\".format(proportion_CIs_covering_mean))\n",
    "    \n",
    "    fig,axs = plt.subplots(figsize=(12,8))\n",
    "    \n",
    "    for i in range(51):\n",
    "        if diff[i] == 1:\n",
    "            axs.vlines(i,mins[i],maxs[i], color = \"black\")\n",
    "        else:\n",
    "            axs.vlines(i,mins[i],maxs[i], color = \"red\")\n",
    "\n",
    "    axs.hlines(mean,0,50, color = \"green\")\n",
    "    axs.set_ylabel(\"Interval Width\", fontsize=16)\n",
    "    axs.set_xlabel(\"Sample #\", fontsize=16)\n",
    "    axs.set_title(\"Intervals Covering True Mean\", fontsize=16)\n",
    "\n",
    "confidence_intervals()"
   ]
  },
  {
   "cell_type": "markdown",
   "metadata": {},
   "source": [
    "**Part E:** Does the proportion of confidence intervals that cover the true mean of the distribution agree with the theory described in class?  Justify your conclusion. "
   ]
  },
  {
   "cell_type": "markdown",
   "metadata": {},
   "source": [
    "The proportion of confidence intervals that cover the true mean of the distribution mostly agrees with the theory. Based on this simulation the proportion is a little higher than 95%. Though 95% is still safe to say because it's never lower than 95%. Therefore you can be confident in saying 95%. "
   ]
  },
  {
   "cell_type": "markdown",
   "metadata": {
    "collapsed": true
   },
   "source": [
    "---\n",
    "\n",
    "<a id='p4'></a>\n",
    "[Back to top](#top)\n",
    "\n",
    "### [15 points] Problem 4 - Freethrows\n",
    "***\n",
    "\n",
    "Keep your skills sharp by answering these straightforward questions."
   ]
  },
  {
   "cell_type": "markdown",
   "metadata": {},
   "source": [
    "**Part A**: <font color='green'>You are driving through the paint toward the basket when Steph Curry fouls you. You step to the line to sink this freethrow shot, which is delivered in the form of a CSCI3022 problem:</font>\n",
    "\n",
    "You have a shuffled deck of cards. It includes the usual 52 cards AND three special additional Octopus cards. You flip over the cards one by one, without replacing them in the deck. You count how many cards you'll have to flip until you flip over the second Octopus.  You repeat this many times. Simulate this process. Plot a histogram with binsize=1 of the outcomes, in lightgrey with white outline. Compute the mean, median, and mode for this dataset, indicate them on the plot too, using linstyles of green dashed, pink dotted, and black solid, respectively. Look up how to do a legend in MatPlotLib, and label your histogram, mean, median.\n",
    "***"
   ]
  },
  {
   "cell_type": "code",
   "execution_count": 22,
   "metadata": {},
   "outputs": [
    {
     "data": {
      "text/plain": [
       "Text(0.5,1,'Draws to get 2 Octopus Cards')"
      ]
     },
     "execution_count": 22,
     "metadata": {},
     "output_type": "execute_result"
    },
    {
     "data": {
      "image/png": "[encoded data removed]",
      "text/plain": [
       "<Figure size 864x576 with 1 Axes>"
      ]
     },
     "metadata": {},
     "output_type": "display_data"
    }
   ],
   "source": [
    "runs = 10000\n",
    "numFlips = np.zeros([runs])\n",
    "for i in range(runs):\n",
    "    octo = 0\n",
    "    count = 0\n",
    "    deck = [1,2,3,4,5,6,7,8,9,10,11,12,13,14,\n",
    "            1,2,3,4,5,6,7,8,9,10,11,12,13,14,\n",
    "            1,2,3,4,5,6,7,8,9,10,11,12,13,14,\n",
    "            1,2,3,4,5,6,7,8,9,10,11,12,13]\n",
    "    while octo < 2:\n",
    "        card = np.random.choice(deck)\n",
    "        deck.remove(card)\n",
    "        if card == 14:\n",
    "            octo += 1\n",
    "        count += 1\n",
    "    numFlips[i] = count\n",
    "    \n",
    "mean = numFlips.mean()\n",
    "median = np.median(numFlips)\n",
    "mode = stats.mode(numFlips)[0]\n",
    "mode2 = stats.mode(numFlips)[1]\n",
    "\n",
    "fig,axs = plt.subplots(figsize=(12,8))\n",
    "\n",
    "axs.hist(numFlips,bins = [2,3,4,5,6,7,8,9,10,11,12,13,14,15,16,17,18,19,20,21,22,23,24,25,26,27,\n",
    "                          28,29,30,31,32,33,34,35,36,37,38,39,40,41,42,43,44,45,46,47,48,49,50,51,52,53,54,55], \n",
    "                         color = \"lightgrey\", edgecolor = \"white\")\n",
    "axs.vlines(mean,0,mode2, color = \"green\",linestyle = \"dashed\")\n",
    "axs.vlines(mode,0,mode2, color = \"black\",linestyle = \"solid\")\n",
    "axs.vlines(median,0,mode2, color = \"pink\",linestyle = \"dotted\")\n",
    "axs.legend(['Mean', 'Mode', 'Median'])\n",
    "axs.set_ylabel(\"Frequency\", fontsize=16)\n",
    "axs.set_xlabel(\"# of Draws\", fontsize=16)\n",
    "axs.set_title(\"Draws to get 2 Octopus Cards\", fontsize=16)"
   ]
  },
  {
   "cell_type": "markdown",
   "metadata": {},
   "source": [
    "**Part B**: <font color='green'>You sink your first free throw and immediately get dap from your teammates, Oscar O'Flaherty and Octavia O'Flaherty. You prepare to take another shot, which—and you're not going to believe this—is another CSCI3022 problem:</font>\n",
    "\n",
    "In general, which is wider: a 95% confidence interval or a 99% confidence interval? How would you explain this to your younger sibling, who is not a statistician?\n",
    "***"
   ]
  },
  {
   "cell_type": "markdown",
   "metadata": {},
   "source": [
    "**In general a 99% confidence interval is wider.** <br \\>\n",
    "Think about if you are really good at playing darts and somebody asks you how confident you are in your ability. You might say that there is a 95% chance that you can hit the bullseye, but there is a 99% chance that you can hit the board at all. You are more confident in your ability to hit a bigger target than a smaller target."
   ]
  },
  {
   "cell_type": "markdown",
   "metadata": {},
   "source": [
    "**Part C**: <font color='green'>The crowd is silent. Everything is slow motion. You're literally in the air, releasing what looks to be a perfect shot to tie the match. As you release the ball, a hand appears to block it. It is Kevin Durant. :( \n",
    "\n",
    "Luckily, his fingertips also brush against your arm. That's a foul, and everyone saw it. Back to the line. Back to CSCI3022:</font>\n",
    "\n",
    "Let $X$ be a normally-distributed random variable. You draw from it and get these values, stored in the numpy array **durant**, below. Compute a 95% confidence interval for the _standard deviation_.\n",
    "***"
   ]
  },
  {
   "cell_type": "code",
   "execution_count": 23,
   "metadata": {},
   "outputs": [],
   "source": [
    "durant = np.array([3.7778,3.9459,3.8248,4.1111,4.0180,4.0898,4.0380,3.9273,3.9614,3.8387])"
   ]
  },
  {
   "cell_type": "code",
   "execution_count": 24,
   "metadata": {},
   "outputs": [
    {
     "name": "stdout",
     "output_type": "stream",
     "text": [
      "Confidence interval: 3.9533 ± 0.0668\n"
     ]
    }
   ],
   "source": [
    "std = np.std(durant)\n",
    "mean = np.mean(durant)\n",
    "num = len(durant)\n",
    "interval = 1.960*(std/(np.sqrt(num)))\n",
    "print(\"Confidence interval: {:.4f}\".format(mean),chr(177),\"{:.4f}\".format(interval))"
   ]
  },
  {
   "cell_type": "markdown",
   "metadata": {},
   "source": [
    "**Part D**: <font color='green'>\"Draymond Green has it all, in spite of living in the Bay Area,\" you think to yourself. \"But he doesn't have this shot...\" You're all over him, and he's going to have to pass. You can see the irritation in his eyes. Then you realize that it's not irritation, and he's not being distracted by your superb defense. He's being distracted by this CSCI3022 problem:</font>\n",
    "\n",
    "If you're doing quality control for the average strength of carbon fiber that will be used in airplane construction, and your alternative hypothesis is that the strength of the carbon is below tolerance, and therefore unsafe, would you rather have a low Type I error rate or a low Type II error rate? Explain.\n",
    "\n",
    "***"
   ]
  },
  {
   "cell_type": "markdown",
   "metadata": {},
   "source": [
    "A **Type 1 error** would be better for this situation. It would be better to accept the alternative because it is safer to accept a hypothesis that proposes something is unsafe rather than reject it."
   ]
  },
  {
   "cell_type": "markdown",
   "metadata": {},
   "source": [
    "**Part E**: <font color='green'>You are watching tape footage at halftime with your personal trainer, Stella O'Flaherty. You gotta focus up if you're going to match Klay Thompson's speed in the second half. You take a sip of Gatorade and Dr. O'Flaherty suggests that you do the following CSCI3022 problem:</font>\n",
    "\n",
    "You measure 53 suckers from baby reef octopuses and find that they are, on average, 45.2 mm wide, with a standard devaition of 30.4mm. \n",
    "\n",
    "Then you measure 41 suckers from from baby dumbo octopuses and find that they are, on average, 52.8 mm wide, with a standard deviation of 22.8 mm. \n",
    "\n",
    "Is there statistical evidence at the 0.05 significance level that the true mean of baby dumbo octopus sucker width exceeds the true mean of baby reef octopus sucker width by more than 6 mm?  Use a test of your choice.\n",
    "\n",
    "***"
   ]
  },
  {
   "cell_type": "code",
   "execution_count": 3,
   "metadata": {},
   "outputs": [
    {
     "name": "stdout",
     "output_type": "stream",
     "text": [
      "p-value = 0.3853\n"
     ]
    }
   ],
   "source": [
    "rMu = 45.2\n",
    "dMu = 52.8\n",
    "rStd = 30.4\n",
    "dStd = 22.8\n",
    "rN = 53\n",
    "dN = 41\n",
    "\n",
    "mean = dMu - rMu\n",
    "result = ((mean - 6)/(np.sqrt(((rStd**2)/rN)+((dStd**2)/dN))))\n",
    "result = 1-stats.norm.cdf(result)\n",
    "print(\"p-value = {:.4f}\".format(result))"
   ]
  },
  {
   "cell_type": "markdown",
   "metadata": {},
   "source": [
    "Since p-value > 0.05 there is statistical evidence that the true mean of baby dumbo octopus sucker width exceeds the true mean of baby reef octopus sucker width by more than 6 mm."
   ]
  }
 ],
 "metadata": {
  "kernelspec": {
   "display_name": "Python 3",
   "language": "python",
   "name": "python3"
  },
  "language_info": {
   "codemirror_mode": {
    "name": "ipython",
    "version": 3
   },
   "file_extension": ".py",
   "mimetype": "text/x-python",
   "name": "python",
   "nbconvert_exporter": "python",
   "pygments_lexer": "ipython3",
   "version": "3.6.5"
  }
 },
 "nbformat": 4,
 "nbformat_minor": 2
}
