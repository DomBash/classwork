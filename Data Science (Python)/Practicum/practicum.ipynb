{
 "cells": [
  {
   "cell_type": "markdown",
   "metadata": {},
   "source": [
    "<a id='top'></a>\n",
    "\n",
    "# CSCI 3022: Intro to Data Science - Fall 2018 Practicum \n",
    "***\n",
    "\n",
    "This practicum is due on Moodle by **11:55pm on Wednesday December 12**. Your solutions to theoretical questions should be done in Markdown/MathJax directly below the associated question.  Your solutions to computational questions should include any specified Python code and results as well as written commentary on your conclusions.  \n",
    "\n",
    "**Here are the rules:** \n",
    "\n",
    "1. All work, code and analysis, must be your own. \n",
    "1. You may use your course notes, posted lecture slides, textbooks, in-class notebooks, and homework solutions as resources.  You may also search online for answers to general knowledge questions like the form of a probability distribution function or how to perform a particular operation in Python/Pandas. \n",
    "1. This is meant to be like a coding portion of your final exam. So, the instructional team will be much less helpful than we typically are with homework. For example, we will not check answers, help debug your code, and so on.\n",
    "1. If something is left open-ended, it is because we want to see how you approach the kinds of problems you will encounter in the wild, where it will not always be clear what sort of tests/methods should be applied. Feel free to ask clarifying questions though.\n",
    "2. You may **NOT** post to message boards or other online resources asking for help.\n",
    "3. You may **NOT** copy-paste solutions *from anywhere*.\n",
    "4. You may **NOT** collaborate with classmates or anyone else.\n",
    "5. In short, **your work must be your own**. It really is that simple.\n",
    "\n",
    "Violation of the above rules will result in an immediate academic sanction (*at the very least*, you will receive a 0 on the practicum or an F in the course, depending on severity), and a trip to the Honor Code Council.\n",
    "\n",
    "**By submitting this assignment, you agree to abide by the rules given above.**\n",
    "\n",
    "***\n",
    "\n",
    "**Name**: Dominic B \n",
    "\n",
    "***\n",
    "\n",
    "\n",
    "**NOTES**: \n",
    "\n",
    "- You may not use late days on the practicum nor can you drop your practicum grade. \n",
    "- If you have a question for us, post it as a **PRIVATE** message on Piazza.  If we decide that the question is appropriate for the entire class, then we will add it to a Practicum clarifications thread. \n",
    "- Do **NOT** load or use any Python packages that are not available in Anaconda 3.6. \n",
    "- Some problems with code may be autograded.  If we provide a function API **do not** change it.  If we do not provide a function API then you're free to structure your code however you like. \n",
    "- Submit only this Jupyter notebook to Moodle.  Do not compress it using tar, rar, zip, etc. \n",
    "- This should go without saying, but... For any question that asks you to calculate something, you **must show all work to receive credit**. Sparse or nonexistent work will receive sparse or nonexistent credit.\n",
    "\n",
    "---\n",
    "**Shortcuts:**  [Problem 1](#p1) | [Problem 2](#p2) | [Problem 3](#p3)\n",
    "\n",
    "---"
   ]
  },
  {
   "cell_type": "code",
   "execution_count": 1,
   "metadata": {},
   "outputs": [],
   "source": [
    "from scipy import stats\n",
    "import numpy as np \n",
    "import statsmodels.api as sm\n",
    "import pandas as pd\n",
    "import matplotlib.pyplot as plt\n",
    "%matplotlib inline"
   ]
  },
  {
   "cell_type": "markdown",
   "metadata": {},
   "source": [
    "<br>\n",
    "\n",
    "---\n",
    "[Back to top](#top)\n",
    "<a id='p1'></a>\n",
    "\n",
    "### [35 points] Problem 1: Yahtzee!"
   ]
  },
  {
   "cell_type": "markdown",
   "metadata": {},
   "source": [
    "**Part A:** You are playing [Yahtzee](https://en.wikipedia.org/wiki/Yahtzee) with your friends. A player's turn in Yahtzee consists of rolling a set of 5 dice. Then the player is given two additional rolls, where they are allowed to re-roll any number of the dice, including potentially all of them or none of them. The goal is to obtain certain combinations of the dice values resulting after the third roll. Different combinations are worth different amounts of points, and the goal of the game is to get as many points as possible.\n",
    "\n",
    "This game of Yahtzee is a bit unlike any you have ever played before, however. This is because Darth Ketelsen is back, and with her she brought her famous **5-sided dice**. These are fair dice with sides numbered 1-5. So, you are playing Yahtzee with a Sith Lord with 5-sided dice. Indeed, things just got real.\n",
    "\n",
    "A **straight** in Darth Ketelsen's game consists of 5 values all in a row. For example, the outcome $[1,2,3,4,5]$ is a  straight but the outcome $[1,2,3,4,4]$ is not.\n",
    "\n",
    "**Do two things:**\n",
    "1. Compute by hand the probability of rolling a straight in a single roll of all 5 dice. Show all work.\n",
    "2. Write a simulation to verify the probability that you computed. Run at least 10,000 simulations. "
   ]
  },
  {
   "cell_type": "markdown",
   "metadata": {},
   "source": [
    "$\\dfrac{number~of~ways~to~get~a~straight}{number~of~total~possible~rolls} = \\dfrac{5!}{5^5} = \\dfrac{120}{3125} = 0.0384$"
   ]
  },
  {
   "cell_type": "code",
   "execution_count": 2,
   "metadata": {},
   "outputs": [
    {
     "name": "stdout",
     "output_type": "stream",
     "text": [
      "Probability of rolling a straight = 0.0356\n"
     ]
    }
   ],
   "source": [
    "die = np.array([1,2,3,4,5])\n",
    "num_sims = 10000\n",
    "count = 0\n",
    "for i in range(num_sims):\n",
    "    rolls = np.random.choice(die, size = 5)\n",
    "    if len(np.unique(rolls)) == 5:\n",
    "        count += 1\n",
    "print(\"Probability of rolling a straight =\", count/num_sims)"
   ]
  },
  {
   "cell_type": "markdown",
   "metadata": {},
   "source": [
    "**Part B:** The goal of this problem is to compute the probability of getting a straight using all three of your rolls, instead of just the single roll approach that you computed in Part A. Here, we'll need to implement a strategy so that after the first roll and after the second roll, we keep the dice that get us closer to a straight and re-roll the dice that are not useful for our straight.\n",
    "\n",
    "For instance, suppose your first roll comes up $[1,2,3,3,3]$. You really want to get that straight! So, you would follow the strategy of saving the $[1,2,3]$ and re-roll two of the threes, hoping for a 4 and 5 to get the straight. Then, for your third roll, you would save as many of the dice as possible that would be part of a straight, and re-roll any remaining dice.\n",
    "\n",
    "Finish the function below called `dire_straights` to simulate many complete 3-roll turns, and computes the probability of ending your turn with a straight. The only input to the function should be `ntrial`, an integer for the number of turns to simulate. Remember, each turn consists of 3 rolls.\n",
    "\n",
    "Then, use your function to estimate the probability of a straight after a full turn of Yahtzee. Use at least 10,000 simulations, and comment on the results."
   ]
  },
  {
   "cell_type": "code",
   "execution_count": 3,
   "metadata": {},
   "outputs": [],
   "source": [
    "def dire_straights(ntrial):\n",
    "    \n",
    "    die = np.array([1,2,3,4,5])    \n",
    "    count = 0\n",
    "\n",
    "    \n",
    "    for i in range(ntrial):\n",
    "        optimal = np.array([0,0,0,0,0])\n",
    "        rolls = np.random.choice(die, size = 5)\n",
    "        rolls = np.sort(rolls)\n",
    "        \n",
    "        for i in range(len(rolls)):\n",
    "            optimal[rolls[i]-1] += 1\n",
    "            \n",
    "        re = 0    \n",
    "        for i in range(len(optimal)):\n",
    "            if optimal[i] == 0:\n",
    "                re += 1\n",
    "            else:\n",
    "                optimal[i] = 1\n",
    "        newRolls = np.random.choice(die, size = re)\n",
    "        for i in range(len(newRolls)):\n",
    "            optimal[newRolls[i]-1] += 1\n",
    "        \n",
    "        re = 0\n",
    "        for i in range(len(optimal)):\n",
    "            if optimal[i] == 0:\n",
    "                re += 1\n",
    "            else:\n",
    "                optimal[i] = 1\n",
    "        newRolls = np.random.choice(die, size = re)\n",
    "        for i in range(len(newRolls)):\n",
    "            optimal[newRolls[i]-1] += 1\n",
    "            \n",
    "        if len(np.unique(optimal)) == 1:\n",
    "            count += 1\n",
    "            \n",
    "    return count/ntrial"
   ]
  },
  {
   "cell_type": "code",
   "execution_count": 4,
   "metadata": {},
   "outputs": [
    {
     "data": {
      "text/plain": [
       "0.2944"
      ]
     },
     "execution_count": 4,
     "metadata": {},
     "output_type": "execute_result"
    }
   ],
   "source": [
    "dire_straights(10000)"
   ]
  },
  {
   "cell_type": "markdown",
   "metadata": {},
   "source": [
    "The probability of getting a straight after 2 re-rolls is significantly more than without re-rolls."
   ]
  },
  {
   "cell_type": "markdown",
   "metadata": {},
   "source": [
    "**Part C:** Write a simulation to estimate the probability of obtaining a straight if the first roll contains exactly three distinct unique values. For example, a valid first roll could be $[1,5,3,3,3]$ but not $[1,3,3,4,5]$. You are still using the set of 5-sided dice."
   ]
  },
  {
   "cell_type": "code",
   "execution_count": 5,
   "metadata": {},
   "outputs": [
    {
     "name": "stdout",
     "output_type": "stream",
     "text": [
      "0.108\n"
     ]
    }
   ],
   "source": [
    "ntrial = 10000\n",
    "die = np.array([1,2,3,4,5])    \n",
    "count = 0\n",
    "\n",
    "\n",
    "for i in range(ntrial):\n",
    "    optimal = np.array([0,0,0,0,0])\n",
    "    rolls = np.random.choice(die, size = 5)\n",
    "    rolls = np.sort(rolls)\n",
    "\n",
    "    for i in range(len(rolls)):\n",
    "        optimal[rolls[i]-1] += 1\n",
    "\n",
    "    re = 0    \n",
    "    for i in range(len(optimal)):\n",
    "        if optimal[i] == 0:\n",
    "            re += 1\n",
    "        else:\n",
    "            optimal[i] = 1\n",
    "    newRolls = np.random.choice(die, size = re)\n",
    "    for i in range(len(newRolls)):\n",
    "        optimal[newRolls[i]-1] += 1\n",
    "\n",
    "    re = 0\n",
    "    for i in range(len(optimal)):\n",
    "        if optimal[i] == 0:\n",
    "            re += 1\n",
    "        else:\n",
    "            optimal[i] = 1\n",
    "    newRolls = np.random.choice(die, size = re)\n",
    "    for i in range(len(newRolls)):\n",
    "        optimal[newRolls[i]-1] += 1\n",
    "\n",
    "    if len(np.unique(optimal)) == 1 and len(np.unique(rolls)) == 3:\n",
    "        count += 1\n",
    "\n",
    "print(count/ntrial)"
   ]
  },
  {
   "cell_type": "markdown",
   "metadata": {},
   "source": [
    "**Part D:** Verify your calculation from Part C by hand. Show all work, and comment on whether the two agree.\n",
    "\n",
    "*Hint: you will need to consider a variety of different cases - what are all the ways you could end up with a straight, given that your first roll contained exactly 3 unique values?*"
   ]
  },
  {
   "cell_type": "markdown",
   "metadata": {},
   "source": [
    "$\\dfrac{number~of~ways~to~get~a~straight}{number~of~total~possible~rolls} = \\dfrac{3!}{3^3} \\times \\dfrac{2!}{2^1} = \\dfrac{1}{9}$"
   ]
  },
  {
   "cell_type": "markdown",
   "metadata": {},
   "source": [
    "**Part E:**  Your friend offers you the following deal. Each time your Yahtzee turn (i.e., all three rolls) results in a 5-of-a-kind, she will give you \\$5. Each time your Yahtzee turn results in a straight, she will give you \\$3. But, she will charge you \\$1 for each turn (where a turn includes all 3 rolls of the five 5-sided dice). Should you take this deal? Fully justify your answer using calculations that include expected values. You may include some simulations to estimate relevant probabilities. Clearly state any assumptions you are making in your modeling choices."
   ]
  },
  {
   "cell_type": "markdown",
   "metadata": {},
   "source": [
    "We already know the probability of straight is about $0.11$.<br \\>\n",
    "We know the probability of 5-of-a-kind is about $0.08$.<br \\>\n",
    "$(0.11 \\times 3) + (0.08 \\times 5) + (0.82 \\times -1) = -0.09$<br \\>\n",
    "I would not take this deal. The expected value would be $-0.09$ which means that based on the probability you would loose about $9$ cents on average."
   ]
  },
  {
   "cell_type": "code",
   "execution_count": 6,
   "metadata": {},
   "outputs": [
    {
     "name": "stdout",
     "output_type": "stream",
     "text": [
      "0.074\n"
     ]
    }
   ],
   "source": [
    "ntrial = 10000\n",
    "die = np.array([1,2,3,4,5])    \n",
    "count = 0\n",
    "\n",
    "\n",
    "for i in range(ntrial):\n",
    "    optimal = np.array([0,0,0,0,0])\n",
    "    rolls = np.random.choice(die, size = 5)\n",
    "    rolls = np.sort(rolls)\n",
    "\n",
    "    for i in range(len(rolls)):\n",
    "        optimal[rolls[i]-1] += 1\n",
    "\n",
    "    re = 0 \n",
    "    large  =  0\n",
    "    largest = 0\n",
    "    for i in range(len(optimal)):\n",
    "        if optimal[i] > large:\n",
    "            large = optimal[i]\n",
    "            largest = i\n",
    "    re = 5 - large\n",
    "    for i in range(len(optimal)):\n",
    "            if i != largest:\n",
    "                optimal[i] = 0\n",
    "\n",
    "    newRolls = np.random.choice(die, size = re)\n",
    "    for i in range(len(newRolls)):\n",
    "        optimal[newRolls[i]-1] += 1\n",
    "        \n",
    "    re = 0   \n",
    "    large  =  0\n",
    "    largest = 0\n",
    "    for i in range(len(optimal)):\n",
    "        if optimal[i] > large:\n",
    "            large = optimal[i]\n",
    "            largest = i\n",
    "    re = 5 - large\n",
    "    for i in range(len(optimal)):\n",
    "            if i != largest:\n",
    "                optimal[i] = 0\n",
    "\n",
    "    newRolls = np.random.choice(die, size = re)\n",
    "    for i in range(len(newRolls)):\n",
    "        optimal[newRolls[i]-1] += 1\n",
    "\n",
    "    if len(np.unique(optimal)) == 2:\n",
    "        count += 1\n",
    "        \n",
    "print(count/ntrial)"
   ]
  },
  {
   "cell_type": "markdown",
   "metadata": {},
   "source": [
    "<br>\n",
    "\n",
    "---\n",
    "[Back to top](#top)\n",
    "<a id='p2'></a>\n",
    "\n",
    "### [30 points] Problem 2: Sharknado Prediction"
   ]
  },
  {
   "cell_type": "markdown",
   "metadata": {},
   "source": [
    "Governor Hickenlooper has charged you with the task of assessing the factors associated with sharknado risk in Colorado. As everyone knows, sharknadoes are a leading cause of sharknado-related illness, and you are a world-renowned data/shark scientist.\n",
    "\n",
    "You decide to use multiple linear regression to understand and predict what factors lead to increased sharknado hazard. Your lead scientist, aptly named Fin, has collected lots of relevant data at a local sharknado hotspot, the Boulder Reservoir[\\*](#footnote). The data cover a variety of sharknado-related environmental and other conditions, and you'll find this data in the file `sharknadoes.csv`. \n",
    "\n",
    "**Response**: \n",
    "\n",
    "- $\\texttt{sharknado hazard}$: the hazard of a sharknado, where 1 is very unlikely and 100 is highly likely\n",
    "\n",
    "**Features**: \n",
    "\n",
    "- $\\texttt{taunts}$: the number of times over the past year that someone has taunted a shark\n",
    "- $\\texttt{clouds}$: what percentage of the sky was covered by clouds (fraction, 0-1)\n",
    "- $\\texttt{precipitation}$: amount of precipitation in the past 72 hours (inches)\n",
    "- $\\texttt{earthquake}$: the intensity of the most recent earthquake measured in the continental United States\n",
    "- $\\texttt{shark attacks}$: the number of shark attacks within 72 hours prior to the observation\n",
    "- $\\texttt{ice cream sold}$: the number of units of ice cream sold at the beach concession stand \n",
    "- $\\texttt{misery index}$: an economic indicator for how miserable the average United States citizen is, based on the unemployment rate and the inflation rate. More [here](https://www.stuffyoushouldknow.com/podcasts/whats-the-misery-index.htm) and [here](https://en.wikipedia.org/wiki/Misery_index_(economics)). Higher values correspond to more miserable citizens.\n",
    "- $\\texttt{temperature}$: the outside temperature, measured in degrees Fahrenheit\n",
    "- $\\texttt{humidity}$: relative humidity (percent, 0-100)\n",
    "- $\\texttt{pizzas sold}$: the number of pizzas sold at the beach concession stand in the past year\n",
    "- $\\texttt{pressure}$: local air pressure (millibar) \n",
    "- $\\texttt{octopuses}$: the number of octupuses in the vicinity on the day of the observation\n",
    "- $\\texttt{Dan's shoe size}$: the size of the shoes Dan was wearing when the observation was made\n",
    "- $\\texttt{Tony's shoe size}$: the size of the shoes Tony was wearing when the observation was made"
   ]
  },
  {
   "cell_type": "markdown",
   "metadata": {},
   "source": [
    "**Part A**: Read the data from `sharknadoes.csv` into a Pandas DataFrame.  Note that since we will be doing a multiple linear regression we will need all of the features, so you should drop any row in the DataFrame that is missing data. "
   ]
  },
  {
   "cell_type": "code",
   "execution_count": 7,
   "metadata": {},
   "outputs": [
    {
     "data": {
      "text/html": [
       "<div>\n",
       "<style scoped>\n",
       "    .dataframe tbody tr th:only-of-type {\n",
       "        vertical-align: middle;\n",
       "    }\n",
       "\n",
       "    .dataframe tbody tr th {\n",
       "        vertical-align: top;\n",
       "    }\n",
       "\n",
       "    .dataframe thead th {\n",
       "        text-align: right;\n",
       "    }\n",
       "</style>\n",
       "<table border=\"1\" class=\"dataframe\">\n",
       "  <thead>\n",
       "    <tr style=\"text-align: right;\">\n",
       "      <th></th>\n",
       "      <th>clouds</th>\n",
       "      <th>earthquake</th>\n",
       "      <th>pizzas sold</th>\n",
       "      <th>taunts</th>\n",
       "      <th>pressure</th>\n",
       "      <th>shark attacks</th>\n",
       "      <th>octopuses</th>\n",
       "      <th>precipitation</th>\n",
       "      <th>misery index</th>\n",
       "      <th>ice cream sold</th>\n",
       "      <th>humidity</th>\n",
       "      <th>temperature</th>\n",
       "      <th>Dans shoe size</th>\n",
       "      <th>Tonys shoe size</th>\n",
       "      <th>sharknado hazard</th>\n",
       "    </tr>\n",
       "  </thead>\n",
       "  <tbody>\n",
       "    <tr>\n",
       "      <th>0</th>\n",
       "      <td>1.00</td>\n",
       "      <td>7.1</td>\n",
       "      <td>5560.0</td>\n",
       "      <td>15.0</td>\n",
       "      <td>847.12</td>\n",
       "      <td>2.0</td>\n",
       "      <td>7.0</td>\n",
       "      <td>0.824059</td>\n",
       "      <td>12.987180</td>\n",
       "      <td>273.0</td>\n",
       "      <td>86.41</td>\n",
       "      <td>78.0</td>\n",
       "      <td>42.0</td>\n",
       "      <td>9.0</td>\n",
       "      <td>40.22</td>\n",
       "    </tr>\n",
       "    <tr>\n",
       "      <th>1</th>\n",
       "      <td>1.00</td>\n",
       "      <td>7.4</td>\n",
       "      <td>5179.0</td>\n",
       "      <td>20.0</td>\n",
       "      <td>844.34</td>\n",
       "      <td>4.0</td>\n",
       "      <td>5.0</td>\n",
       "      <td>0.993296</td>\n",
       "      <td>16.765435</td>\n",
       "      <td>184.0</td>\n",
       "      <td>96.67</td>\n",
       "      <td>89.0</td>\n",
       "      <td>42.0</td>\n",
       "      <td>9.5</td>\n",
       "      <td>36.42</td>\n",
       "    </tr>\n",
       "    <tr>\n",
       "      <th>2</th>\n",
       "      <td>1.00</td>\n",
       "      <td>7.0</td>\n",
       "      <td>5227.0</td>\n",
       "      <td>0.0</td>\n",
       "      <td>839.48</td>\n",
       "      <td>9.0</td>\n",
       "      <td>2.0</td>\n",
       "      <td>1.173342</td>\n",
       "      <td>16.494518</td>\n",
       "      <td>141.0</td>\n",
       "      <td>53.85</td>\n",
       "      <td>65.0</td>\n",
       "      <td>9.5</td>\n",
       "      <td>9.0</td>\n",
       "      <td>19.54</td>\n",
       "    </tr>\n",
       "    <tr>\n",
       "      <th>3</th>\n",
       "      <td>0.13</td>\n",
       "      <td>7.9</td>\n",
       "      <td>5226.0</td>\n",
       "      <td>34.0</td>\n",
       "      <td>851.28</td>\n",
       "      <td>2.0</td>\n",
       "      <td>6.0</td>\n",
       "      <td>0.919291</td>\n",
       "      <td>8.277176</td>\n",
       "      <td>146.0</td>\n",
       "      <td>88.72</td>\n",
       "      <td>36.0</td>\n",
       "      <td>9.5</td>\n",
       "      <td>10.0</td>\n",
       "      <td>85.00</td>\n",
       "    </tr>\n",
       "    <tr>\n",
       "      <th>4</th>\n",
       "      <td>1.00</td>\n",
       "      <td>7.5</td>\n",
       "      <td>5491.0</td>\n",
       "      <td>6.0</td>\n",
       "      <td>852.67</td>\n",
       "      <td>2.0</td>\n",
       "      <td>4.0</td>\n",
       "      <td>1.729127</td>\n",
       "      <td>5.904750</td>\n",
       "      <td>178.0</td>\n",
       "      <td>63.08</td>\n",
       "      <td>72.0</td>\n",
       "      <td>42.0</td>\n",
       "      <td>9.0</td>\n",
       "      <td>56.34</td>\n",
       "    </tr>\n",
       "  </tbody>\n",
       "</table>\n",
       "</div>"
      ],
      "text/plain": [
       "   clouds  earthquake  pizzas sold  taunts  pressure  shark attacks  \\\n",
       "0    1.00         7.1       5560.0    15.0    847.12            2.0   \n",
       "1    1.00         7.4       5179.0    20.0    844.34            4.0   \n",
       "2    1.00         7.0       5227.0     0.0    839.48            9.0   \n",
       "3    0.13         7.9       5226.0    34.0    851.28            2.0   \n",
       "4    1.00         7.5       5491.0     6.0    852.67            2.0   \n",
       "\n",
       "   octopuses  precipitation  misery index  ice cream sold  humidity  \\\n",
       "0        7.0       0.824059     12.987180           273.0     86.41   \n",
       "1        5.0       0.993296     16.765435           184.0     96.67   \n",
       "2        2.0       1.173342     16.494518           141.0     53.85   \n",
       "3        6.0       0.919291      8.277176           146.0     88.72   \n",
       "4        4.0       1.729127      5.904750           178.0     63.08   \n",
       "\n",
       "   temperature  Dans shoe size  Tonys shoe size  sharknado hazard  \n",
       "0         78.0            42.0              9.0             40.22  \n",
       "1         89.0            42.0              9.5             36.42  \n",
       "2         65.0             9.5              9.0             19.54  \n",
       "3         36.0             9.5             10.0             85.00  \n",
       "4         72.0            42.0              9.0             56.34  "
      ]
     },
     "execution_count": 7,
     "metadata": {},
     "output_type": "execute_result"
    }
   ],
   "source": [
    "dfShark = pd.read_csv('data/sharknadoes.csv')\n",
    "dfShark.dropna(inplace = True)\n",
    "dfShark = dfShark.reset_index(drop=True)\n",
    "dfShark.head()"
   ]
  },
  {
   "cell_type": "markdown",
   "metadata": {},
   "source": [
    "**Part B**: Perform the appropriate statistical test at the $\\alpha = 0.01$ significance level to determine if _at least one_ of the features is related to the the response $y$.  Clearly describe your methodology and show all computations in Python. "
   ]
  },
  {
   "cell_type": "markdown",
   "metadata": {},
   "source": [
    "With $n$ features.<br \\>\n",
    "\n",
    "$H_0: \\beta _n = 0$\n",
    "\n",
    "$H_1: \\beta _n \\ne 0$ , For at least one value of $n \\ne 0$"
   ]
  },
  {
   "cell_type": "code",
   "execution_count": 8,
   "metadata": {},
   "outputs": [
    {
     "data": {
      "text/html": [
       "<table class=\"simpletable\">\n",
       "<caption>OLS Regression Results</caption>\n",
       "<tr>\n",
       "  <th>Dep. Variable:</th>    <td>sharknado hazard</td> <th>  R-squared:         </th> <td>   0.978</td>\n",
       "</tr>\n",
       "<tr>\n",
       "  <th>Model:</th>                   <td>OLS</td>       <th>  Adj. R-squared:    </th> <td>   0.972</td>\n",
       "</tr>\n",
       "<tr>\n",
       "  <th>Method:</th>             <td>Least Squares</td>  <th>  F-statistic:       </th> <td>   179.4</td>\n",
       "</tr>\n",
       "<tr>\n",
       "  <th>Date:</th>             <td>Wed, 12 Dec 2018</td> <th>  Prob (F-statistic):</th> <td>9.60e-42</td>\n",
       "</tr>\n",
       "<tr>\n",
       "  <th>Time:</th>                 <td>23:42:10</td>     <th>  Log-Likelihood:    </th> <td> -174.23</td>\n",
       "</tr>\n",
       "<tr>\n",
       "  <th>No. Observations:</th>      <td>    72</td>      <th>  AIC:               </th> <td>   378.5</td>\n",
       "</tr>\n",
       "<tr>\n",
       "  <th>Df Residuals:</th>          <td>    57</td>      <th>  BIC:               </th> <td>   412.6</td>\n",
       "</tr>\n",
       "<tr>\n",
       "  <th>Df Model:</th>              <td>    14</td>      <th>                     </th>     <td> </td>   \n",
       "</tr>\n",
       "<tr>\n",
       "  <th>Covariance Type:</th>      <td>nonrobust</td>    <th>                     </th>     <td> </td>   \n",
       "</tr>\n",
       "</table>\n",
       "<table class=\"simpletable\">\n",
       "<tr>\n",
       "         <td></td>            <th>coef</th>     <th>std err</th>      <th>t</th>      <th>P>|t|</th>  <th>[0.025</th>    <th>0.975]</th>  \n",
       "</tr>\n",
       "<tr>\n",
       "  <th>const</th>           <td>-2549.8985</td> <td>   67.605</td> <td>  -37.718</td> <td> 0.000</td> <td>-2685.275</td> <td>-2414.522</td>\n",
       "</tr>\n",
       "<tr>\n",
       "  <th>clouds</th>          <td>   -1.5106</td> <td>    2.566</td> <td>   -0.589</td> <td> 0.558</td> <td>   -6.650</td> <td>    3.628</td>\n",
       "</tr>\n",
       "<tr>\n",
       "  <th>earthquake</th>      <td>    2.5079</td> <td>    0.467</td> <td>    5.367</td> <td> 0.000</td> <td>    1.572</td> <td>    3.444</td>\n",
       "</tr>\n",
       "<tr>\n",
       "  <th>pizzas sold</th>     <td>   -0.0006</td> <td>    0.002</td> <td>   -0.373</td> <td> 0.711</td> <td>   -0.004</td> <td>    0.003</td>\n",
       "</tr>\n",
       "<tr>\n",
       "  <th>taunts</th>          <td>    0.3117</td> <td>    0.042</td> <td>    7.447</td> <td> 0.000</td> <td>    0.228</td> <td>    0.396</td>\n",
       "</tr>\n",
       "<tr>\n",
       "  <th>pressure</th>        <td>    3.0688</td> <td>    0.079</td> <td>   38.850</td> <td> 0.000</td> <td>    2.911</td> <td>    3.227</td>\n",
       "</tr>\n",
       "<tr>\n",
       "  <th>shark attacks</th>   <td>   -0.1151</td> <td>    0.144</td> <td>   -0.797</td> <td> 0.429</td> <td>   -0.404</td> <td>    0.174</td>\n",
       "</tr>\n",
       "<tr>\n",
       "  <th>octopuses</th>       <td>   -0.0749</td> <td>    0.143</td> <td>   -0.524</td> <td> 0.602</td> <td>   -0.361</td> <td>    0.211</td>\n",
       "</tr>\n",
       "<tr>\n",
       "  <th>precipitation</th>   <td>    1.3982</td> <td>    0.930</td> <td>    1.503</td> <td> 0.138</td> <td>   -0.464</td> <td>    3.261</td>\n",
       "</tr>\n",
       "<tr>\n",
       "  <th>misery index</th>    <td>    0.0273</td> <td>    0.080</td> <td>    0.340</td> <td> 0.735</td> <td>   -0.133</td> <td>    0.188</td>\n",
       "</tr>\n",
       "<tr>\n",
       "  <th>ice cream sold</th>  <td>    0.0096</td> <td>    0.008</td> <td>    1.193</td> <td> 0.238</td> <td>   -0.007</td> <td>    0.026</td>\n",
       "</tr>\n",
       "<tr>\n",
       "  <th>humidity</th>        <td>    0.0188</td> <td>    0.027</td> <td>    0.706</td> <td> 0.483</td> <td>   -0.035</td> <td>    0.072</td>\n",
       "</tr>\n",
       "<tr>\n",
       "  <th>temperature</th>     <td>   -0.4426</td> <td>    0.053</td> <td>   -8.396</td> <td> 0.000</td> <td>   -0.548</td> <td>   -0.337</td>\n",
       "</tr>\n",
       "<tr>\n",
       "  <th>Dans shoe size</th>  <td>    0.0271</td> <td>    0.023</td> <td>    1.175</td> <td> 0.245</td> <td>   -0.019</td> <td>    0.073</td>\n",
       "</tr>\n",
       "<tr>\n",
       "  <th>Tonys shoe size</th> <td>    0.2814</td> <td>    1.273</td> <td>    0.221</td> <td> 0.826</td> <td>   -2.268</td> <td>    2.831</td>\n",
       "</tr>\n",
       "</table>\n",
       "<table class=\"simpletable\">\n",
       "<tr>\n",
       "  <th>Omnibus:</th>       <td> 0.821</td> <th>  Durbin-Watson:     </th> <td>   2.225</td>\n",
       "</tr>\n",
       "<tr>\n",
       "  <th>Prob(Omnibus):</th> <td> 0.663</td> <th>  Jarque-Bera (JB):  </th> <td>   0.300</td>\n",
       "</tr>\n",
       "<tr>\n",
       "  <th>Skew:</th>          <td> 0.005</td> <th>  Prob(JB):          </th> <td>   0.861</td>\n",
       "</tr>\n",
       "<tr>\n",
       "  <th>Kurtosis:</th>      <td> 3.316</td> <th>  Cond. No.          </th> <td>1.03e+06</td>\n",
       "</tr>\n",
       "</table><br/><br/>Warnings:<br/>[1] Standard Errors assume that the covariance matrix of the errors is correctly specified.<br/>[2] The condition number is large, 1.03e+06. This might indicate that there are<br/>strong multicollinearity or other numerical problems."
      ],
      "text/plain": [
       "<class 'statsmodels.iolib.summary.Summary'>\n",
       "\"\"\"\n",
       "                            OLS Regression Results                            \n",
       "==============================================================================\n",
       "Dep. Variable:       sharknado hazard   R-squared:                       0.978\n",
       "Model:                            OLS   Adj. R-squared:                  0.972\n",
       "Method:                 Least Squares   F-statistic:                     179.4\n",
       "Date:                Wed, 12 Dec 2018   Prob (F-statistic):           9.60e-42\n",
       "Time:                        23:42:10   Log-Likelihood:                -174.23\n",
       "No. Observations:                  72   AIC:                             378.5\n",
       "Df Residuals:                      57   BIC:                             412.6\n",
       "Df Model:                          14                                         \n",
       "Covariance Type:            nonrobust                                         \n",
       "===================================================================================\n",
       "                      coef    std err          t      P>|t|      [0.025      0.975]\n",
       "-----------------------------------------------------------------------------------\n",
       "const           -2549.8985     67.605    -37.718      0.000   -2685.275   -2414.522\n",
       "clouds             -1.5106      2.566     -0.589      0.558      -6.650       3.628\n",
       "earthquake          2.5079      0.467      5.367      0.000       1.572       3.444\n",
       "pizzas sold        -0.0006      0.002     -0.373      0.711      -0.004       0.003\n",
       "taunts              0.3117      0.042      7.447      0.000       0.228       0.396\n",
       "pressure            3.0688      0.079     38.850      0.000       2.911       3.227\n",
       "shark attacks      -0.1151      0.144     -0.797      0.429      -0.404       0.174\n",
       "octopuses          -0.0749      0.143     -0.524      0.602      -0.361       0.211\n",
       "precipitation       1.3982      0.930      1.503      0.138      -0.464       3.261\n",
       "misery index        0.0273      0.080      0.340      0.735      -0.133       0.188\n",
       "ice cream sold      0.0096      0.008      1.193      0.238      -0.007       0.026\n",
       "humidity            0.0188      0.027      0.706      0.483      -0.035       0.072\n",
       "temperature        -0.4426      0.053     -8.396      0.000      -0.548      -0.337\n",
       "Dans shoe size      0.0271      0.023      1.175      0.245      -0.019       0.073\n",
       "Tonys shoe size     0.2814      1.273      0.221      0.826      -2.268       2.831\n",
       "==============================================================================\n",
       "Omnibus:                        0.821   Durbin-Watson:                   2.225\n",
       "Prob(Omnibus):                  0.663   Jarque-Bera (JB):                0.300\n",
       "Skew:                           0.005   Prob(JB):                        0.861\n",
       "Kurtosis:                       3.316   Cond. No.                     1.03e+06\n",
       "==============================================================================\n",
       "\n",
       "Warnings:\n",
       "[1] Standard Errors assume that the covariance matrix of the errors is correctly specified.\n",
       "[2] The condition number is large, 1.03e+06. This might indicate that there are\n",
       "strong multicollinearity or other numerical problems.\n",
       "\"\"\""
      ]
     },
     "execution_count": 8,
     "metadata": {},
     "output_type": "execute_result"
    }
   ],
   "source": [
    "y = dfShark.loc[:,\"sharknado hazard\"]\n",
    "X = dfShark.loc[:, dfShark.columns != \"sharknado hazard\"]\n",
    "X = sm.add_constant(X)\n",
    "model = sm.OLS(y, X).fit()\n",
    "model.summary()"
   ]
  },
  {
   "cell_type": "markdown",
   "metadata": {},
   "source": [
    "I created a multiple linear regression using the data and used the statsmodel's summary to determine that there is at least one feature related to the response.The computed p-values associated with taunts, earthquake, temperature, and pressure are all below the $\\alpha = 0.01$ significance level. The p-value for the $F$-statistic is also below the $\\alpha = 0.01$ significance level which means we can reject the null hypothesis and conclude that at least one of the features has an effect on the response."
   ]
  },
  {
   "cell_type": "markdown",
   "metadata": {},
   "source": [
    "**Part C**: Write a function `backward_select(df, resp_str, maxsse)` that takes in the DataFrame (`df`), the name of the column corresponding to the response (`resp_str`), and the maximum desired sum of squared errors (`maxsse`), and returns a list of feature names corresponding to the most important features via backward selection.  Use your code to determine the reduced MLR model with the minimal number of features such that the SSE of the reduced model is less than 570. At each stage in backward selection you should remove the feature that has the highest p-value associated with the hypothesis test for the given slope coefficient $\\beta_k \\neq 0$.\n",
    "\n",
    "Your code should clearly indicate which feature was removed in each stage, and the SSE associated with the model fit before the feature's removal. _Specifically, please write your code to print the name of the feature that is going to be removed and the SSE before its removal_. Afterward, be sure to report all of the retained features and the SSE of the reduced model.\n",
    "\n",
    "**Note**: The point of this exercise is to see if you can implement **backward_select** yourself.  You may of course use canned routines like statmodels OLS, but you may not call any Python method that explicitly performs backward selection."
   ]
  },
  {
   "cell_type": "code",
   "execution_count": 9,
   "metadata": {},
   "outputs": [],
   "source": [
    "def backward_select(df, resp_str, maxsse):\n",
    "    sse = 0\n",
    "    oldsee = 0\n",
    "    remaining_features = []\n",
    "\n",
    "    while sse < maxsse:\n",
    "        y = df.loc[:, resp_str]\n",
    "        X = df.loc[:, df.columns != resp_str]\n",
    "\n",
    "        X = sm.add_constant(X)\n",
    "        model = sm.OLS(y, X).fit()\n",
    "        oldsse = sse\n",
    "        sse = model.ssr\n",
    "        if sse < maxsse:\n",
    "            hp = 0\n",
    "            npn = 0\n",
    "            for i in range(1,df.columns.size):\n",
    "                if model.pvalues[i] > hp:\n",
    "                    hp = model.pvalues[i]\n",
    "                    hpn = i -1\n",
    "            print(\"Dropping {:s} with SSE of {:.2f}\".format(df.columns[hpn],model.ssr))\n",
    "            df = df.drop(df.columns[hpn], axis=1)\n",
    "    for i in range(df.columns.size - 1):\n",
    "        remaining_features.append(df.columns[i])\n",
    "        #remaining_features = df.columns\n",
    "    print(\"\")\n",
    "    print(\"Remaining Features:\",remaining_features)\n",
    "    print(\"Final SSE: {:.2f}\".format(oldsse))\n",
    "    return remaining_features"
   ]
  },
  {
   "cell_type": "code",
   "execution_count": 10,
   "metadata": {},
   "outputs": [
    {
     "name": "stdout",
     "output_type": "stream",
     "text": [
      "Dropping Tonys shoe size with SSE of 532.94\n",
      "Dropping misery index with SSE of 533.40\n",
      "Dropping octopuses with SSE of 534.69\n",
      "Dropping clouds with SSE of 536.51\n",
      "Dropping pizzas sold with SSE of 539.50\n",
      "Dropping humidity with SSE of 543.36\n",
      "Dropping shark attacks with SSE of 547.41\n",
      "Dropping Dans shoe size with SSE of 552.15\n",
      "Dropping ice cream sold with SSE of 564.11\n",
      "\n",
      "Remaining Features: ['earthquake', 'taunts', 'pressure', 'precipitation', 'temperature']\n",
      "Final SSE: 564.11\n"
     ]
    },
    {
     "data": {
      "text/plain": [
       "['earthquake', 'taunts', 'pressure', 'precipitation', 'temperature']"
      ]
     },
     "execution_count": 10,
     "metadata": {},
     "output_type": "execute_result"
    }
   ],
   "source": [
    "backward_select(dfShark,\"sharknado hazard\",570)"
   ]
  },
  {
   "cell_type": "markdown",
   "metadata": {},
   "source": [
    "**Part D**: Write down the multiple linear regression model, including estimated parameters, obtained by your backward selection process. "
   ]
  },
  {
   "cell_type": "code",
   "execution_count": 11,
   "metadata": {},
   "outputs": [
    {
     "data": {
      "text/plain": [
       "const           -2562.633166\n",
       "earthquake          2.234097\n",
       "taunts              0.323122\n",
       "pressure            3.087171\n",
       "precipitation       1.238847\n",
       "temperature        -0.435348\n",
       "dtype: float64"
      ]
     },
     "execution_count": 11,
     "metadata": {},
     "output_type": "execute_result"
    }
   ],
   "source": [
    "df = dfShark    \n",
    "resp_str = \"sharknado hazard\"\n",
    "maxsse = 570\n",
    "sse = 0\n",
    "\n",
    "while sse < maxsse:\n",
    "    y = df.loc[:, resp_str]\n",
    "    X = df.loc[:, df.columns != resp_str]\n",
    "\n",
    "    X = sm.add_constant(X)\n",
    "    model = sm.OLS(y, X).fit()\n",
    "    sse = model.ssr\n",
    "    if sse < maxsse:\n",
    "        hp = 0\n",
    "        npn = 0\n",
    "        for i in range(1,df.columns.size):\n",
    "            if model.pvalues[i] > hp:\n",
    "                hp = model.pvalues[i]\n",
    "                hpn = i -1\n",
    "        df = df.drop(df.columns[hpn], axis=1)\n",
    "\n",
    "model.params"
   ]
  },
  {
   "cell_type": "markdown",
   "metadata": {},
   "source": [
    "$\\texttt{sharknado hazard} = -2562.633 + 2.234 \\times \\texttt{earthquake} + 0.323 \\times \\texttt{taunts} + 3.087 \\times \\texttt{pressure} + 1.239 \\times \\texttt{precipitation} - 0.435 \\times \\texttt{temperature}$"
   ]
  },
  {
   "cell_type": "markdown",
   "metadata": {},
   "source": [
    "**Part E**: Perform the appropriate statistical test at the $\\alpha = 0.01$ significance level to determine whether there is a statistically significant difference between the full model with all features and the reduced model obtained by backward selection in **Part D**. You may use output from your model fit above, but all calculations should be set up in Markdown/MathJax."
   ]
  },
  {
   "cell_type": "markdown",
   "metadata": {},
   "source": [
    "$F = \\dfrac{SSE_{red}~/~df_{red}}{SSE_{full}~/~df_{full}}$\n",
    "\n",
    "$p = 14$ number of features in full model\n",
    "\n",
    "$k = 5$ number of features in reduced model\n",
    "\n",
    "$SSE_{red} = 564.11$\n",
    "\n",
    "$SSE_{full} = 532.94$\n",
    "\n",
    "$F = \\dfrac{564.11~/~4}{532.94~/~13} = 3.44$\n",
    "\n",
    "$1-stats.f.cdf(3.44,4,13) = 0.038$\n",
    "\n",
    "Since the p-value, $0.038$, is greater than $0.01$ we reject the null hypothesis at this significance level. This means that there is not sufficient evidence to determine whether there is a statistically significant difference between the full model with all features"
   ]
  },
  {
   "cell_type": "code",
   "execution_count": 12,
   "metadata": {
    "scrolled": true
   },
   "outputs": [
    {
     "name": "stdout",
     "output_type": "stream",
     "text": [
      "p-value = 0.039782502599688074\n"
     ]
    }
   ],
   "source": [
    "print(\"p-value =\", 1-stats.f.cdf(3.44,4,13))"
   ]
  },
  {
   "cell_type": "markdown",
   "metadata": {},
   "source": [
    "**Part F**: Based on your conclusions in **Part E**, use the _better_ of the two models to predict the sharknado hazard when the following features are observed: \n",
    "\n",
    "- $\\texttt{taunts}$: 47\n",
    "- $\\texttt{clouds}$: 0.8\n",
    "- $\\texttt{precipitation}$: 1 inch\n",
    "- $\\texttt{earthquake}$: 5\n",
    "- $\\texttt{shark attacks}$: 11\n",
    "- $\\texttt{ice cream sold}$: 120\n",
    "- $\\texttt{misery index}$: 15\n",
    "- $\\texttt{temperature}$: 70 degrees F\n",
    "- $\\texttt{humidity}$: 83\n",
    "- $\\texttt{pizzas sold}$: 5500\n",
    "- $\\texttt{pressure}$: 850 millibar \n",
    "- $\\texttt{octopuses}$: 6\n",
    "- $\\texttt{Dan's shoe size}$: 9.5\n",
    "- $\\texttt{Tony's shoe size}$: 9"
   ]
  },
  {
   "cell_type": "code",
   "execution_count": 13,
   "metadata": {},
   "outputs": [
    {
     "name": "stdout",
     "output_type": "stream",
     "text": [
      "Predicted Sharknado Hazard using Reduced Model = 61.687\n"
     ]
    }
   ],
   "source": [
    "sharknadohazard = -2562.633 + 2.234 * 5 + 0.323 * 57 + 3.087 * 850 + 1.239 * 1 - 0.435 * 70\n",
    "print(\"Predicted Sharknado Hazard using Reduced Model = {:.3f}\".format(sharknadohazard))"
   ]
  },
  {
   "cell_type": "markdown",
   "metadata": {},
   "source": [
    "**Part G:** Consider the model you used in Part E, and consider the fact that you are trying to predict **sharknado hazard**. What is one critical drawback to the MLR model (or any MLR model) for predicting shardnado hazard? What are some modifications that could improve on this issue?"
   ]
  },
  {
   "cell_type": "markdown",
   "metadata": {},
   "source": [
    "Not all of the features are as related or relevant to sharknado hazards as others. By only using the most related features you could more accurately predict sharknado hazards."
   ]
  },
  {
   "cell_type": "markdown",
   "metadata": {},
   "source": [
    "<br>\n",
    "\n",
    "---\n",
    "[Back to top](#top)\n",
    "<a id='p3'></a>\n",
    "\n",
    "### [35 points] Problem 3: FlipMaster5000"
   ]
  },
  {
   "cell_type": "markdown",
   "metadata": {},
   "source": [
    "In the file `flips.csv` you'll find the results of an experiment that was conducted with Stella O'Flaherty (the famous octopus data scientist) flipping coins. Her experiment was as follows. \n",
    "\n",
    "1. She reaches into her coin purse and grabs one of two coins, labeled $x$ and $y$. \n",
    "2. She flips her coin until it comes up heads 8 times, and records the coin ID and the number of flips it took to get 8 heads. \n",
    "3. She then replaces the coin in her coin purse and repeats the experiment. "
   ]
  },
  {
   "cell_type": "markdown",
   "metadata": {},
   "source": [
    "**Part A:**\n",
    "\n",
    "By considering the total number of flips and the total number of \"heads\" in the data file for each coin, estimate the bias of each coin $p_x$ and $p_y$, and use an appropriate statistical test to determine whether the coins have the same bias, i.e. whether $p_x$ and $p_y$ are the same. Perform your test at a significance level that will mistakenly reject the null hypothesis _when that null hypothesis is actually true_ 5% of the time. Report a p-value for your test, and clearly state your conclusions."
   ]
  },
  {
   "cell_type": "code",
   "execution_count": 14,
   "metadata": {
    "scrolled": true
   },
   "outputs": [
    {
     "data": {
      "text/html": [
       "<div>\n",
       "<style scoped>\n",
       "    .dataframe tbody tr th:only-of-type {\n",
       "        vertical-align: middle;\n",
       "    }\n",
       "\n",
       "    .dataframe tbody tr th {\n",
       "        vertical-align: top;\n",
       "    }\n",
       "\n",
       "    .dataframe thead th {\n",
       "        text-align: right;\n",
       "    }\n",
       "</style>\n",
       "<table border=\"1\" class=\"dataframe\">\n",
       "  <thead>\n",
       "    <tr style=\"text-align: right;\">\n",
       "      <th></th>\n",
       "      <th>Coin ID</th>\n",
       "      <th>Flips Required</th>\n",
       "    </tr>\n",
       "  </thead>\n",
       "  <tbody>\n",
       "    <tr>\n",
       "      <th>0</th>\n",
       "      <td>x</td>\n",
       "      <td>9</td>\n",
       "    </tr>\n",
       "    <tr>\n",
       "      <th>1</th>\n",
       "      <td>x</td>\n",
       "      <td>13</td>\n",
       "    </tr>\n",
       "    <tr>\n",
       "      <th>2</th>\n",
       "      <td>x</td>\n",
       "      <td>12</td>\n",
       "    </tr>\n",
       "    <tr>\n",
       "      <th>3</th>\n",
       "      <td>y</td>\n",
       "      <td>12</td>\n",
       "    </tr>\n",
       "    <tr>\n",
       "      <th>4</th>\n",
       "      <td>y</td>\n",
       "      <td>20</td>\n",
       "    </tr>\n",
       "  </tbody>\n",
       "</table>\n",
       "</div>"
      ],
      "text/plain": [
       "  Coin ID  Flips Required\n",
       "0       x               9\n",
       "1       x              13\n",
       "2       x              12\n",
       "3       y              12\n",
       "4       y              20"
      ]
     },
     "execution_count": 14,
     "metadata": {},
     "output_type": "execute_result"
    }
   ],
   "source": [
    "dfFlips = pd.read_csv('data/flips.csv', delimiter=\"\\t\")\n",
    "dfFlips.head()"
   ]
  },
  {
   "cell_type": "code",
   "execution_count": 15,
   "metadata": {},
   "outputs": [
    {
     "name": "stdout",
     "output_type": "stream",
     "text": [
      "Bias of coin X: 0.71\n",
      "Bias of coin Y: 0.50\n"
     ]
    }
   ],
   "source": [
    "dfFlipsX = dfFlips[dfFlips[\"Coin ID\"] == \"x\"]\n",
    "dfFlipsY = dfFlips[dfFlips[\"Coin ID\"] == \"y\"]\n",
    "\n",
    "nx = dfFlipsX[\"Flips Required\"].sum()\n",
    "ny = dfFlipsY[\"Flips Required\"].sum()\n",
    "\n",
    "hx = dfFlipsX[\"Coin ID\"].size * 8\n",
    "hy = dfFlipsY[\"Coin ID\"].size * 8\n",
    "\n",
    "xbias = hx/nx\n",
    "ybias = hy/ny\n",
    "\n",
    "print(\"Bias of coin X: {:.2f}\".format(xbias))\n",
    "print(\"Bias of coin Y: {:.2f}\".format(ybias))"
   ]
  },
  {
   "cell_type": "markdown",
   "metadata": {},
   "source": [
    "$H_0: p_x = p_y$ (the bias is the same for both coins)\n",
    "\n",
    "$H_1: p_x \\ne p_y$ (the bias is **not** the same for both coins) "
   ]
  },
  {
   "cell_type": "code",
   "execution_count": 16,
   "metadata": {},
   "outputs": [
    {
     "name": "stdout",
     "output_type": "stream",
     "text": [
      "p-value = 0.04\n"
     ]
    }
   ],
   "source": [
    "num = xbias - ybias\n",
    "p = (hx+hy)/(nx+ny)\n",
    "denom = np.sqrt(p*(1-p)*((1/nx)+(1/ny)))\n",
    "z = num/denom\n",
    "pvalue = 1 - stats.norm.cdf(z)\n",
    "print(\"p-value = {:.2f}\".format(pvalue))"
   ]
  },
  {
   "cell_type": "markdown",
   "metadata": {},
   "source": [
    "The p-value = $0.04 < \\alpha = 0.05$. This means at the $\\alpha = 0.05$ significance level we can reject the null hypothesis and conclude that $p_x$ and $p_y$ are the same."
   ]
  },
  {
   "cell_type": "markdown",
   "metadata": {},
   "source": [
    "**Part B:** \n",
    "\n",
    "You learn that, actually, the coin $x$ is from a manufacturer that produces coins whose biases follow some statistical regularity. In particular, the bias of the $x$ coin is in the set $$p_x \\in \\{0.1, 0.2, 0.3, \\dots, 0.9\\}.$$ Furthermore, these biases all occur with equal probability. In other words, $\\tfrac{1}{9}$ of coins have bias $p_x=0.1$, $\\tfrac{1}{9}$ of coins have bias $p_x=0.2$, and so on. \n",
    "\n",
    "For each possible value of $p_x$, compute the probability that Stella's $x$ coin has bias of $p_x$, given the data in her data file. \n",
    "\n",
    "Plot your results with $p_x$ on the horizontal axis and $Pr(p_x \\mid \\text{data})$ on the vertical axis. Make the points or lines that you plot blue. Plots without axis labels will receive zero credit.\n",
    "\n",
    "_Hint_: We have done problems like this before! Think back to how you solved the problem on the midterm where you determined the probability that someone had ESP, given that they guessed the cards correctly. There was a \"rule\", and maybe a \"law\" involved in your calculation..."
   ]
  },
  {
   "cell_type": "markdown",
   "metadata": {},
   "source": [
    "Bayes' Thorem:\n",
    "\n",
    "$P(p_x \\mid \\text{data}) = \\dfrac{p(\\text{data} \\mid p_x)p(p_x)}{p(\\text{data})}$"
   ]
  },
  {
   "cell_type": "code",
   "execution_count": 17,
   "metadata": {
    "scrolled": true
   },
   "outputs": [
    {
     "data": {
      "image/png": "[encoded data removed]",
      "text/plain": [
       "<Figure size 504x288 with 1 Axes>"
      ]
     },
     "metadata": {},
     "output_type": "display_data"
    }
   ],
   "source": [
    "x,y = [],[]\n",
    "for i in range(1,10):\n",
    "    x.append(((1/9)*(i/9))/(.71))\n",
    "    y.append(i/10)\n",
    "    \n",
    "fig, ax = plt.subplots(nrows=1, ncols=1, figsize=(7,4))\n",
    "plt.plot(x, y, color=\"steelblue\", label='data')\n",
    "plt.legend()\n",
    "ax.set_xlabel(\"Probability of Bias\", fontsize=16)\n",
    "ax.set_ylabel(\"Bias of Coin\", fontsize=16)\n",
    "ax.set_title(\"Manufactured Coin Bias\", fontsize=16)\n",
    "plt.show()"
   ]
  },
  {
   "cell_type": "markdown",
   "metadata": {},
   "source": [
    "**Part C:**\n",
    "\n",
    "You learn that, actually, the coin $y$ is from a different manufacturer that produces coins whose biases follow some statistical regularity. In particular, the bias of the $y$ coin is in the set $$p_y \\in \\{0.1, 0.2, 0.3, \\dots, 0.9\\}.$$ Furthermore, these biases all occur with different probability. In particular, the probability that a coin has bias $p_y$ is proportional to $p_y$, which could be written as \n",
    "$$Pr(p_y) \\propto p_y \\quad \\text{for} \\quad p_y \\in \\{0.1, 0.2, 0.3, \\dots, 0.9\\}$$\n",
    "\n",
    "First, write clearly the PMF for $p_y$, based on the information above. \n",
    "\n",
    "Then, for each possible value of $p_y$, compute the probability that Stella's $y$ coin has bias of $p_y$, given the data in her data file. \n",
    "\n",
    "Plot your results with $p_y$ on the horizontal axis and $Pr(p_y \\mid \\text{data})$ on the vertical axis. Make the points or lines that you plot red. Plots without axis labels will receive zero credit."
   ]
  },
  {
   "cell_type": "markdown",
   "metadata": {},
   "source": [
    "$P(p_y = 0.1) = 0.1$<br \\>\n",
    "$P(p_y = 0.2) = 0.2$<br \\>\n",
    "$P(p_y = 0.3) = 0.3$<br \\>\n",
    "$P(p_y = 0.4) = 0.4$<br \\>\n",
    "$P(p_y = 0.5) = 0.5$<br \\>\n",
    "$P(p_y = 0.6) = 0.6$<br \\>\n",
    "$P(p_y = 0.7) = 0.7$<br \\>\n",
    "$P(p_y = 0.8) = 0.8$<br \\>\n",
    "$P(p_y = 0.9) = 0.9$<br \\>\n",
    "\n",
    "Bayes' Thorem:\n",
    "\n",
    "$p(p_y \\mid \\text{data}) = \\dfrac{p(\\text{data} \\mid p_y)p(p_y)}{p(\\text{data})}$"
   ]
  },
  {
   "cell_type": "code",
   "execution_count": 18,
   "metadata": {},
   "outputs": [
    {
     "data": {
      "image/png": "[encoded data removed]",
      "text/plain": [
       "<Figure size 504x288 with 1 Axes>"
      ]
     },
     "metadata": {},
     "output_type": "display_data"
    }
   ],
   "source": [
    "x,y = [],[]\n",
    "for i in range(1,10):\n",
    "    x.append(((i/9)*(i/9))/(.5))\n",
    "    y.append(i/10)\n",
    "    \n",
    "fig, ax = plt.subplots(nrows=1, ncols=1, figsize=(7,4))\n",
    "plt.plot(x, y, color=\"darkred\", label='data')\n",
    "plt.legend()\n",
    "ax.set_xlabel(\"Probability of Bias\", fontsize=16)\n",
    "ax.set_ylabel(\"Bias of Coin\", fontsize=16)\n",
    "ax.set_title(\"Manufactured Coin Bias\", fontsize=16)\n",
    "plt.show()"
   ]
  },
  {
   "cell_type": "markdown",
   "metadata": {},
   "source": [
    "**Part D:**\n",
    "\n",
    "The information that you have about the manufacturer of coin $x$ and coin $y$ is called _prior information_ since it can influence the estimates of a coin's bias at which you arrive, given the data from the coin's flipping. We often call the distribution $Pr(p_x)$ or $Pr(p_y)$ a _prior distribution_, and call $Pr(p_x \\mid \\text{data})$ or $Pr(p_y \\mid \\text{data})$ a _posterior distribution_, since it represents the estimate that you arrive at after you have taken the data into account. \n",
    "\n",
    "You have already computed posterior distributions for each coin's bias. However, you'll now investigate the importance of the prior by _switching the priors for the two coins_.\n",
    "\n",
    "In other words, using the prior probabilities $Pr(p_x)$, what is your posterior distribution of $Pr(p_y \\mid \\text{data from y})$? Similarly, using the prior probabilities $Pr(p_y)$, what is your posterior distribution of $Pr(p_x \\mid \\text{data from x})$? \n",
    "\n",
    "Create two plots. \n",
    "\n",
    "1. In the first plot, show your results from Part B (the posterior distribution for $p_x$ with the correct prior) plotted with a blue solid line as well as your results from Part D for the posterior distribution for $p_x$ with the incorrect prior with a blue dashed line.  \n",
    "\n",
    "2. In the second plot, show your results from Part C (the posterior distribution for $p_y$ with the correct prior) with a red solid line as well as your results from Part D for the posterior distribution for $p_y$ with the incorrect prior with a red dashed line.  "
   ]
  },
  {
   "cell_type": "code",
   "execution_count": 19,
   "metadata": {},
   "outputs": [
    {
     "data": {
      "image/png": "[encoded data removed]",
      "text/plain": [
       "<Figure size 504x288 with 1 Axes>"
      ]
     },
     "metadata": {},
     "output_type": "display_data"
    }
   ],
   "source": [
    "x,y,x2 = [],[],[]\n",
    "for i in range(1,10):\n",
    "    x.append(((1/9)*(i/9))/(.71))\n",
    "    x2.append(((1/9)*(i/9))/(.5))\n",
    "    y.append(i/10)\n",
    "    \n",
    "fig, ax = plt.subplots(nrows=1, ncols=1, figsize=(7,4))\n",
    "plt.plot(x, y, color=\"steelblue\", label='x prior')\n",
    "plt.plot(x2, y, color=\"steelblue\", label='y prior', linestyle='--')\n",
    "plt.legend()\n",
    "ax.set_xlabel(\"Probability of Bias\", fontsize=16)\n",
    "ax.set_ylabel(\"Bias of Coin\", fontsize=16)\n",
    "ax.set_title(\"Manufactured Coin Bias (x)\", fontsize=16)\n",
    "plt.show()"
   ]
  },
  {
   "cell_type": "code",
   "execution_count": 20,
   "metadata": {},
   "outputs": [
    {
     "data": {
      "image/png": "[encoded data removed]",
      "text/plain": [
       "<Figure size 504x288 with 1 Axes>"
      ]
     },
     "metadata": {},
     "output_type": "display_data"
    }
   ],
   "source": [
    "x,y,x2 = [],[],[]\n",
    "for i in range(1,10):\n",
    "    x.append(((i/9)*(i/9))/(.5))\n",
    "    x2.append(((i/9)*(i/9))/(.71))\n",
    "    y.append(i/10)\n",
    "    \n",
    "fig, ax = plt.subplots(nrows=1, ncols=1, figsize=(7,4))\n",
    "plt.plot(x, y, color=\"darkred\", label='y prior')\n",
    "plt.plot(x2, y, color=\"darkred\", label='x prior', linestyle='--')\n",
    "plt.legend()\n",
    "ax.set_xlabel(\"Probability of Bias\", fontsize=16)\n",
    "ax.set_ylabel(\"Bias of Coin\", fontsize=16)\n",
    "ax.set_title(\"Manufactured Coin Bias (y)\", fontsize=16)\n",
    "plt.show()"
   ]
  },
  {
   "cell_type": "markdown",
   "metadata": {},
   "source": [
    "**Part E:**\n",
    "\n",
    "What is the name of the distribution that Stella's experiment is drawn from?"
   ]
  },
  {
   "cell_type": "markdown",
   "metadata": {},
   "source": [
    "Geometric Distribution"
   ]
  },
  {
   "cell_type": "markdown",
   "metadata": {},
   "source": [
    "<br>\n",
    "\n",
    "---\n",
    "[Back to Problem 2](#p2)\n",
    "\n",
    "<a id='footnote'></a> Yeah yeah - fresh water versus salt water - I know, I know. But sharknadoes also are not real, so..."
   ]
  }
 ],
 "metadata": {
  "kernelspec": {
   "display_name": "Python 3",
   "language": "python",
   "name": "python3"
  },
  "language_info": {
   "codemirror_mode": {
    "name": "ipython",
    "version": 3
   },
   "file_extension": ".py",
   "mimetype": "text/x-python",
   "name": "python",
   "nbconvert_exporter": "python",
   "pygments_lexer": "ipython3",
   "version": "3.6.5"
  }
 },
 "nbformat": 4,
 "nbformat_minor": 2
}
