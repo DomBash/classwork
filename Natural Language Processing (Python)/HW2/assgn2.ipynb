{
 "cells": [
  {
   "cell_type": "code",
   "execution_count": 146,
   "metadata": {},
   "outputs": [],
   "source": [
    "from collections import Counter\n",
    "import nltk\n",
    "import random\n",
    "import bisect"
   ]
  },
  {
   "cell_type": "code",
   "execution_count": 50,
   "metadata": {},
   "outputs": [],
   "source": [
    "#Read and format data\n",
    "text = open(\"berp-training.txt\").read()\n",
    "words = text.split()\n",
    "wordFreqs = Counter(words)\n",
    "wordValues = list(wordFreqs.values())\n",
    "\n",
    "#Replae freq 1 words with <unk>\n",
    "for i in range(len(words)):\n",
    "    if wordFreqs[words[i]] == 1:\n",
    "        words[i] = \"<unk>\"\n",
    "wordFreqs = Counter(words)\n",
    "\n",
    "total = sum(freqs.values())\n",
    "bigrams = list(nltk.bigrams(words))\n",
    "\n",
    "#Remove ('</s>', '<s>') bigrams\n",
    "for pair in bigrams:\n",
    "    if pair == ('</s>', '<s>'):\n",
    "        bigrams.remove(pair)\n",
    "        \n",
    "bigramFreqs = Counter(bigrams)\n",
    "        \n",
    "bigramTotal = len(bigrams)\n",
    "wordTotal = sum(wordFreqs.values())"
   ]
  },
  {
   "cell_type": "code",
   "execution_count": 120,
   "metadata": {},
   "outputs": [],
   "source": [
    "def unigramModel(sentence):\n",
    "    sentence = sentence.split()\n",
    "    prob = 1\n",
    "    for i in range(len(sentence)):\n",
    "        freq = wordFreqs[sentence[i]]\n",
    "        if freq == 0:#Check for unknown words\n",
    "            sentence[i] = \"<unk>\"\n",
    "        prob = prob * (wordFreqs[sentence[i]]/wordTotal)\n",
    "    return prob"
   ]
  },
  {
   "cell_type": "code",
   "execution_count": 130,
   "metadata": {},
   "outputs": [],
   "source": [
    "def bigramModel(sentence):\n",
    "    prob = 1\n",
    "    sentenceWords = sentence.split()\n",
    "    for i in range(len(sentenceWords)):        \n",
    "        freq = wordFreqs[sentenceWords[i]]\n",
    "        if freq == 0:#Check for unknown words\n",
    "            sentenceWords[i] = \"<unk>\"\n",
    "    sentenceBigrams = list(nltk.bigrams(sentenceWords))\n",
    "    for bigram in sentenceBigrams:\n",
    "        prob = prob * ((bigramFreqs[bigram]+1)/(wordFreqs[bigram[0]]+1)) #add-1 smoothing, bi count+1/prefix uni count+1\n",
    "    return prob"
   ]
  },
  {
   "cell_type": "code",
   "execution_count": 121,
   "metadata": {},
   "outputs": [
    {
     "data": {
      "text/plain": [
       "1.2304013676520618e-09"
      ]
     },
     "execution_count": 121,
     "metadata": {},
     "output_type": "execute_result"
    }
   ],
   "source": [
    "unigramModel(\"<s> i want food jay </s>\")"
   ]
  },
  {
   "cell_type": "code",
   "execution_count": 131,
   "metadata": {},
   "outputs": [
    {
     "data": {
      "text/plain": [
       "6.705102267922801e-07"
      ]
     },
     "execution_count": 131,
     "metadata": {},
     "output_type": "execute_result"
    }
   ],
   "source": [
    "bigramModel(\"<s> i want food jay </s>\")"
   ]
  },
  {
   "cell_type": "code",
   "execution_count": 241,
   "metadata": {},
   "outputs": [],
   "source": [
    "f = open('test-phrases.txt', \"r\")\n",
    "fu = open('assgn2-unigram-out.txt','a')\n",
    "fb = open('assgn2-bigram-out.txt','a')\n",
    "lines = f.readlines()\n",
    "for line in lines:\n",
    "    fu.write(str(unigramModel(line))+\"\\n\")\n",
    "    fb.write(str(bigramModel(line))+\"\\n\")\n",
    "f.close()\n",
    "fu.close()\n",
    "fb.close()"
   ]
  },
  {
   "cell_type": "code",
   "execution_count": 147,
   "metadata": {},
   "outputs": [],
   "source": [
    "def getSampleBins(wordprobs):\n",
    "    index = 0; bins = []\n",
    "    for w in wordprobs:\n",
    "        index += w\n",
    "        bins.append(index)\n",
    "    return bins\n",
    "\n",
    "def sampleWords(bins):\n",
    "    rndIndex = random.random()\n",
    "    return bisect.bisect(bins, rndIndex)"
   ]
  },
  {
   "cell_type": "code",
   "execution_count": 230,
   "metadata": {},
   "outputs": [],
   "source": [
    "def randBigram(): \n",
    "    currWord = \"<s>\"\n",
    "    senc = []\n",
    "    while currWord != \"</s>\":\n",
    "        nexts = []\n",
    "        wordprobs = []\n",
    "        for i in range(len(bigrams)):#Find every bigram with current word\n",
    "            if bigrams[i][0] == currWord:\n",
    "                nexts.append(i)\n",
    "        for i in range(len(nexts)):#Make list of probabilities for each possible next word\n",
    "            wordprobs.append(bigramFreqs[bigrams[nexts[i]]]/len(nexts))\n",
    "            \n",
    "        bins = getSampleBins(wordprobs)\n",
    "        currWord = bigrams[nexts[sampleWords(bins)]]#Randomly select next word based on probabilistic weight\n",
    "        senc.append(currWord)\n",
    "        currWord = currWord[1]\n",
    "    return senc"
   ]
  },
  {
   "cell_type": "code",
   "execution_count": 231,
   "metadata": {},
   "outputs": [
    {
     "data": {
      "text/plain": [
       "[('<s>', 'uh'),\n",
       " ('uh', 'i'),\n",
       " ('i', 'have'),\n",
       " ('have', 'dinner'),\n",
       " ('dinner', '</s>')]"
      ]
     },
     "execution_count": 231,
     "metadata": {},
     "output_type": "execute_result"
    }
   ],
   "source": [
    "randBigram()"
   ]
  },
  {
   "cell_type": "code",
   "execution_count": 225,
   "metadata": {},
   "outputs": [],
   "source": [
    "#Create random sentences and write to file\n",
    "n = 100 #Number of sentences\n",
    "file = open('assgn2-bigram-rand-corpus.txt','a')\n",
    "for i in range(n):\n",
    "    string = \"\"\n",
    "    sent = randBigram()\n",
    "    for i in range(len(sent)):\n",
    "        string += sent[i][0] + \" \"\n",
    "    string += \"</s>\" + \"\\n\"\n",
    "    file.write(string) \n",
    "file.close() "
   ]
  },
  {
   "cell_type": "code",
   "execution_count": null,
   "metadata": {},
   "outputs": [],
   "source": []
  }
 ],
 "metadata": {
  "kernelspec": {
   "display_name": "Python 3",
   "language": "python",
   "name": "python3"
  },
  "language_info": {
   "codemirror_mode": {
    "name": "ipython",
    "version": 3
   },
   "file_extension": ".py",
   "mimetype": "text/x-python",
   "name": "python",
   "nbconvert_exporter": "python",
   "pygments_lexer": "ipython3",
   "version": "3.6.5"
  }
 },
 "nbformat": 4,
 "nbformat_minor": 2
}
