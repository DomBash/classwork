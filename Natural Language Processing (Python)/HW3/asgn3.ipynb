{
 "cells": [
  {
   "cell_type": "code",
   "execution_count": 1,
   "metadata": {},
   "outputs": [],
   "source": [
    "from collections import Counter\n",
    "import nltk\n",
    "import random\n",
    "import bisect\n",
    "import math"
   ]
  },
  {
   "cell_type": "code",
   "execution_count": 43,
   "metadata": {},
   "outputs": [],
   "source": [
    "#Read and format data\n",
    "ptext = open(\"hotelPosT-train.txt\").read()\n",
    "pwords = ptext.split()\n",
    "pwordFreqs = Counter(pwords)\n",
    "pwordValues = list(pwordFreqs.values())\n",
    "\n",
    "#Replae freq 1 words with <unk>\n",
    "for i in range(len(pwords)):\n",
    "    if pwordFreqs[pwords[i]] == 1:\n",
    "        pwords[i] = \"<unk>\"\n",
    "pwordFreqs = Counter(pwords)\n",
    "\n",
    "ptotal = sum(pwordFreqs.values())\n",
    "pwordTotal = sum(pwordFreqs.values())"
   ]
  },
  {
   "cell_type": "code",
   "execution_count": 44,
   "metadata": {},
   "outputs": [],
   "source": [
    "#Read and format data\n",
    "ntext = open(\"hotelNegT-train.txt\",encoding=\"utf8\").read()\n",
    "nwords = ntext.split()\n",
    "nwordFreqs = Counter(nwords)\n",
    "nwordValues = list(nwordFreqs.values())\n",
    "\n",
    "#Replae freq 1 words with <unk>\n",
    "for i in range(len(nwords)):\n",
    "    if nwordFreqs[nwords[i]] == 1:\n",
    "        nwords[i] = \"<unk>\"\n",
    "nwordFreqs = Counter(nwords)\n",
    "\n",
    "ntotal = sum(nwordFreqs.values())\n",
    "nwordTotal = sum(nwordFreqs.values())\n",
    "\n",
    "Ndoc = len(nwords) + len(pwords)"
   ]
  },
  {
   "cell_type": "code",
   "execution_count": 41,
   "metadata": {},
   "outputs": [],
   "source": [
    "def punigramModel(sentence):\n",
    "    sentence = sentence.split()\n",
    "    prob = 1\n",
    "    for i in range(len(sentence)):\n",
    "        freq = pwordFreqs[sentence[i]]\n",
    "        if freq == 0:#Check for unknown words\n",
    "            sentence[i] = \"<unk>\"\n",
    "        prob = prob * math.log((pwordFreqs[sentence[i]] +1)/(Ndoc+1))\n",
    "    return prob"
   ]
  },
  {
   "cell_type": "code",
   "execution_count": 42,
   "metadata": {},
   "outputs": [],
   "source": [
    "def nunigramModel(sentence):\n",
    "    sentence = sentence.split()\n",
    "    prob = 1\n",
    "    for i in range(len(sentence)):\n",
    "        freq = nwordFreqs[sentence[i]]\n",
    "        if freq == 0:#Check for unknown words\n",
    "            sentence[i] = \"<unk>\"\n",
    "        prob = prob * math.log((nwordFreqs[sentence[i]]+1)/(Ndoc+1))\n",
    "    return prob"
   ]
  },
  {
   "cell_type": "code",
   "execution_count": 45,
   "metadata": {},
   "outputs": [
    {
     "name": "stdout",
     "output_type": "stream",
     "text": [
      "p 8.671418741578656e+35\n",
      "n 9.784662723460088e+31\n",
      "p\n"
     ]
    }
   ],
   "source": [
    "sent = \"The Beachcomber Resort & Villas is what makes South Florida, South Florida. The moment I walked in I was taken back by the beautiful decor, and greeted by friendly staff. I was able to check in quickly, and with no hassle. The room was more amazing then expected!\"\n",
    "p = punigramModel(sent)\n",
    "n = nunigramModel(sent)\n",
    "print(\"p\",p)\n",
    "print(\"n\",n)\n",
    "if p > n:\n",
    "    print(\"p\")\n",
    "else:\n",
    "    print(\"n\")"
   ]
  },
  {
   "cell_type": "code",
   "execution_count": 46,
   "metadata": {},
   "outputs": [
    {
     "name": "stdout",
     "output_type": "stream",
     "text": [
      "26 24\n"
     ]
    }
   ],
   "source": [
    "f = open(\"hw3-testset.txt\",encoding=\"utf8\")\n",
    "fout = open('assgn3-out-3.txt','w')\n",
    "ncount = 0\n",
    "pcount = 0\n",
    "for testSent in f:\n",
    "    if punigramModel(testSent) > nunigramModel(testSent):\n",
    "        testSent = testSent.split()\n",
    "        lineID = testSent[0]\n",
    "        pcount += 1\n",
    "        fout.write(lineID + \"\\t\" + \"POS\" + \"\\n\")\n",
    "    else:\n",
    "        testSent = testSent.split()\n",
    "        lineID = testSent[0]\n",
    "        ncount += 1\n",
    "        fout.write(lineID + \"\\t\" + \"NEG\" + \"\\n\")\n",
    "print(ncount,pcount)\n",
    "f.close()"
   ]
  },
  {
   "cell_type": "code",
   "execution_count": null,
   "metadata": {},
   "outputs": [],
   "source": []
  }
 ],
 "metadata": {
  "kernelspec": {
   "display_name": "Python 3",
   "language": "python",
   "name": "python3"
  },
  "language_info": {
   "codemirror_mode": {
    "name": "ipython",
    "version": 3
   },
   "file_extension": ".py",
   "mimetype": "text/x-python",
   "name": "python",
   "nbconvert_exporter": "python",
   "pygments_lexer": "ipython3",
   "version": "3.6.5"
  }
 },
 "nbformat": 4,
 "nbformat_minor": 2
}
